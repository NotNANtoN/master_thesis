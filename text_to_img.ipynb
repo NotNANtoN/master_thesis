{
 "cells": [
  {
   "cell_type": "code",
   "execution_count": null,
   "id": "68bf570a-32aa-42bc-beab-3642a0246092",
   "metadata": {},
   "outputs": [],
   "source": [
    "!gpustat"
   ]
  },
  {
   "cell_type": "code",
   "execution_count": null,
   "id": "1423576f-574c-4fcd-b39c-e2425cbbb492",
   "metadata": {},
   "outputs": [],
   "source": [
    "import os\n",
    "import pandas as pd\n",
    "from PIL import Image\n",
    "import numpy as np\n",
    "\n",
    "os.environ[\"CUDA_VISIBLE_DEVICES\"] = \"0\""
   ]
  },
  {
   "cell_type": "code",
   "execution_count": null,
   "id": "63850239-3d38-4e13-bee3-e093113afdad",
   "metadata": {},
   "outputs": [],
   "source": [
    "from dataset_utils import load_dataset\n",
    "\n",
    "dataset_name = \"mimic-cxr\"\n",
    "df, label_names = load_dataset(dataset_name)"
   ]
  },
  {
   "cell_type": "code",
   "execution_count": null,
   "id": "8844dcc9-7646-4df2-9f8e-6a9c8315126c",
   "metadata": {},
   "outputs": [],
   "source": [
    "from clip_utils import get_clip_img_caption_features\n",
    "\n",
    "img_features, caption_features = get_clip_img_caption_features(df, \"ViT-B_16\", None, dataset_name)"
   ]
  },
  {
   "cell_type": "code",
   "execution_count": null,
   "id": "7855f096-d898-4f4b-b960-6266112f0ce1",
   "metadata": {},
   "outputs": [],
   "source": [
    "import sys\n",
    "sys.path.append(\"../CLIPGuidance/\")\n",
    "\n",
    "import importlib\n",
    "import style_clip\n",
    "importlib.reload(style_clip)\n",
    "import style_clip\n",
    "from style_clip import Imagine"
   ]
  },
  {
   "cell_type": "code",
   "execution_count": null,
   "id": "566467c2-fa3b-4402-999d-893e05a0f0a7",
   "metadata": {},
   "outputs": [],
   "source": [
    "net = \"image\"\n",
    "\n",
    "if net == \"dip\":\n",
    "    kwargs = {\"model_type\": \"dip\",\n",
    "              \"lr\": 0.0003,\n",
    "              \"dip_num_scales\": 5,\n",
    "              \"stack_size\": 3,\n",
    "             }\n",
    "elif net == \"image\":\n",
    "    kwargs = {\"model_type\": \"image\",\n",
    "              \"lr\": 0.03,\n",
    "              \"stack_size\": 8,\n",
    "             }\n",
    "elif net == \"vqgan\":\n",
    "    kwargs = {\"model_type\": \"vqgan\",\n",
    "              \"lr\": 0.1,\n",
    "              \"stack_size\": 1,\n",
    "             }\n",
    "    \n",
    "kwargs[\"lpips_image\"] = None #df[\"img_path\"].iloc[0]\n",
    "kwargs[\"lpips_weight\"] = 1000\n",
    "kwargs[\"lpips_batch_size\"] = 8\n",
    "kwargs[\"use_mixed_precision\"] = False\n",
    "\n",
    "\n",
    "imagine = Imagine(save_gif=False, save_video=False, save_progress=False, verbose=False,\n",
    "                          sideX = 256, \n",
    "                          sideY = 256,\n",
    "                          batch_size=8,\n",
    "                          #clip_models=[self.model],\n",
    "                          clip_names=('ViT-B/16',),\n",
    "                          grayscale=True,\n",
    "                          tv_loss_scale=1.0,\n",
    "                          seed=42,\n",
    "                          use_russell_transform=1,\n",
    "                          optimizer=\"AdamW\",#\"MADGRAD\",\n",
    "                          **kwargs\n",
    "                         )"
   ]
  },
  {
   "cell_type": "code",
   "execution_count": null,
   "id": "4ae04393-9102-4ba1-8066-800b78b4694f",
   "metadata": {},
   "outputs": [],
   "source": [
    "target_img = None #Image.open(df[\"img_path\"].iloc[0]).convert(\"RGB\")\n",
    "text = \"An X-ray scan of the chest of a person with consolidation\" #df[\"caption\"].iloc[0]\n",
    "encoding = None #[img_features.mean(dim=0).to(imagine.device)] #caption_features.mean(dim=0).to(imagine.device)\n",
    "display(target_img)\n",
    "print(text)"
   ]
  },
  {
   "cell_type": "code",
   "execution_count": null,
   "id": "20e3472a-fe00-44f0-8225-5addcca02fc4",
   "metadata": {},
   "outputs": [],
   "source": [
    "from tqdm.auto import tqdm\n",
    "import matplotlib.pyplot as plt\n",
    "from torchvision.transforms import ToPILImage\n",
    "from IPython.display import display\n",
    "\n",
    "steps = 100\n",
    "\n",
    "to_pil = ToPILImage()\n",
    "\n",
    "imagine.reset()\n",
    "imagine.set_clip_encoding(img=target_img, text=text, encoding=encoding)\n",
    "\n",
    "losses = []\n",
    "pbar = tqdm(range(steps))\n",
    "for i in pbar:\n",
    "    img, loss = imagine.train_step(0, 0)\n",
    "    loss = loss.cpu().item()\n",
    "    losses.append(loss)\n",
    "    pbar.set_description(str(round(loss, 1)))\n",
    "    if i % (steps // 5) == 0:\n",
    "        display(to_pil(img.squeeze()))\n",
    "p = plt.plot(losses)"
   ]
  },
  {
   "cell_type": "code",
   "execution_count": null,
   "id": "baab5eb3-49f6-4ce1-989f-518a0a40010e",
   "metadata": {},
   "outputs": [],
   "source": [
    "pil_img = to_pil(img.squeeze())\n",
    "print(np.min(pil_img), np.max(pil_img))\n",
    "display(pil_img)"
   ]
  },
  {
   "cell_type": "code",
   "execution_count": null,
   "id": "cc79feb8-e19e-479e-8ef1-30bea4560c6c",
   "metadata": {},
   "outputs": [],
   "source": [
    "pil_img = to_pil(img.squeeze())\n",
    "print(np.min(pil_img), np.max(pil_img))\n",
    "display(pil_img)"
   ]
  },
  {
   "cell_type": "code",
   "execution_count": null,
   "id": "ce0b2d90-f56d-4a1e-816c-3b91e2e848c9",
   "metadata": {},
   "outputs": [],
   "source": [
    "pil_img = to_pil(img.squeeze())\n",
    "print(np.min(pil_img), np.max(pil_img))\n",
    "display(pil_img)"
   ]
  },
  {
   "cell_type": "code",
   "execution_count": null,
   "id": "abf79137-67e5-46de-8d27-16b8e266520d",
   "metadata": {},
   "outputs": [],
   "source": [
    "pil_img = to_pil(img.squeeze())\n",
    "print(np.min(pil_img), np.max(pil_img))\n",
    "display(pil_img)"
   ]
  },
  {
   "cell_type": "code",
   "execution_count": null,
   "id": "6116b0db-e78b-44c0-a25b-8dd16eae0e6a",
   "metadata": {},
   "outputs": [],
   "source": [
    "pil_img = to_pil(img.squeeze())\n",
    "print(np.min(pil_img), np.max(pil_img))\n",
    "display(pil_img)"
   ]
  },
  {
   "cell_type": "code",
   "execution_count": null,
   "id": "ec9e01cf-3269-4782-9959-dba98442a683",
   "metadata": {},
   "outputs": [],
   "source": [
    "pil_img = to_pil(img.squeeze())\n",
    "print(np.min(pil_img), np.max(pil_img))\n",
    "display(pil_img)"
   ]
  },
  {
   "cell_type": "code",
   "execution_count": null,
   "id": "2577e0cf-45f4-419b-b3f0-6a98bc84e9fa",
   "metadata": {},
   "outputs": [],
   "source": [
    "pil_img = to_pil(img.squeeze())\n",
    "print(np.min(pil_img), np.max(pil_img))\n",
    "display(pil_img)"
   ]
  },
  {
   "cell_type": "code",
   "execution_count": null,
   "id": "3bb8996f-c2a5-4fd9-939b-a965519bacfd",
   "metadata": {},
   "outputs": [],
   "source": [
    "pil_img = to_pil(img.squeeze())\n",
    "print(np.min(pil_img), np.max(pil_img))\n",
    "display(pil_img)"
   ]
  },
  {
   "cell_type": "code",
   "execution_count": null,
   "id": "61294e50-c163-45e7-ad57-7c9013d60c6c",
   "metadata": {},
   "outputs": [],
   "source": [
    "pil_img = to_pil(img.squeeze())\n",
    "print(np.min(pil_img), np.max(pil_img))\n",
    "display(pil_img)"
   ]
  },
  {
   "cell_type": "code",
   "execution_count": null,
   "id": "741d9164-2596-423a-9fe7-67fe2bdd6ad3",
   "metadata": {},
   "outputs": [],
   "source": [
    "pil_img = to_pil(img.squeeze())\n",
    "print(np.min(pil_img), np.max(pil_img))\n",
    "display(pil_img)"
   ]
  },
  {
   "cell_type": "code",
   "execution_count": null,
   "id": "4d8293b0-32e5-46bd-a314-4131f16b5589",
   "metadata": {},
   "outputs": [],
   "source": [
    "pil_img = to_pil(img.squeeze())\n",
    "print(np.min(pil_img), np.max(pil_img))\n",
    "display(pil_img)"
   ]
  },
  {
   "cell_type": "code",
   "execution_count": null,
   "id": "bde7d2f0-5841-4a13-8c62-71168b181c08",
   "metadata": {},
   "outputs": [],
   "source": [
    "pil_img = to_pil(img.squeeze())\n",
    "print(np.min(pil_img), np.max(pil_img))\n",
    "display(pil_img)"
   ]
  },
  {
   "cell_type": "code",
   "execution_count": null,
   "id": "2510418d-8ca5-4828-8b6f-4ae976d4c4c5",
   "metadata": {},
   "outputs": [],
   "source": [
    "pil_img = to_pil(img.squeeze())\n",
    "print(np.min(pil_img), np.max(pil_img))\n",
    "display(pil_img)"
   ]
  },
  {
   "cell_type": "code",
   "execution_count": null,
   "id": "ef54d071-566d-4ecd-abdf-423712bfb903",
   "metadata": {},
   "outputs": [],
   "source": [
    "pil_img = to_pil(img.squeeze())\n",
    "print(np.min(pil_img), np.max(pil_img))\n",
    "display(pil_img)"
   ]
  },
  {
   "cell_type": "code",
   "execution_count": null,
   "id": "b2c3631d-492d-4bdb-a383-488d369b18c0",
   "metadata": {},
   "outputs": [],
   "source": [
    "pil_img = to_pil(img.squeeze())\n",
    "print(np.min(pil_img), np.max(pil_img))\n",
    "display(pil_img)"
   ]
  },
  {
   "cell_type": "code",
   "execution_count": null,
   "id": "18962385-b1c8-43ab-8fa5-b41c4e28efe7",
   "metadata": {},
   "outputs": [],
   "source": [
    "pil_img = to_pil(img.squeeze())\n",
    "print(np.min(pil_img), np.max(pil_img))\n",
    "display(pil_img)"
   ]
  },
  {
   "cell_type": "code",
   "execution_count": null,
   "id": "1621d830-9f5a-4a07-81fe-0b69a52be477",
   "metadata": {},
   "outputs": [],
   "source": [
    "from torchvision.transforms import ToPILImage\n",
    "from IPython.display import display\n",
    "\n",
    "to_pil = ToPILImage()\n",
    "pil_img = to_pil(img.squeeze())\n",
    "print(np.min(pil_img), np.max(pil_img))\n",
    "display(pil_img)"
   ]
  },
  {
   "cell_type": "code",
   "execution_count": null,
   "id": "0f5460f6-4a16-48a4-aeff-2b3d6004acd2",
   "metadata": {},
   "outputs": [],
   "source": [
    "from torchvision.transforms import ToPILImage\n",
    "from IPython.display import display\n",
    "\n",
    "to_pil = ToPILImage()\n",
    "pil_img = to_pil(img.squeeze())\n",
    "print(np.min(pil_img), np.max(pil_img))\n",
    "display(pil_img)"
   ]
  },
  {
   "cell_type": "code",
   "execution_count": null,
   "id": "33a9be29-9ae6-48d4-93db-c3fed3f2cd8c",
   "metadata": {},
   "outputs": [],
   "source": [
    "from torchvision.transforms import ToPILImage\n",
    "from IPython.display import display\n",
    "\n",
    "to_pil = ToPILImage()\n",
    "pil_img = to_pil(img.squeeze())\n",
    "print(np.min(pil_img), np.max(pil_img))\n",
    "display(pil_img)"
   ]
  },
  {
   "cell_type": "code",
   "execution_count": null,
   "id": "fad7cb69-9b64-45a9-8605-4f5ba7470aa8",
   "metadata": {},
   "outputs": [],
   "source": [
    "from torchvision.transforms import ToPILImage\n",
    "from IPython.display import display\n",
    "\n",
    "to_pil = ToPILImage()\n",
    "pil_img = to_pil(img.squeeze())\n",
    "print(np.min(pil_img), np.max(pil_img))\n",
    "display(pil_img)"
   ]
  },
  {
   "cell_type": "code",
   "execution_count": null,
   "id": "21e7531a-160c-4379-9ab0-0869701b93f6",
   "metadata": {},
   "outputs": [],
   "source": [
    "from torchvision.transforms import ToPILImage\n",
    "from IPython.display import display\n",
    "\n",
    "to_pil = ToPILImage()\n",
    "pil_img = to_pil(img.squeeze())\n",
    "print(np.min(pil_img), np.max(pil_img))\n",
    "display(pil_img)"
   ]
  },
  {
   "cell_type": "code",
   "execution_count": null,
   "id": "59c7116e-fbf2-405e-9a03-3352575da285",
   "metadata": {},
   "outputs": [],
   "source": [
    "from torchvision.transforms import ToPILImage\n",
    "from IPython.display import display\n",
    "\n",
    "to_pil = ToPILImage()\n",
    "pil_img = to_pil(img.squeeze())\n",
    "print(np.min(pil_img), np.max(pil_img))\n",
    "display(pil_img)"
   ]
  },
  {
   "cell_type": "code",
   "execution_count": null,
   "id": "ad8c234f-80b5-4383-a2dd-334b96220c7e",
   "metadata": {},
   "outputs": [],
   "source": [
    "from torchvision.transforms import ToPILImage\n",
    "from IPython.display import display\n",
    "\n",
    "to_pil = ToPILImage()\n",
    "pil_img = to_pil(img.squeeze())\n",
    "print(np.min(pil_img), np.max(pil_img))\n",
    "display(pil_img)"
   ]
  },
  {
   "cell_type": "code",
   "execution_count": null,
   "id": "351b9f96-b258-46f7-9580-fc5c58937187",
   "metadata": {},
   "outputs": [],
   "source": [
    "from torchvision.transforms import ToPILImage\n",
    "from IPython.display import display\n",
    "\n",
    "to_pil = ToPILImage()\n",
    "pil_img = to_pil(img.squeeze())\n",
    "print(np.min(pil_img), np.max(pil_img))\n",
    "display(pil_img)"
   ]
  },
  {
   "cell_type": "code",
   "execution_count": null,
   "id": "d780d62d-9391-47cd-a79f-c39c14f6531e",
   "metadata": {},
   "outputs": [],
   "source": [
    "from torchvision.transforms import ToPILImage\n",
    "from IPython.display import display\n",
    "\n",
    "to_pil = ToPILImage()\n",
    "pil_img = to_pil(img.squeeze())\n",
    "print(np.min(pil_img), np.max(pil_img))\n",
    "display(pil_img)"
   ]
  },
  {
   "cell_type": "code",
   "execution_count": null,
   "id": "73c237eb-60d9-4197-a9fa-dafc4395ccfa",
   "metadata": {},
   "outputs": [],
   "source": [
    "from torchvision.transforms import ToPILImage\n",
    "from IPython.display import display\n",
    "\n",
    "to_pil = ToPILImage()\n",
    "pil_img = to_pil(img.squeeze())\n",
    "print(np.min(pil_img), np.max(pil_img))\n",
    "display(pil_img)"
   ]
  },
  {
   "cell_type": "code",
   "execution_count": null,
   "id": "5692a72b-f37a-4eb7-8e46-2c293968bfba",
   "metadata": {},
   "outputs": [],
   "source": [
    "from torchvision.transforms import ToPILImage\n",
    "from IPython.display import display\n",
    "\n",
    "to_pil = ToPILImage()\n",
    "pil_img = to_pil(img.squeeze())\n",
    "print(np.min(pil_img), np.max(pil_img))\n",
    "display(pil_img)"
   ]
  },
  {
   "cell_type": "code",
   "execution_count": null,
   "id": "4d2da335-1630-4621-bee8-c4eb85adc17d",
   "metadata": {},
   "outputs": [],
   "source": [
    "from torchvision.transforms import ToPILImage\n",
    "from IPython.display import display\n",
    "\n",
    "to_pil = ToPILImage()\n",
    "pil_img = to_pil(img.squeeze())\n",
    "print(np.min(pil_img), np.max(pil_img))\n",
    "display(pil_img)"
   ]
  },
  {
   "cell_type": "code",
   "execution_count": null,
   "id": "abda3b73-a2ce-4e04-9554-37435078d4df",
   "metadata": {},
   "outputs": [],
   "source": [
    "from torchvision.transforms import ToPILImage\n",
    "from IPython.display import display\n",
    "\n",
    "to_pil = ToPILImage()\n",
    "pil_img = to_pil(img.squeeze())\n",
    "print(np.min(pil_img), np.max(pil_img))\n",
    "display(pil_img)"
   ]
  },
  {
   "cell_type": "code",
   "execution_count": null,
   "id": "632da06b-cad0-4ff4-982a-1f58af28d190",
   "metadata": {},
   "outputs": [],
   "source": [
    "from torchvision.transforms import ToPILImage\n",
    "from IPython.display import display\n",
    "\n",
    "to_pil = ToPILImage()\n",
    "pil_img = to_pil(img.squeeze())\n",
    "print(np.min(pil_img), np.max(pil_img))\n",
    "display(pil_img)"
   ]
  },
  {
   "cell_type": "code",
   "execution_count": null,
   "id": "ee48d169-b54c-4d5e-92aa-cfed82ada84c",
   "metadata": {},
   "outputs": [],
   "source": [
    "from torchvision.transforms import ToPILImage\n",
    "from IPython.display import display\n",
    "\n",
    "to_pil = ToPILImage()\n",
    "pil_img = to_pil(img.squeeze())\n",
    "print(np.min(pil_img), np.max(pil_img))\n",
    "display(pil_img)"
   ]
  },
  {
   "cell_type": "code",
   "execution_count": null,
   "id": "68cbb1f8-2609-4064-a401-45c41e908ec1",
   "metadata": {},
   "outputs": [],
   "source": [
    "from torchvision.transforms import ToPILImage\n",
    "from IPython.display import display\n",
    "\n",
    "to_pil = ToPILImage()\n",
    "pil_img = to_pil(img.squeeze())\n",
    "print(np.min(pil_img), np.max(pil_img))\n",
    "display(pil_img)"
   ]
  },
  {
   "cell_type": "code",
   "execution_count": null,
   "id": "20a37d73-77d0-4ff4-8191-35998817aef8",
   "metadata": {},
   "outputs": [],
   "source": [
    "from torchvision.transforms import ToPILImage\n",
    "from IPython.display import display\n",
    "\n",
    "to_pil = ToPILImage()\n",
    "pil_img = to_pil(img.squeeze())\n",
    "print(np.min(pil_img), np.max(pil_img))\n",
    "display(pil_img)"
   ]
  },
  {
   "cell_type": "code",
   "execution_count": null,
   "id": "45ae9278-c894-42de-93eb-e4aaf7e0bfa6",
   "metadata": {},
   "outputs": [],
   "source": [
    "from torchvision.transforms import ToPILImage\n",
    "from IPython.display import display\n",
    "\n",
    "to_pil = ToPILImage()\n",
    "display(to_pil(img.squeeze()))"
   ]
  },
  {
   "cell_type": "code",
   "execution_count": null,
   "id": "502ee436-1814-4c73-bbc8-108a293b6084",
   "metadata": {},
   "outputs": [],
   "source": [
    "from torchvision.transforms import ToPILImage\n",
    "from IPython.display import display\n",
    "\n",
    "to_pil = ToPILImage()\n",
    "display(to_pil(img.squeeze()))"
   ]
  },
  {
   "cell_type": "code",
   "execution_count": null,
   "id": "536ed509-334f-4a58-8328-ee7f44fc81f9",
   "metadata": {},
   "outputs": [],
   "source": [
    "from torchvision.transforms import ToPILImage\n",
    "from IPython.display import display\n",
    "\n",
    "to_pil = ToPILImage()\n",
    "display(to_pil(img.squeeze()))"
   ]
  },
  {
   "cell_type": "code",
   "execution_count": null,
   "id": "ad9fb299-c898-42e1-8e51-c9b889a405e7",
   "metadata": {},
   "outputs": [],
   "source": [
    "from torchvision.transforms import ToPILImage\n",
    "from IPython.display import display\n",
    "\n",
    "to_pil = ToPILImage()\n",
    "display(to_pil(img.squeeze()))"
   ]
  },
  {
   "cell_type": "code",
   "execution_count": null,
   "id": "7c3f8678-5dcd-49f7-b00e-aaeca0a8605e",
   "metadata": {},
   "outputs": [],
   "source": [
    "from torchvision.transforms import ToPILImage\n",
    "from IPython.display import display\n",
    "\n",
    "to_pil = ToPILImage()\n",
    "display(to_pil(img.squeeze()))"
   ]
  },
  {
   "cell_type": "code",
   "execution_count": null,
   "id": "546b3973-2136-4402-85f0-7381fa4f0245",
   "metadata": {},
   "outputs": [],
   "source": [
    "from torchvision.transforms import ToPILImage\n",
    "from IPython.display import display\n",
    "\n",
    "to_pil = ToPILImage()\n",
    "display(to_pil(img.squeeze()))"
   ]
  },
  {
   "cell_type": "code",
   "execution_count": null,
   "id": "ab446bb9-877e-4a21-a38d-05440b35fb2c",
   "metadata": {},
   "outputs": [],
   "source": [
    "from torchvision.transforms import ToPILImage\n",
    "from IPython.display import display\n",
    "\n",
    "to_pil = ToPILImage()\n",
    "display(to_pil(img.squeeze()))"
   ]
  },
  {
   "cell_type": "code",
   "execution_count": null,
   "id": "e597a8f1-c906-4f25-a480-276aef0f1b7a",
   "metadata": {},
   "outputs": [],
   "source": [
    "from torchvision.transforms import ToPILImage\n",
    "from IPython.display import display\n",
    "\n",
    "to_pil = ToPILImage()\n",
    "display(to_pil(img.squeeze()))"
   ]
  },
  {
   "cell_type": "code",
   "execution_count": null,
   "id": "ba71a447-4983-45f8-8d53-2130103b1bb3",
   "metadata": {},
   "outputs": [],
   "source": [
    "from torchvision.transforms import ToPILImage\n",
    "from IPython.display import display\n",
    "\n",
    "to_pil = ToPILImage()\n",
    "display(to_pil(img.squeeze()))"
   ]
  },
  {
   "cell_type": "code",
   "execution_count": null,
   "id": "95b76b24-027b-4391-b97a-6b50cdffec3c",
   "metadata": {},
   "outputs": [],
   "source": [
    "from torchvision.transforms import ToPILImage\n",
    "from IPython.display import display\n",
    "\n",
    "to_pil = ToPILImage()\n",
    "display(to_pil(img.squeeze()))"
   ]
  },
  {
   "cell_type": "code",
   "execution_count": null,
   "id": "be05e8c4-2ec8-4ed1-b19f-1d36ab220285",
   "metadata": {},
   "outputs": [],
   "source": []
  },
  {
   "cell_type": "code",
   "execution_count": null,
   "id": "638b79b0-3a00-4c22-a946-086545719b4f",
   "metadata": {},
   "outputs": [],
   "source": []
  },
  {
   "cell_type": "code",
   "execution_count": null,
   "id": "c2f9efa8-b456-4fc9-b1c0-6272dd0ed810",
   "metadata": {},
   "outputs": [],
   "source": []
  },
  {
   "cell_type": "code",
   "execution_count": null,
   "id": "ef36af06-4fa8-4f1e-83a1-40d8778e4709",
   "metadata": {},
   "outputs": [],
   "source": []
  }
 ],
 "metadata": {
  "kernelspec": {
   "display_name": "Python 3.8.10 64-bit",
   "language": "python",
   "name": "python3"
  },
  "language_info": {
   "codemirror_mode": {
    "name": "ipython",
    "version": 3
   },
   "file_extension": ".py",
   "mimetype": "text/x-python",
   "name": "python",
   "nbconvert_exporter": "python",
   "pygments_lexer": "ipython3",
   "version": "3.8.10"
  },
  "vscode": {
   "interpreter": {
    "hash": "31f2aee4e71d21fbe5cf8b01ff0e069b9275f58929596ceb00d14d90e3e16cd6"
   }
  }
 },
 "nbformat": 4,
 "nbformat_minor": 5
}
