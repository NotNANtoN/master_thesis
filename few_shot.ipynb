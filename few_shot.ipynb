{
 "cells": [
  {
   "cell_type": "markdown",
   "id": "983c0b39-9dc6-4bdd-ab87-6f13f95b0244",
   "metadata": {
    "tags": []
   },
   "source": [
    "# Feature-based classifiers"
   ]
  },
  {
   "cell_type": "code",
   "execution_count": null,
   "id": "42c5dbe1-f3cd-472b-9267-aa2b79a5f332",
   "metadata": {},
   "outputs": [],
   "source": [
    "import sklearn\n",
    "import xgboost"
   ]
  },
  {
   "cell_type": "code",
   "execution_count": null,
   "id": "96ce6f12-4a0b-44b7-a0e6-1a910f76d1e2",
   "metadata": {},
   "outputs": [],
   "source": [
    "label_dict = {label_names[i]: i for i in range(len(label_names))}  # assigns idx to each label\n",
    "dense_label_arr = np.zeros((len(label_strs), len(label_names)))\n",
    "for row, labels in zip(dense_label_arr, label_strs):\n",
    "    label_idcs = [label_dict[label] for label in labels]\n",
    "    row[label_idcs] = 1"
   ]
  },
  {
   "cell_type": "code",
   "execution_count": null,
   "id": "5b66223a-ab8b-49dd-b857-3d6eea4772b1",
   "metadata": {},
   "outputs": [],
   "source": [
    "train_mask = [i for i in range(len(img_ids)) if img_ids[i] in list(train_ids[0])]\n",
    "print(sum(train_mask))\n",
    "val_mask = [i for i in range(len(img_ids)) if img_ids[i] in list(val_ids[0])]\n",
    "print(sum(val_mask))\n",
    "test_mask = [i for i in range(len(img_ids)) if img_ids[i] in list(test_ids[0])]\n",
    "print(sum(test_mask))"
   ]
  },
  {
   "cell_type": "code",
   "execution_count": null,
   "id": "6d31dd8f-02f9-45db-91eb-db6e57891dd8",
   "metadata": {},
   "outputs": [],
   "source": [
    "train_clip_feats = img_features[train_mask]\n",
    "train_labels = dense_label_arr[train_mask]\n",
    "val_clip_feats = img_features[val_mask]\n",
    "val_labels = dense_label_arr[val_mask]\n",
    "test_clip_feats = img_features[test_mask]\n",
    "test_labels = dense_label_arr[test_mask]"
   ]
  },
  {
   "cell_type": "code",
   "execution_count": null,
   "id": "ee5386d8-1b82-4c74-b871-3b78b99aacfd",
   "metadata": {},
   "outputs": [],
   "source": [
    "from sklearn.preprocessing import StandardScaler\n",
    "\n",
    "def multilabel_acc(classifier, train_feats, train_labels, test_feats, test_labels, v=0):\n",
    "    scaler = StandardScaler()\n",
    "    train_feats = scaler.fit_transform(train_feats)\n",
    "    test_feats = scaler.transform(test_feats)\n",
    "    \n",
    "    accs = []\n",
    "    for label_idx in tqdm(range(train_labels.shape[1])):\n",
    "        classifier.fit(train_feats, train_labels[:, label_idx])\n",
    "\n",
    "        test_preds = classifier.predict(test_feats)\n",
    "        test_acc = (test_preds == test_labels[:, label_idx]).astype(float).mean()\n",
    "        mean_label = test_labels[:, label_idx].mean()\n",
    "        if v:\n",
    "            print(test_acc, mean_label if mean_label > 0.5 else 1 - mean_label)\n",
    "        accs.append(test_acc)\n",
    "    return accs"
   ]
  },
  {
   "cell_type": "code",
   "execution_count": null,
   "id": "e28c1a48-cabe-423b-830c-83ce875e2ce7",
   "metadata": {},
   "outputs": [],
   "source": [
    "from xgboost import XGBClassifier\n",
    "classifier = XGBClassifier(tree_method=\"gpu_hist\", eval_metric=\"error\", n_jobs=1)\n",
    "xgb_accs = multilabel_acc(classifier, \n",
    "                      train_clip_feats.numpy(), train_labels, \n",
    "                      test_clip_feats.numpy(), test_labels)\n",
    "print(np.mean(xgb_accs))"
   ]
  },
  {
   "cell_type": "code",
   "execution_count": null,
   "id": "0f8d96c9-5c2c-420b-b44f-4a5712eaa4c0",
   "metadata": {},
   "outputs": [],
   "source": [
    "from xgboost import XGBClassifier\n",
    "classifier = XGBClassifier(n_estimators=10,\n",
    "                           tree_method=\"gpu_hist\", eval_metric=\"error\", n_jobs=1)\n",
    "xgb_10_accs = multilabel_acc(classifier, \n",
    "                      train_clip_feats.numpy(), train_labels, \n",
    "                      test_clip_feats.numpy(), test_labels)\n",
    "print(np.mean(xgb_10_accs))"
   ]
  },
  {
   "cell_type": "code",
   "execution_count": null,
   "id": "62581b89-6369-40e0-9e42-f89fed8baaa6",
   "metadata": {},
   "outputs": [],
   "source": [
    "#solver{‘newton-cg’, ‘lbfgs’, ‘liblinear’, ‘sag’, ‘saga’}, default=’lbfgs’\n",
    "from sklearn.linear_model import LogisticRegression\n",
    "classifier = LogisticRegression(n_jobs=5, solver=\"lbfgs\")\n",
    "logreg_accs = multilabel_acc(classifier, \n",
    "                      train_clip_feats.numpy(), train_labels, \n",
    "                      test_clip_feats.numpy(), test_labels,\n",
    "                      v=0)\n",
    "print(np.mean(logreg_accs))"
   ]
  },
  {
   "cell_type": "code",
   "execution_count": null,
   "id": "e73bfeb7-2cbf-4f69-825b-b0f5e6242ff2",
   "metadata": {},
   "outputs": [],
   "source": [
    "baselines = []\n",
    "for l in test_labels:\n",
    "    mean = l.mean()\n",
    "    if mean < 0.5:\n",
    "        mean = 1 - mean\n",
    "    baselines.append(mean)\n",
    "np.mean(baselines)"
   ]
  },
  {
   "cell_type": "code",
   "execution_count": null,
   "id": "5499faff-2da4-4de8-9f80-35198a57e1dd",
   "metadata": {},
   "outputs": [],
   "source": []
  }
 ],
 "metadata": {
  "kernelspec": {
   "display_name": "Python 3 (ipykernel)",
   "language": "python",
   "name": "python3"
  },
  "language_info": {
   "codemirror_mode": {
    "name": "ipython",
    "version": 3
   },
   "file_extension": ".py",
   "mimetype": "text/x-python",
   "name": "python",
   "nbconvert_exporter": "python",
   "pygments_lexer": "ipython3",
   "version": "3.8.10"
  }
 },
 "nbformat": 4,
 "nbformat_minor": 5
}
