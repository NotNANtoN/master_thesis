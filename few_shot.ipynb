{
 "cells": [
  {
   "cell_type": "code",
   "execution_count": null,
   "id": "d87d3ffe-2f3e-493e-bed5-bf1eda40fcc1",
   "metadata": {},
   "outputs": [],
   "source": []
  },
  {
   "cell_type": "code",
   "execution_count": 1,
   "id": "f0dd8c6f-03bf-401e-ba75-e8968c9a046e",
   "metadata": {},
   "outputs": [
    {
     "name": "stderr",
     "output_type": "stream",
     "text": [
      "/srv/home/8wiehe/.local/lib/python3.8/site-packages/clip/clip.py:23: UserWarning: PyTorch version 1.7.1 or higher is recommended\n",
      "  warnings.warn(\"PyTorch version 1.7.1 or higher is recommended\")\n"
     ]
    },
    {
     "data": {
      "text/plain": [
       "Compose(\n",
       "    Resize(size=224, interpolation=bicubic, max_size=None, antialias=None)\n",
       "    CenterCrop(size=(224, 224))\n",
       "    <function _convert_image_to_rgb at 0x7f7278047af0>\n",
       "    ToTensor()\n",
       "    Normalize(mean=(0.48145466, 0.4578275, 0.40821073), std=(0.26862954, 0.26130258, 0.27577711))\n",
       ")"
      ]
     },
     "execution_count": 1,
     "metadata": {},
     "output_type": "execute_result"
    }
   ],
   "source": [
    "from clip_utils import load_clip\n",
    "\n",
    "    \n",
    "model, transform, clip_name = load_clip(\"ViT-B/16\", device=\"cpu\")\n",
    "transform"
   ]
  },
  {
   "cell_type": "code",
   "execution_count": 4,
   "id": "5b2e0fd2-86c4-4288-92fe-488e639918c8",
   "metadata": {},
   "outputs": [],
   "source": [
    "import os\n",
    "import pandas as pd\n",
    "from PIL import Image\n",
    "import numpy as np\n",
    "\n",
    "os.environ[\"CUDA_VISIBLE_DEVICES\"] = \"5\""
   ]
  },
  {
   "cell_type": "code",
   "execution_count": 5,
   "id": "3646b336-62c9-423a-a348-11df7224ac4e",
   "metadata": {},
   "outputs": [],
   "source": [
    "from dataset_utils import load_dataset\n",
    "\n",
    "dataset_name = \"mimic-cxr\"\n",
    "df, label_names = load_dataset(dataset_name)"
   ]
  },
  {
   "cell_type": "code",
   "execution_count": 6,
   "id": "a996860b-b3f9-49c4-a7cc-3132e0bb0da2",
   "metadata": {},
   "outputs": [
    {
     "name": "stderr",
     "output_type": "stream",
     "text": [
      "/srv/home/8wiehe/.local/lib/python3.8/site-packages/clip/clip.py:23: UserWarning: PyTorch version 1.7.1 or higher is recommended\n",
      "  warnings.warn(\"PyTorch version 1.7.1 or higher is recommended\")\n"
     ]
    }
   ],
   "source": [
    "from clip_utils import get_clip_img_caption_features\n",
    "\n",
    "img_features, caption_features = get_clip_img_caption_features(df, \"ViT-B_16\", None, dataset_name)"
   ]
  },
  {
   "cell_type": "markdown",
   "id": "983c0b39-9dc6-4bdd-ab87-6f13f95b0244",
   "metadata": {
    "tags": []
   },
   "source": [
    "# Feature-based classifiers"
   ]
  },
  {
   "cell_type": "code",
   "execution_count": 7,
   "id": "42c5dbe1-f3cd-472b-9267-aa2b79a5f332",
   "metadata": {},
   "outputs": [],
   "source": [
    "import sklearn\n",
    "import xgboost"
   ]
  },
  {
   "cell_type": "code",
   "execution_count": 8,
   "id": "6d31dd8f-02f9-45db-91eb-db6e57891dd8",
   "metadata": {},
   "outputs": [],
   "source": [
    "# create masks\n",
    "train_mask = (df[\"split\"] == \"train\").to_numpy()\n",
    "val_mask = (df[\"split\"] == \"validate\").to_numpy()\n",
    "test_mask = (df[\"split\"] == \"test\").to_numpy()\n",
    "# get feats\n",
    "train_clip_feats = img_features[train_mask]\n",
    "train_labels = np.stack(df[\"labels\"][train_mask].to_numpy())\n",
    "val_clip_feats = img_features[val_mask]\n",
    "val_labels = np.stack(df[\"labels\"][val_mask].to_numpy())\n",
    "test_clip_feats = img_features[test_mask]\n",
    "test_labels = np.stack(df[\"labels\"][test_mask].to_numpy())\n",
    "# set labels to 0\n",
    "train_labels[np.isnan(train_labels)] = 0\n",
    "val_labels[np.isnan(val_labels)] = 0\n",
    "test_labels[np.isnan(test_labels)] = 0\n",
    "train_labels[train_labels == -1] = 0\n",
    "val_labels[val_labels == -1] = 0\n",
    "test_labels[test_labels == -1] = 0\n",
    "# to int\n",
    "train_labels = train_labels.astype(int)\n",
    "val_labels = val_labels.astype(int)\n",
    "test_labels = test_labels.astype(int)"
   ]
  },
  {
   "cell_type": "code",
   "execution_count": 26,
   "id": "ee5386d8-1b82-4c74-b871-3b78b99aacfd",
   "metadata": {},
   "outputs": [],
   "source": [
    "from collections import defaultdict\n",
    "\n",
    "from sklearn.preprocessing import StandardScaler\n",
    "from sklearn.metrics import average_precision_score, roc_auc_score\n",
    "from tqdm.auto import tqdm\n",
    "\n",
    "\n",
    "def multilabel_acc(classifier, train_feats, train_labels, test_feats, test_labels, v=0, num_feats=None):\n",
    "    scaler = StandardScaler()\n",
    "    train_feats = scaler.fit_transform(train_feats)\n",
    "    test_feats = scaler.transform(test_feats)\n",
    "    \n",
    "    metrics = defaultdict(list)\n",
    "    \n",
    "    num_feats = num_feats if num_feats is not None else train_labels.shape[1]\n",
    "    for label_idx in tqdm(range(num_feats)):\n",
    "        train_labels_feat = train_labels[:, label_idx]\n",
    "        test_labels_feat = test_labels[:, label_idx]\n",
    "        \n",
    "        classifier.fit(train_feats, train_labels_feat)\n",
    "\n",
    "        test_preds_proba = classifier.predict_proba(test_feats)[:, 1]\n",
    "        test_preds = (test_preds_proba > 0.5).astype(float)\n",
    "        print(test_preds)\n",
    "        print(test_labels_feat)\n",
    "        test_acc = (test_preds == test_labels_feat).astype(float).mean()\n",
    "        majority_acc = test_labels[:, label_idx].mean()\n",
    "        if majority_acc < 0.5:\n",
    "            majority_acc = 1 - majority_acc\n",
    "        if v:\n",
    "            print(test_acc, mean_label if mean_label > 0.5 else 1 - mean_label)\n",
    "            \n",
    "        metrics[\"acc\"].append(test_acc)\n",
    "        metrics[\"majority_acc\"].append(majority_acc)\n",
    "        metrics[\"auc\"].append(roc_auc_score(test_labels_feat, test_preds_proba))\n",
    "        metrics[\"ap\"].append(average_precision_score(test_labels_feat, test_preds_proba))\n",
    "    return metrics"
   ]
  },
  {
   "cell_type": "code",
   "execution_count": 27,
   "id": "5de364f0-2021-4dda-98d4-fed134bfc472",
   "metadata": {},
   "outputs": [
    {
     "data": {
      "text/plain": [
       "array([0, 0, 0, ..., 0, 0, 0])"
      ]
     },
     "execution_count": 27,
     "metadata": {},
     "output_type": "execute_result"
    }
   ],
   "source": [
    "test_labels[:, 0]"
   ]
  },
  {
   "cell_type": "code",
   "execution_count": 28,
   "id": "87bccbc4-5b89-4294-b94e-0ddbb0d66cda",
   "metadata": {},
   "outputs": [
    {
     "data": {
      "text/plain": [
       "array([0.79957356, 0.75615429, 0.93680946, 0.81411126, 0.9612328 ,\n",
       "       0.96762939, 0.96084513, 0.69742198, 0.80926536, 0.70110487,\n",
       "       0.97693351, 0.89552239, 0.97208761, 0.71758093])"
      ]
     },
     "execution_count": 28,
     "metadata": {},
     "output_type": "execute_result"
    }
   ],
   "source": [
    "1 - test_labels.mean(axis=0)"
   ]
  },
  {
   "cell_type": "code",
   "execution_count": 29,
   "id": "59d7c086-5154-43ba-8ff6-e9a17deb587b",
   "metadata": {},
   "outputs": [
    {
     "data": {
      "text/plain": [
       "0.8547337523883366"
      ]
     },
     "execution_count": 29,
     "metadata": {},
     "output_type": "execute_result"
    }
   ],
   "source": [
    "(1 - test_labels.mean(axis=0)).mean()"
   ]
  },
  {
   "cell_type": "code",
   "execution_count": 30,
   "id": "0a077bf0-807d-4092-a523-19e4857d9c39",
   "metadata": {},
   "outputs": [
    {
     "data": {
      "text/plain": [
       "0.830845771145"
      ]
     },
     "execution_count": 30,
     "metadata": {},
     "output_type": "execute_result"
    }
   ],
   "source": [
    "1 - 0.169154228855"
   ]
  },
  {
   "cell_type": "code",
   "execution_count": 31,
   "id": "d8d837ae-5b26-421c-b163-6ed5e35693fd",
   "metadata": {},
   "outputs": [],
   "source": [
    "# majority acc calculation is broken"
   ]
  },
  {
   "cell_type": "code",
   "execution_count": 32,
   "id": "9527adc2-b85b-4338-89a0-06348ae87db4",
   "metadata": {},
   "outputs": [
    {
     "data": {
      "text/plain": [
       "array(['Atelectasis', 'Cardiomegaly', 'Consolidation', 'Edema',\n",
       "       'Enlarged Cardiomediastinum', 'Fracture', 'Lung Lesion',\n",
       "       'Lung Opacity', 'No Finding', 'Pleural Effusion', 'Pleural Other',\n",
       "       'Pneumonia', 'Pneumothorax', 'Support Devices'], dtype='<U26')"
      ]
     },
     "execution_count": 32,
     "metadata": {},
     "output_type": "execute_result"
    }
   ],
   "source": [
    "label_names"
   ]
  },
  {
   "cell_type": "code",
   "execution_count": 33,
   "id": "e28c1a48-cabe-423b-830c-83ce875e2ce7",
   "metadata": {},
   "outputs": [
    {
     "data": {
      "application/vnd.jupyter.widget-view+json": {
       "model_id": "c44d774c54db409ab270c6fc5b5c2297",
       "version_major": 2,
       "version_minor": 0
      },
      "text/plain": [
       "  0%|          | 0/3 [00:00<?, ?it/s]"
      ]
     },
     "metadata": {},
     "output_type": "display_data"
    },
    {
     "name": "stdout",
     "output_type": "stream",
     "text": [
      "[0. 0. 0. ... 0. 0. 0.]\n",
      "[0 0 0 ... 0 0 0]\n"
     ]
    },
    {
     "name": "stderr",
     "output_type": "stream",
     "text": [
      "/tmp/ipykernel_3354679/678238906.py:26: DeprecationWarning: elementwise comparison failed; this will raise an error in the future.\n",
      "  test_acc = (test_preds == test_labels_feat).astype(float).mean()\n"
     ]
    },
    {
     "ename": "AttributeError",
     "evalue": "'bool' object has no attribute 'astype'",
     "output_type": "error",
     "traceback": [
      "\u001b[0;31m---------------------------------------------------------------------------\u001b[0m",
      "\u001b[0;31mAttributeError\u001b[0m                            Traceback (most recent call last)",
      "\u001b[0;32m/tmp/ipykernel_3354679/2502356791.py\u001b[0m in \u001b[0;36m<module>\u001b[0;34m\u001b[0m\n\u001b[1;32m      1\u001b[0m \u001b[0;32mfrom\u001b[0m \u001b[0mxgboost\u001b[0m \u001b[0;32mimport\u001b[0m \u001b[0mXGBClassifier\u001b[0m\u001b[0;34m\u001b[0m\u001b[0;34m\u001b[0m\u001b[0m\n\u001b[1;32m      2\u001b[0m \u001b[0mclassifier\u001b[0m \u001b[0;34m=\u001b[0m \u001b[0mXGBClassifier\u001b[0m\u001b[0;34m(\u001b[0m\u001b[0mtree_method\u001b[0m\u001b[0;34m=\u001b[0m\u001b[0;34m\"gpu_hist\"\u001b[0m\u001b[0;34m,\u001b[0m \u001b[0meval_metric\u001b[0m\u001b[0;34m=\u001b[0m\u001b[0;34m\"error\"\u001b[0m\u001b[0;34m,\u001b[0m \u001b[0mn_jobs\u001b[0m\u001b[0;34m=\u001b[0m\u001b[0;36m1\u001b[0m\u001b[0;34m,\u001b[0m \u001b[0muse_label_encoder\u001b[0m\u001b[0;34m=\u001b[0m\u001b[0;32mFalse\u001b[0m\u001b[0;34m)\u001b[0m\u001b[0;34m\u001b[0m\u001b[0;34m\u001b[0m\u001b[0m\n\u001b[0;32m----> 3\u001b[0;31m metrics = multilabel_acc(classifier, \n\u001b[0m\u001b[1;32m      4\u001b[0m                       \u001b[0mtrain_clip_feats\u001b[0m\u001b[0;34m.\u001b[0m\u001b[0mnumpy\u001b[0m\u001b[0;34m(\u001b[0m\u001b[0;34m)\u001b[0m\u001b[0;34m,\u001b[0m \u001b[0mtrain_labels\u001b[0m\u001b[0;34m,\u001b[0m\u001b[0;34m\u001b[0m\u001b[0;34m\u001b[0m\u001b[0m\n\u001b[1;32m      5\u001b[0m                       \u001b[0mval_clip_feats\u001b[0m\u001b[0;34m.\u001b[0m\u001b[0mnumpy\u001b[0m\u001b[0;34m(\u001b[0m\u001b[0;34m)\u001b[0m\u001b[0;34m,\u001b[0m \u001b[0mtest_labels\u001b[0m\u001b[0;34m,\u001b[0m\u001b[0;34m\u001b[0m\u001b[0;34m\u001b[0m\u001b[0m\n",
      "\u001b[0;32m/tmp/ipykernel_3354679/678238906.py\u001b[0m in \u001b[0;36mmultilabel_acc\u001b[0;34m(classifier, train_feats, train_labels, test_feats, test_labels, v, num_feats)\u001b[0m\n\u001b[1;32m     24\u001b[0m         \u001b[0mprint\u001b[0m\u001b[0;34m(\u001b[0m\u001b[0mtest_preds\u001b[0m\u001b[0;34m)\u001b[0m\u001b[0;34m\u001b[0m\u001b[0;34m\u001b[0m\u001b[0m\n\u001b[1;32m     25\u001b[0m         \u001b[0mprint\u001b[0m\u001b[0;34m(\u001b[0m\u001b[0mtest_labels_feat\u001b[0m\u001b[0;34m)\u001b[0m\u001b[0;34m\u001b[0m\u001b[0;34m\u001b[0m\u001b[0m\n\u001b[0;32m---> 26\u001b[0;31m         \u001b[0mtest_acc\u001b[0m \u001b[0;34m=\u001b[0m \u001b[0;34m(\u001b[0m\u001b[0mtest_preds\u001b[0m \u001b[0;34m==\u001b[0m \u001b[0mtest_labels_feat\u001b[0m\u001b[0;34m)\u001b[0m\u001b[0;34m.\u001b[0m\u001b[0mastype\u001b[0m\u001b[0;34m(\u001b[0m\u001b[0mfloat\u001b[0m\u001b[0;34m)\u001b[0m\u001b[0;34m.\u001b[0m\u001b[0mmean\u001b[0m\u001b[0;34m(\u001b[0m\u001b[0;34m)\u001b[0m\u001b[0;34m\u001b[0m\u001b[0;34m\u001b[0m\u001b[0m\n\u001b[0m\u001b[1;32m     27\u001b[0m         \u001b[0mmajority_acc\u001b[0m \u001b[0;34m=\u001b[0m \u001b[0mtest_labels\u001b[0m\u001b[0;34m[\u001b[0m\u001b[0;34m:\u001b[0m\u001b[0;34m,\u001b[0m \u001b[0mlabel_idx\u001b[0m\u001b[0;34m]\u001b[0m\u001b[0;34m.\u001b[0m\u001b[0mmean\u001b[0m\u001b[0;34m(\u001b[0m\u001b[0;34m)\u001b[0m\u001b[0;34m\u001b[0m\u001b[0;34m\u001b[0m\u001b[0m\n\u001b[1;32m     28\u001b[0m         \u001b[0;32mif\u001b[0m \u001b[0mmajority_acc\u001b[0m \u001b[0;34m<\u001b[0m \u001b[0;36m0.5\u001b[0m\u001b[0;34m:\u001b[0m\u001b[0;34m\u001b[0m\u001b[0;34m\u001b[0m\u001b[0m\n",
      "\u001b[0;31mAttributeError\u001b[0m: 'bool' object has no attribute 'astype'"
     ]
    }
   ],
   "source": [
    "from xgboost import XGBClassifier\n",
    "classifier = XGBClassifier(tree_method=\"gpu_hist\", eval_metric=\"error\", n_jobs=1, use_label_encoder=False)\n",
    "metrics = multilabel_acc(classifier, \n",
    "                      train_clip_feats.numpy(), train_labels, \n",
    "                      val_clip_feats.numpy(), test_labels,\n",
    "                      num_feats=3)\n",
    "for metric_name in metrics:\n",
    "    print(metric_name, np.mean(metrics[metric_name]))"
   ]
  },
  {
   "cell_type": "code",
   "execution_count": null,
   "id": "0f8d96c9-5c2c-420b-b44f-4a5712eaa4c0",
   "metadata": {},
   "outputs": [],
   "source": [
    "from xgboost import XGBClassifier\n",
    "classifier = XGBClassifier(n_estimators=5,\n",
    "                           tree_method=\"gpu_hist\", eval_metric=\"error\", n_jobs=1, use_label_encoder=False)\n",
    "metrics = multilabel_acc(classifier, \n",
    "                      train_clip_feats.numpy(), train_labels, \n",
    "                      val_clip_feats.numpy(), test_labels,\n",
    "                      num_feats=3)\n",
    "for metric_name in metrics:\n",
    "    print(metric_name, np.mean(metrics[metric_name]))"
   ]
  },
  {
   "cell_type": "code",
   "execution_count": null,
   "id": "74267eb9-8efe-4dbf-9c5d-5764a8233f93",
   "metadata": {},
   "outputs": [],
   "source": [
    "from xgboost import XGBClassifier\n",
    "classifier = XGBClassifier(n_estimators=1000,\n",
    "                           subsample=0.9,\n",
    "                           tree_method=\"gpu_hist\", eval_metric=\"error\", n_jobs=1, use_label_encoder=False)\n",
    "metrics = multilabel_acc(classifier, \n",
    "                      train_clip_feats.numpy(), train_labels, \n",
    "                      val_clip_feats.numpy(), test_labels,\n",
    "                      num_feats=3)\n",
    "for metric_name in metrics:\n",
    "    print(metric_name, np.mean(metrics[metric_name]))"
   ]
  },
  {
   "cell_type": "code",
   "execution_count": 17,
   "id": "ac1a68a6-c551-4647-bfb4-0ecb8c5b4841",
   "metadata": {},
   "outputs": [
    {
     "data": {
      "text/plain": [
       "(5159, 14)"
      ]
     },
     "execution_count": 17,
     "metadata": {},
     "output_type": "execute_result"
    }
   ],
   "source": [
    "test_labels.shape"
   ]
  },
  {
   "cell_type": "code",
   "execution_count": 16,
   "id": "62581b89-6369-40e0-9e42-f89fed8baaa6",
   "metadata": {},
   "outputs": [
    {
     "data": {
      "application/vnd.jupyter.widget-view+json": {
       "model_id": "840af8e7343f4c51abc4497d46330bc8",
       "version_major": 2,
       "version_minor": 0
      },
      "text/plain": [
       "  0%|          | 0/3 [00:00<?, ?it/s]"
      ]
     },
     "metadata": {},
     "output_type": "display_data"
    },
    {
     "name": "stderr",
     "output_type": "stream",
     "text": [
      "/tmp/ipykernel_3354679/2672057358.py:24: DeprecationWarning: elementwise comparison failed; this will raise an error in the future.\n",
      "  test_acc = (test_preds == test_labels_feat).astype(float).mean()\n"
     ]
    },
    {
     "ename": "AttributeError",
     "evalue": "'bool' object has no attribute 'astype'",
     "output_type": "error",
     "traceback": [
      "\u001b[0;31m---------------------------------------------------------------------------\u001b[0m",
      "\u001b[0;31mAttributeError\u001b[0m                            Traceback (most recent call last)",
      "\u001b[0;32m/tmp/ipykernel_3354679/3171193497.py\u001b[0m in \u001b[0;36m<module>\u001b[0;34m\u001b[0m\n\u001b[1;32m      1\u001b[0m \u001b[0;32mfrom\u001b[0m \u001b[0msklearn\u001b[0m\u001b[0;34m.\u001b[0m\u001b[0mlinear_model\u001b[0m \u001b[0;32mimport\u001b[0m \u001b[0mLogisticRegression\u001b[0m\u001b[0;34m\u001b[0m\u001b[0;34m\u001b[0m\u001b[0m\n\u001b[1;32m      2\u001b[0m \u001b[0mclassifier\u001b[0m \u001b[0;34m=\u001b[0m \u001b[0mLogisticRegression\u001b[0m\u001b[0;34m(\u001b[0m\u001b[0mn_jobs\u001b[0m\u001b[0;34m=\u001b[0m\u001b[0;36m5\u001b[0m\u001b[0;34m,\u001b[0m \u001b[0msolver\u001b[0m\u001b[0;34m=\u001b[0m\u001b[0;34m\"lbfgs\"\u001b[0m\u001b[0;34m)\u001b[0m\u001b[0;34m\u001b[0m\u001b[0;34m\u001b[0m\u001b[0m\n\u001b[0;32m----> 3\u001b[0;31m metrics = multilabel_acc(classifier, \n\u001b[0m\u001b[1;32m      4\u001b[0m                       \u001b[0mtrain_clip_feats\u001b[0m\u001b[0;34m.\u001b[0m\u001b[0mnumpy\u001b[0m\u001b[0;34m(\u001b[0m\u001b[0;34m)\u001b[0m\u001b[0;34m,\u001b[0m \u001b[0mtrain_labels\u001b[0m\u001b[0;34m,\u001b[0m\u001b[0;34m\u001b[0m\u001b[0;34m\u001b[0m\u001b[0m\n\u001b[1;32m      5\u001b[0m                       \u001b[0mval_clip_feats\u001b[0m\u001b[0;34m.\u001b[0m\u001b[0mnumpy\u001b[0m\u001b[0;34m(\u001b[0m\u001b[0;34m)\u001b[0m\u001b[0;34m,\u001b[0m \u001b[0mtest_labels\u001b[0m\u001b[0;34m,\u001b[0m\u001b[0;34m\u001b[0m\u001b[0;34m\u001b[0m\u001b[0m\n",
      "\u001b[0;32m/tmp/ipykernel_3354679/2672057358.py\u001b[0m in \u001b[0;36mmultilabel_acc\u001b[0;34m(classifier, train_feats, train_labels, test_feats, test_labels, v, num_feats)\u001b[0m\n\u001b[1;32m     22\u001b[0m         \u001b[0mtest_preds_proba\u001b[0m \u001b[0;34m=\u001b[0m \u001b[0mclassifier\u001b[0m\u001b[0;34m.\u001b[0m\u001b[0mpredict_proba\u001b[0m\u001b[0;34m(\u001b[0m\u001b[0mtest_feats\u001b[0m\u001b[0;34m)\u001b[0m\u001b[0;34m[\u001b[0m\u001b[0;34m:\u001b[0m\u001b[0;34m,\u001b[0m \u001b[0;36m1\u001b[0m\u001b[0;34m]\u001b[0m\u001b[0;34m\u001b[0m\u001b[0;34m\u001b[0m\u001b[0m\n\u001b[1;32m     23\u001b[0m         \u001b[0mtest_preds\u001b[0m \u001b[0;34m=\u001b[0m \u001b[0;34m(\u001b[0m\u001b[0mtest_preds_proba\u001b[0m \u001b[0;34m>\u001b[0m \u001b[0;36m0.5\u001b[0m\u001b[0;34m)\u001b[0m\u001b[0;34m.\u001b[0m\u001b[0mastype\u001b[0m\u001b[0;34m(\u001b[0m\u001b[0mfloat\u001b[0m\u001b[0;34m)\u001b[0m\u001b[0;34m\u001b[0m\u001b[0;34m\u001b[0m\u001b[0m\n\u001b[0;32m---> 24\u001b[0;31m         \u001b[0mtest_acc\u001b[0m \u001b[0;34m=\u001b[0m \u001b[0;34m(\u001b[0m\u001b[0mtest_preds\u001b[0m \u001b[0;34m==\u001b[0m \u001b[0mtest_labels_feat\u001b[0m\u001b[0;34m)\u001b[0m\u001b[0;34m.\u001b[0m\u001b[0mastype\u001b[0m\u001b[0;34m(\u001b[0m\u001b[0mfloat\u001b[0m\u001b[0;34m)\u001b[0m\u001b[0;34m.\u001b[0m\u001b[0mmean\u001b[0m\u001b[0;34m(\u001b[0m\u001b[0;34m)\u001b[0m\u001b[0;34m\u001b[0m\u001b[0;34m\u001b[0m\u001b[0m\n\u001b[0m\u001b[1;32m     25\u001b[0m         \u001b[0mmajority_acc\u001b[0m \u001b[0;34m=\u001b[0m \u001b[0mtest_labels\u001b[0m\u001b[0;34m[\u001b[0m\u001b[0;34m:\u001b[0m\u001b[0;34m,\u001b[0m \u001b[0mlabel_idx\u001b[0m\u001b[0;34m]\u001b[0m\u001b[0;34m.\u001b[0m\u001b[0mmean\u001b[0m\u001b[0;34m(\u001b[0m\u001b[0;34m)\u001b[0m\u001b[0;34m\u001b[0m\u001b[0;34m\u001b[0m\u001b[0m\n\u001b[1;32m     26\u001b[0m         \u001b[0;32mif\u001b[0m \u001b[0mv\u001b[0m\u001b[0;34m:\u001b[0m\u001b[0;34m\u001b[0m\u001b[0;34m\u001b[0m\u001b[0m\n",
      "\u001b[0;31mAttributeError\u001b[0m: 'bool' object has no attribute 'astype'"
     ]
    }
   ],
   "source": [
    "from sklearn.linear_model import LogisticRegression\n",
    "classifier = LogisticRegression(n_jobs=5, solver=\"lbfgs\")\n",
    "metrics = multilabel_acc(classifier, \n",
    "                      train_clip_feats.numpy(), train_labels, \n",
    "                      val_clip_feats.numpy(), test_labels,\n",
    "                      num_feats=3)\n",
    "for metric_name in metrics:\n",
    "    print(metric_name, np.mean(metrics[metric_name]))"
   ]
  },
  {
   "cell_type": "code",
   "execution_count": 45,
   "id": "5499faff-2da4-4de8-9f80-35198a57e1dd",
   "metadata": {},
   "outputs": [
    {
     "name": "stdout",
     "output_type": "stream",
     "text": [
      "acc 0.8282612909478582\n",
      "majority_acc 0.1691542288557214\n",
      "auc 0.6681738984467556\n",
      "ap 0.2667466899064633\n"
     ]
    }
   ],
   "source": [
    "for metric_name in metrics:\n",
    "    print(metric_name, np.mean(metrics[metric_name]))"
   ]
  },
  {
   "cell_type": "code",
   "execution_count": null,
   "id": "0e728a84-4d32-4785-a456-29bffc6f99d1",
   "metadata": {},
   "outputs": [],
   "source": [
    "# do KNN"
   ]
  },
  {
   "cell_type": "code",
   "execution_count": null,
   "id": "d0478d30-416d-4d94-b590-797d712f3571",
   "metadata": {},
   "outputs": [],
   "source": [
    "# do Prototype based classification"
   ]
  },
  {
   "cell_type": "code",
   "execution_count": null,
   "id": "6fc78148-65d5-4cdd-9032-1ede5cc2e0fb",
   "metadata": {},
   "outputs": [],
   "source": [
    "# do cosine_similarity based classification"
   ]
  }
 ],
 "metadata": {
  "kernelspec": {
   "display_name": "Python 3 (ipykernel)",
   "language": "python",
   "name": "python3"
  },
  "language_info": {
   "codemirror_mode": {
    "name": "ipython",
    "version": 3
   },
   "file_extension": ".py",
   "mimetype": "text/x-python",
   "name": "python",
   "nbconvert_exporter": "python",
   "pygments_lexer": "ipython3",
   "version": "3.8.10"
  }
 },
 "nbformat": 4,
 "nbformat_minor": 5
}
