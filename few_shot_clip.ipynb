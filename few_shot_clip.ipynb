{
 "cells": [
  {
   "cell_type": "code",
   "execution_count": null,
   "id": "56fcb3bb-303f-4242-ad80-de9a7ac91fc3",
   "metadata": {},
   "outputs": [],
   "source": [
    "from torch.utils.data import TensorDataset, DataLoader\n",
    "\n",
    "mode = \"freeze\"\n",
    "\n",
    "device = torch.device(\"cuda\" if torch.cuda.is_available() else \"cpu\")\n",
    "\n",
    "num_labels = 1 #train_labels.shape[1]\n",
    "clip_classifier = CLIPClassifier(model, mode, num_labels)\n",
    "clip_classifier = clip_classifier.to(device)\n",
    "if mode == \"freeze\":\n",
    "    train_ds = TensorDataset(train_clip_feats, \n",
    "                             torch.from_numpy(train_labels)[:, 0].unsqueeze(1))\n",
    "    val_ds = TensorDataset(val_clip_feats, \n",
    "                           torch.from_numpy(val_labels)[:, 0].unsqueeze(1))\n",
    "    test_ds = TensorDataset(test_clip_feats, \n",
    "                                  torch.from_numpy(test_labels)[:, 0].unsqueeze(1))\n",
    "elif mode == \"train_norm\":\n",
    "    # create image datasets\n",
    "    pass"
   ]
  },
  {
   "cell_type": "code",
   "execution_count": null,
   "id": "df21373b-3a3b-445a-b255-892761afe66a",
   "metadata": {},
   "outputs": [],
   "source": [
    "train_losses = []\n",
    "val_losses = []\n",
    "val_accs = []\n",
    "val_aps = []\n",
    "\n",
    "val_dl = DataLoader(val_ds, num_workers=0, shuffle=False, batch_size=2048)\n",
    "test_dl = DataLoader(test_ds, num_workers=0, shuffle=False, batch_size=2048)\n",
    "\n",
    "val_step(clip_classifier, val_dl)\n"
   ]
  },
  {
   "cell_type": "code",
   "execution_count": null,
   "id": "4b183a7c-288f-4d57-9c03-29aa453bb801",
   "metadata": {},
   "outputs": [],
   "source": [
    "n_epochs = 5\n",
    "bs = 2048\n",
    "\n",
    "train_dl = DataLoader(train_ds, num_workers=0, shuffle=True, batch_size=bs)\n",
    "\n",
    "\n",
    "\n",
    "optimizer = torch.optim.AdamW(clip_classifier.parameters(),\n",
    "                             lr=5e-5,#5e-5,\n",
    "                             betas=(0.9, 0.98),\n",
    "                             eps=1e-6,\n",
    "                             weight_decay=0.2) #Params used from paper, the lr is smaller, more safe for fine tuning to new dataset\n",
    "\n",
    "loss_func = torch.nn.BCEWithLogitsLoss()\n",
    "\n",
    "import time\n",
    "start_time = time.time()\n",
    "\n",
    "max_steps = 10000\n",
    "log_every = 30\n",
    "step = 0\n",
    "pbar = tqdm(total=max_steps)\n",
    "stop = False\n",
    "\n",
    "while not stop:\n",
    "    for x, y in train_dl:\n",
    "        x, y = x.to(device), y.to(device)\n",
    "        # calc classifier loss\n",
    "        preds = clip_classifier(x)\n",
    "        loss = loss_func(preds, y)\n",
    "        \n",
    "        # backward\n",
    "        optimizer.zero_grad()\n",
    "        #for p in clip_classifier.parameters():\n",
    "        #    p.grad = None\n",
    "        loss.backward()\n",
    "        if device == \"cpu\":\n",
    "            optimizer.step()\n",
    "        else : \n",
    "            #convert_models_to_fp32(model)\n",
    "            optimizer.step()\n",
    "            #clip.model.convert_weights(model)\n",
    "        # log\n",
    "        episode_train_losses.append(loss.detach())\n",
    "        step += 1\n",
    "        pbar.update(1)\n",
    "        \n",
    "        if step % log_every == 0:\n",
    "            train_losses.append(torch.stack(episode_train_losses).mean().item())\n",
    "            val_step(clip_classifier, val_dl)\n",
    "\n",
    "            episode_train_losses = []\n",
    "\n",
    "        if step >= max_steps:\n",
    "            stop = True\n",
    "            break\n",
    "print(\"Total seconds: \", time.time() - start_time)"
   ]
  },
  {
   "cell_type": "code",
   "execution_count": null,
   "id": "fc7fcdc3-8a36-491e-a221-7059ffb1b134",
   "metadata": {},
   "outputs": [],
   "source": [
    "plt.plot(range(1, len(train_losses) + 1), train_losses, label=\"train_loss\")\n",
    "plt.plot(range(0, len(train_losses) + 1), val_losses, label=\"val_loss\")\n",
    "plt.legend()"
   ]
  },
  {
   "cell_type": "code",
   "execution_count": null,
   "id": "4dc55944-2571-47bf-968e-8a1f4237e6ac",
   "metadata": {},
   "outputs": [],
   "source": [
    "plt.plot(val_aps)\n",
    "print(max(val_aps))"
   ]
  },
  {
   "cell_type": "code",
   "execution_count": null,
   "id": "4a2f77df-3df7-4d37-9831-7554674457cb",
   "metadata": {},
   "outputs": [],
   "source": [
    "plt.plot(val_accs)\n",
    "print(max(val_accs))"
   ]
  }
 ],
 "metadata": {
  "kernelspec": {
   "display_name": "Python 3 (ipykernel)",
   "language": "python",
   "name": "python3"
  },
  "language_info": {
   "codemirror_mode": {
    "name": "ipython",
    "version": 3
   },
   "file_extension": ".py",
   "mimetype": "text/x-python",
   "name": "python",
   "nbconvert_exporter": "python",
   "pygments_lexer": "ipython3",
   "version": "3.8.10"
  }
 },
 "nbformat": 4,
 "nbformat_minor": 5
}
