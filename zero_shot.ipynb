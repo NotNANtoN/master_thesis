{
 "cells": [
  {
   "cell_type": "code",
   "execution_count": null,
   "id": "cc5e3e64-f1b6-4cd8-9255-53aa655a893d",
   "metadata": {},
   "outputs": [],
   "source": [
    "# img2text\n",
    "img_idx = 20000\n",
    "\n",
    "sims = torch.cosine_similarity(img_features[img_idx].unsqueeze(0), caption_features)\n",
    "Image.open(img_paths[img_idx]).show()\n",
    "idx = sims.topk(k=1).indices[0].item()\n",
    "print(idx)\n",
    "get_data(idx // 5, return_img=True)[2].show()\n",
    "print(captions[\"caption_text\"].iloc[idx], \"\\n\")\n",
    "print(\"Real captions:\")\n",
    "for text in get_data(img_idx)[1]:\n",
    "    print(text)"
   ]
  },
  {
   "cell_type": "code",
   "execution_count": null,
   "id": "76b3db8e-2038-41f3-b450-2a42607a038b",
   "metadata": {},
   "outputs": [],
   "source": [
    "# text2img\n",
    "text_idx = 5004\n",
    "\n",
    "print(captions[\"caption_text\"].iloc[text_idx])\n",
    "sims = torch.cosine_similarity(caption_features[text_idx].unsqueeze(0), img_features)\n",
    "idx = sims.topk(k=1).indices[0].item()\n",
    "print(idx)\n",
    "print(\"Found:\")\n",
    "Image.open(img_paths[idx]).show()\n",
    "print(\"Ground truth: \")\n",
    "Image.open(img_paths[text_idx // 5]).show()"
   ]
  },
  {
   "cell_type": "code",
   "execution_count": null,
   "id": "64f1ddb5-f477-4ff1-aed4-cc8b6dae67c3",
   "metadata": {},
   "outputs": [],
   "source": []
  },
  {
   "cell_type": "code",
   "execution_count": null,
   "id": "4f3f1db8-94f0-4a9f-a6bd-6f6090d9ce0c",
   "metadata": {},
   "outputs": [],
   "source": [
    "import time\n",
    "\n",
    "calc_retrieval_metrics = False\n",
    "if calc_retrieval_metrics:\n",
    "    query_feats = img_features.cuda()\n",
    "    target_feats = caption_features.cuda()\n",
    "\n",
    "    now = time.time()\n",
    "    metrics = calc_img2text_retrieval(query_feats, target_feats)\n",
    "    print(time.time() - now)\n",
    "    for i in range(len(metrics)):\n",
    "        print(torch.mean(metrics[i]))\n",
    "        \n",
    "        \n",
    "if calc_retrieval_metrics:\n",
    "\n",
    "    query_feats = caption_features[:].cuda()\n",
    "    target_feats = img_features.cuda()\n",
    "\n",
    "    now = time.time()\n",
    "    text2img_metrics = calc_text2img_retrieval(query_feats, target_feats)\n",
    "    print(time.time() - now)\n",
    "    for i in range(len(text2img_metrics)):\n",
    "        print(torch.mean(text2img_metrics[i]))"
   ]
  }
 ],
 "metadata": {
  "kernelspec": {
   "display_name": "Python 3 (ipykernel)",
   "language": "python",
   "name": "python3"
  },
  "language_info": {
   "codemirror_mode": {
    "name": "ipython",
    "version": 3
   },
   "file_extension": ".py",
   "mimetype": "text/x-python",
   "name": "python",
   "nbconvert_exporter": "python",
   "pygments_lexer": "ipython3",
   "version": "3.8.10"
  }
 },
 "nbformat": 4,
 "nbformat_minor": 5
}
