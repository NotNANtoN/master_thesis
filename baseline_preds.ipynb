{
 "cells": [
  {
   "cell_type": "code",
   "execution_count": 1,
   "id": "98ce0e6e-2f02-4693-b2e6-0e0c60fbeb5a",
   "metadata": {},
   "outputs": [],
   "source": [
    "import os\n",
    "import pandas as pd\n",
    "from PIL import Image\n",
    "import numpy as np\n",
    "\n",
    "os.environ[\"CUDA_VISIBLE_DEVICES\"] = \"7\""
   ]
  },
  {
   "cell_type": "code",
   "execution_count": 2,
   "id": "b182ed1c-e14e-4937-b999-b67e8d3029ce",
   "metadata": {},
   "outputs": [
    {
     "name": "stderr",
     "output_type": "stream",
     "text": [
      "[nltk_data] Downloading package stopwords to\n",
      "[nltk_data]     /srv/home/8wiehe/nltk_data...\n",
      "[nltk_data]   Package stopwords is already up-to-date!\n",
      "[nltk_data] Downloading package punkt to /srv/home/8wiehe/nltk_data...\n",
      "[nltk_data]   Package punkt is already up-to-date!\n"
     ]
    }
   ],
   "source": [
    "from dataset_utils import load_dataset\n",
    "dataset = \"flickr30k\"\n",
    "img_paths, img_ids, captions, label_strs, train_ids, val_ids, test_ids, label_names = load_dataset(dataset)"
   ]
  },
  {
   "cell_type": "code",
   "execution_count": 3,
   "id": "52df097e-3fd5-428a-b297-391f5e0535ae",
   "metadata": {},
   "outputs": [
    {
     "name": "stderr",
     "output_type": "stream",
     "text": [
      "/srv/home/8wiehe/.local/lib/python3.8/site-packages/clip/clip.py:23: UserWarning: PyTorch version 1.7.1 or higher is recommended\n",
      "  warnings.warn(\"PyTorch version 1.7.1 or higher is recommended\")\n"
     ]
    },
    {
     "name": "stdout",
     "output_type": "stream",
     "text": [
      "['RN50', 'RN101', 'RN50x4', 'RN50x16', 'ViT-B/32', 'ViT-B/16']\n"
     ]
    },
    {
     "data": {
      "text/plain": [
       "'ViT-B_16'"
      ]
     },
     "execution_count": 3,
     "metadata": {},
     "output_type": "execute_result"
    }
   ],
   "source": [
    "import clip\n",
    "import torch\n",
    "print(clip.available_models())\n",
    "device = torch.device(\"cuda\" if torch.cuda.is_available() else \"cpu\")\n",
    "clip_name = \"ViT-B/16\"\n",
    "model, transform = clip.load(clip_name, jit=False, device=device)\n",
    "load_path = None\n",
    "load_path = os.path.join(dataset, \"feats\")\n",
    "clip_load_name = clip_name.replace(\"/\", \"_\")\n",
    "clip_load_name"
   ]
  },
  {
   "cell_type": "code",
   "execution_count": 4,
   "id": "7cae723b-678a-4603-8999-2c2be0e542ac",
   "metadata": {},
   "outputs": [],
   "source": [
    "from utils import get_image_features, get_text_features\n",
    "\n",
    "test_sims = False\n",
    "idx = 5002\n",
    "personal_caption = \"\"\n",
    "\n",
    "if test_sims:\n",
    "    img_name, img_captions, img = get_data(idx)\n",
    "    if len(personal_caption) > 0:\n",
    "        img_captions.append(personal_caption)\n",
    "\n",
    "\n",
    "    img_features = get_image_features([img], model, transform, device, \n",
    "                                      load_path, batch_size=16, save=False)\n",
    "    caption_features = get_text_features(img_captions, model, device, \n",
    "                                         load_path, batch_size=16, save=False)\n",
    "\n",
    "    sims = torch.cosine_similarity(img_features, caption_features)\n",
    "    top_k = sims.topk(k=5)\n",
    "    indices = top_k.indices\n",
    "    vals = top_k.values\n",
    "\n",
    "    Image.open(img).show()\n",
    "    for idx, val in zip(indices, vals):\n",
    "        print(val, img_captions[idx])"
   ]
  },
  {
   "cell_type": "code",
   "execution_count": 5,
   "id": "9ca60bca-369b-4299-918b-24bc99cecadb",
   "metadata": {},
   "outputs": [],
   "source": [
    "from utils import get_image_features, get_text_features\n",
    "\n",
    "os.makedirs(load_path, exist_ok=True)\n",
    "bs = 32\n",
    "\n",
    "img_features = get_image_features(img_paths, model, transform, device, \n",
    "                                  os.path.join(load_path, f\"{clip_load_name}_img_feats.pt\"), \n",
    "                                  batch_size=bs, save=True)\n",
    "caption_features = get_text_features(captions[\"caption_text\"], model, device, \n",
    "                                     os.path.join(load_path, f\"{clip_load_name}_caption_feats.pt\"), \n",
    "                                     batch_size=bs, save=True)"
   ]
  },
  {
   "cell_type": "code",
   "execution_count": 6,
   "id": "4a3c67cf-61c6-4b63-a16a-a91a1cb37bd2",
   "metadata": {},
   "outputs": [
    {
     "data": {
      "text/plain": [
       "20"
      ]
     },
     "execution_count": 6,
     "metadata": {},
     "output_type": "execute_result"
    }
   ],
   "source": [
    "import torch\n",
    "import gc\n",
    "torch.cuda.empty_cache()\n",
    "gc.collect()"
   ]
  },
  {
   "cell_type": "code",
   "execution_count": null,
   "id": "ffe17220-c9d4-40fb-a1e4-0ba4caee528f",
   "metadata": {},
   "outputs": [],
   "source": []
  },
  {
   "cell_type": "code",
   "execution_count": 18,
   "id": "6a093098-277a-48e4-b522-ba961f1b03b9",
   "metadata": {},
   "outputs": [],
   "source": [
    "from zero_shot_utils import calc_binary_acc, create_label_encs, calc_accuracies"
   ]
  },
  {
   "cell_type": "code",
   "execution_count": 8,
   "id": "7a6614f4-7785-4167-9012-e5beae169e7a",
   "metadata": {},
   "outputs": [],
   "source": [
    "label_kwargs = (model, label_names)\n",
    "acc_func_args = (img_features, label_strs, label_names)"
   ]
  },
  {
   "cell_type": "code",
   "execution_count": 10,
   "id": "93a60332-2448-4c83-ba5d-9cd55e9f5be6",
   "metadata": {},
   "outputs": [
    {
     "data": {
      "application/vnd.jupyter.widget-view+json": {
       "model_id": "8b0bdae3a8a149f5b5244ead749aba43",
       "version_major": 2,
       "version_minor": 0
      },
      "text/plain": [
       "  0%|          | 0/1 [00:00<?, ?it/s]"
      ]
     },
     "metadata": {},
     "output_type": "display_data"
    },
    {
     "data": {
      "application/vnd.jupyter.widget-view+json": {
       "model_id": "9c772a453e7a45af8eadd5999b912254",
       "version_major": 2,
       "version_minor": 0
      },
      "text/plain": [
       "  0%|          | 0/7 [00:00<?, ?it/s]"
      ]
     },
     "metadata": {},
     "output_type": "display_data"
    },
    {
     "data": {
      "application/vnd.jupyter.widget-view+json": {
       "model_id": "1197aa80659547958f2d9913935507df",
       "version_major": 2,
       "version_minor": 0
      },
      "text/plain": [
       "  0%|          | 0/31783 [00:00<?, ?it/s]"
      ]
     },
     "metadata": {},
     "output_type": "display_data"
    },
    {
     "data": {
      "text/plain": [
       "0.7251743674278259"
      ]
     },
     "execution_count": 10,
     "metadata": {},
     "output_type": "execute_result"
    }
   ],
   "source": [
    "prefixes = [\"A picture of \"]\n",
    "#prefixes = [ \"stock image \"]\n",
    "accs = calc_binary_acc(*acc_func_args, \n",
    "                       *create_label_encs(*label_kwargs, prefixes, use_multi_label_setting=False, use_norm=False))\n",
    "torch.mean(torch.stack(accs)).item()"
   ]
  },
  {
   "cell_type": "code",
   "execution_count": 11,
   "id": "fa62a81f-dfe8-4633-943f-66ea441a943d",
   "metadata": {},
   "outputs": [
    {
     "data": {
      "application/vnd.jupyter.widget-view+json": {
       "model_id": "dd10593e201c44b1ada8fc16632db7dc",
       "version_major": 2,
       "version_minor": 0
      },
      "text/plain": [
       "  0%|          | 0/1 [00:00<?, ?it/s]"
      ]
     },
     "metadata": {},
     "output_type": "display_data"
    },
    {
     "data": {
      "application/vnd.jupyter.widget-view+json": {
       "model_id": "fff1d1b61c2b491c976c6d43f15d3c95",
       "version_major": 2,
       "version_minor": 0
      },
      "text/plain": [
       "  0%|          | 0/7 [00:00<?, ?it/s]"
      ]
     },
     "metadata": {},
     "output_type": "display_data"
    },
    {
     "data": {
      "application/vnd.jupyter.widget-view+json": {
       "model_id": "0f86bf98c7644589b5f0600b6731e28a",
       "version_major": 2,
       "version_minor": 0
      },
      "text/plain": [
       "  0%|          | 0/31783 [00:00<?, ?it/s]"
      ]
     },
     "metadata": {},
     "output_type": "display_data"
    },
    {
     "data": {
      "text/plain": [
       "0.7638537287712097"
      ]
     },
     "execution_count": 11,
     "metadata": {},
     "output_type": "execute_result"
    }
   ],
   "source": [
    "prefixes = [\"A photo of \"]\n",
    "#prefixes = [ \"stock image \"]\n",
    "accs = calc_binary_acc(*acc_func_args, \n",
    "                       *create_label_encs(*label_kwargs, prefixes, use_multi_label_setting=False, use_norm=False))\n",
    "torch.mean(torch.stack(accs)).item()"
   ]
  },
  {
   "cell_type": "code",
   "execution_count": 12,
   "id": "9ffb9028-2bfc-4ffe-b303-35250838d3d0",
   "metadata": {},
   "outputs": [
    {
     "data": {
      "application/vnd.jupyter.widget-view+json": {
       "model_id": "6689f5b7f3af4f1f856e3b326007310f",
       "version_major": 2,
       "version_minor": 0
      },
      "text/plain": [
       "  0%|          | 0/1 [00:00<?, ?it/s]"
      ]
     },
     "metadata": {},
     "output_type": "display_data"
    },
    {
     "data": {
      "application/vnd.jupyter.widget-view+json": {
       "model_id": "ce20f4ea13cb4f2daf05500b06cd19db",
       "version_major": 2,
       "version_minor": 0
      },
      "text/plain": [
       "  0%|          | 0/7 [00:00<?, ?it/s]"
      ]
     },
     "metadata": {},
     "output_type": "display_data"
    },
    {
     "data": {
      "application/vnd.jupyter.widget-view+json": {
       "model_id": "4c5cc64745f34d4c8050571e254be196",
       "version_major": 2,
       "version_minor": 0
      },
      "text/plain": [
       "  0%|          | 0/31783 [00:00<?, ?it/s]"
      ]
     },
     "metadata": {},
     "output_type": "display_data"
    },
    {
     "data": {
      "text/plain": [
       "0.7734894156455994"
      ]
     },
     "execution_count": 12,
     "metadata": {},
     "output_type": "execute_result"
    }
   ],
   "source": [
    "prefixes = [\"A photo of a people. \"]\n",
    "#prefixes = [ \"stock image \"]\n",
    "accs = calc_binary_acc(*acc_func_args, \n",
    "                       *create_label_encs(*label_kwargs, prefixes, use_multi_label_setting=False, use_norm=True))\n",
    "torch.mean(torch.stack(accs)).item()"
   ]
  },
  {
   "cell_type": "code",
   "execution_count": null,
   "id": "413a7a68-9fef-4936-839b-7d8c6f25be6c",
   "metadata": {},
   "outputs": [],
   "source": []
  },
  {
   "cell_type": "code",
   "execution_count": 13,
   "id": "ed4c85ef-0edf-4272-9bf0-83fd1a82b3de",
   "metadata": {},
   "outputs": [
    {
     "data": {
      "application/vnd.jupyter.widget-view+json": {
       "model_id": "a6ce71851a9042d68ddd7757ca6f5e9c",
       "version_major": 2,
       "version_minor": 0
      },
      "text/plain": [
       "  0%|          | 0/1 [00:00<?, ?it/s]"
      ]
     },
     "metadata": {},
     "output_type": "display_data"
    },
    {
     "data": {
      "application/vnd.jupyter.widget-view+json": {
       "model_id": "5c4a660007b7428e8ff484efdb9a5ebe",
       "version_major": 2,
       "version_minor": 0
      },
      "text/plain": [
       "  0%|          | 0/7 [00:00<?, ?it/s]"
      ]
     },
     "metadata": {},
     "output_type": "display_data"
    },
    {
     "data": {
      "application/vnd.jupyter.widget-view+json": {
       "model_id": "41d40d7dd8884d86bdfbb6579b65952b",
       "version_major": 2,
       "version_minor": 0
      },
      "text/plain": [
       "  0%|          | 0/1 [00:00<?, ?it/s]"
      ]
     },
     "metadata": {},
     "output_type": "display_data"
    },
    {
     "data": {
      "application/vnd.jupyter.widget-view+json": {
       "model_id": "0e83018e31da4097b5d3004dadd4093b",
       "version_major": 2,
       "version_minor": 0
      },
      "text/plain": [
       "  0%|          | 0/7 [00:00<?, ?it/s]"
      ]
     },
     "metadata": {},
     "output_type": "display_data"
    },
    {
     "data": {
      "application/vnd.jupyter.widget-view+json": {
       "model_id": "013481b70669480095be1e07383d56dd",
       "version_major": 2,
       "version_minor": 0
      },
      "text/plain": [
       "  0%|          | 0/1 [00:00<?, ?it/s]"
      ]
     },
     "metadata": {},
     "output_type": "display_data"
    },
    {
     "data": {
      "application/vnd.jupyter.widget-view+json": {
       "model_id": "49df788a77d24ba09bbd92a57b71175d",
       "version_major": 2,
       "version_minor": 0
      },
      "text/plain": [
       "  0%|          | 0/7 [00:00<?, ?it/s]"
      ]
     },
     "metadata": {},
     "output_type": "display_data"
    },
    {
     "data": {
      "application/vnd.jupyter.widget-view+json": {
       "model_id": "d138095ae5624810b2dcb7e16f54ca9f",
       "version_major": 2,
       "version_minor": 0
      },
      "text/plain": [
       "  0%|          | 0/1 [00:00<?, ?it/s]"
      ]
     },
     "metadata": {},
     "output_type": "display_data"
    },
    {
     "data": {
      "application/vnd.jupyter.widget-view+json": {
       "model_id": "34b91ab0a1f54521babf477e33792302",
       "version_major": 2,
       "version_minor": 0
      },
      "text/plain": [
       "  0%|          | 0/7 [00:00<?, ?it/s]"
      ]
     },
     "metadata": {},
     "output_type": "display_data"
    },
    {
     "data": {
      "application/vnd.jupyter.widget-view+json": {
       "model_id": "bc1dbe8795f64f1db49ec68110bf56bc",
       "version_major": 2,
       "version_minor": 0
      },
      "text/plain": [
       "  0%|          | 0/1 [00:00<?, ?it/s]"
      ]
     },
     "metadata": {},
     "output_type": "display_data"
    },
    {
     "data": {
      "application/vnd.jupyter.widget-view+json": {
       "model_id": "356163dca3ac4ca7af2261b235e6aa1f",
       "version_major": 2,
       "version_minor": 0
      },
      "text/plain": [
       "  0%|          | 0/7 [00:00<?, ?it/s]"
      ]
     },
     "metadata": {},
     "output_type": "display_data"
    },
    {
     "data": {
      "application/vnd.jupyter.widget-view+json": {
       "model_id": "e5a8eeb992164558b49db65ff7b32365",
       "version_major": 2,
       "version_minor": 0
      },
      "text/plain": [
       "  0%|          | 0/1 [00:00<?, ?it/s]"
      ]
     },
     "metadata": {},
     "output_type": "display_data"
    },
    {
     "data": {
      "application/vnd.jupyter.widget-view+json": {
       "model_id": "4e8602a5a02c494881b8c13ae09c8ed1",
       "version_major": 2,
       "version_minor": 0
      },
      "text/plain": [
       "  0%|          | 0/7 [00:00<?, ?it/s]"
      ]
     },
     "metadata": {},
     "output_type": "display_data"
    },
    {
     "data": {
      "application/vnd.jupyter.widget-view+json": {
       "model_id": "08ebd4e71f304423b60ed233cfa6c6f6",
       "version_major": 2,
       "version_minor": 0
      },
      "text/plain": [
       "  0%|          | 0/1 [00:00<?, ?it/s]"
      ]
     },
     "metadata": {},
     "output_type": "display_data"
    },
    {
     "data": {
      "application/vnd.jupyter.widget-view+json": {
       "model_id": "50377078aaa44441b1c639b557c10469",
       "version_major": 2,
       "version_minor": 0
      },
      "text/plain": [
       "  0%|          | 0/7 [00:00<?, ?it/s]"
      ]
     },
     "metadata": {},
     "output_type": "display_data"
    },
    {
     "data": {
      "application/vnd.jupyter.widget-view+json": {
       "model_id": "0d6992e80db64320bdc96d3024aa8a4a",
       "version_major": 2,
       "version_minor": 0
      },
      "text/plain": [
       "  0%|          | 0/31783 [00:00<?, ?it/s]"
      ]
     },
     "metadata": {},
     "output_type": "display_data"
    },
    {
     "data": {
      "text/plain": [
       "0.7885488271713257"
      ]
     },
     "execution_count": 13,
     "metadata": {},
     "output_type": "execute_result"
    }
   ],
   "source": [
    "prefixes = [\"A photo of \", \"A \", \"A picture of \", \"picture \", \"A picture of a person. \", \"flickr. \", \"stock image. \"]\n",
    "\n",
    "pos_encs = []\n",
    "neg_encs = []\n",
    "\n",
    "for prefix in prefixes:\n",
    "    pos_enc, neg_enc = create_label_encs(*label_kwargs, [prefix], use_multi_label_setting=False, use_norm=False)\n",
    "    pos_encs.append(pos_enc)\n",
    "    neg_encs.append(neg_enc)\n",
    "\n",
    "accs = calc_binary_acc(*acc_func_args, pos_encs, neg_encs)\n",
    "torch.mean(torch.stack(accs)).item()"
   ]
  },
  {
   "cell_type": "code",
   "execution_count": 14,
   "id": "68b0cc4d-1232-49f6-bca6-09ec7021ba3d",
   "metadata": {},
   "outputs": [
    {
     "data": {
      "application/vnd.jupyter.widget-view+json": {
       "model_id": "6a33f3f1834c4e97a3b1625fc12e6cdd",
       "version_major": 2,
       "version_minor": 0
      },
      "text/plain": [
       "  0%|          | 0/1 [00:00<?, ?it/s]"
      ]
     },
     "metadata": {},
     "output_type": "display_data"
    },
    {
     "data": {
      "application/vnd.jupyter.widget-view+json": {
       "model_id": "e0673508757249a09a394c20846d3913",
       "version_major": 2,
       "version_minor": 0
      },
      "text/plain": [
       "  0%|          | 0/7 [00:00<?, ?it/s]"
      ]
     },
     "metadata": {},
     "output_type": "display_data"
    },
    {
     "data": {
      "application/vnd.jupyter.widget-view+json": {
       "model_id": "c3fef27242224f3288d27cd9ae899761",
       "version_major": 2,
       "version_minor": 0
      },
      "text/plain": [
       "  0%|          | 0/1 [00:00<?, ?it/s]"
      ]
     },
     "metadata": {},
     "output_type": "display_data"
    },
    {
     "data": {
      "application/vnd.jupyter.widget-view+json": {
       "model_id": "20c98f189eea455fb78038c01b365fe3",
       "version_major": 2,
       "version_minor": 0
      },
      "text/plain": [
       "  0%|          | 0/7 [00:00<?, ?it/s]"
      ]
     },
     "metadata": {},
     "output_type": "display_data"
    },
    {
     "data": {
      "application/vnd.jupyter.widget-view+json": {
       "model_id": "1c0b8ef85e4b437694bffcf5fffaddde",
       "version_major": 2,
       "version_minor": 0
      },
      "text/plain": [
       "  0%|          | 0/1 [00:00<?, ?it/s]"
      ]
     },
     "metadata": {},
     "output_type": "display_data"
    },
    {
     "data": {
      "application/vnd.jupyter.widget-view+json": {
       "model_id": "ebd8544ee06246f9952a277dd7060041",
       "version_major": 2,
       "version_minor": 0
      },
      "text/plain": [
       "  0%|          | 0/7 [00:00<?, ?it/s]"
      ]
     },
     "metadata": {},
     "output_type": "display_data"
    },
    {
     "data": {
      "application/vnd.jupyter.widget-view+json": {
       "model_id": "4969bffd2dd0445c9aa95ae010d5de2d",
       "version_major": 2,
       "version_minor": 0
      },
      "text/plain": [
       "  0%|          | 0/1 [00:00<?, ?it/s]"
      ]
     },
     "metadata": {},
     "output_type": "display_data"
    },
    {
     "data": {
      "application/vnd.jupyter.widget-view+json": {
       "model_id": "c6ffa1b5be4a4fc8b542a48a5cbb8ef9",
       "version_major": 2,
       "version_minor": 0
      },
      "text/plain": [
       "  0%|          | 0/7 [00:00<?, ?it/s]"
      ]
     },
     "metadata": {},
     "output_type": "display_data"
    },
    {
     "data": {
      "application/vnd.jupyter.widget-view+json": {
       "model_id": "9714f1d1bd964e188fb7f728c02e2e97",
       "version_major": 2,
       "version_minor": 0
      },
      "text/plain": [
       "  0%|          | 0/1 [00:00<?, ?it/s]"
      ]
     },
     "metadata": {},
     "output_type": "display_data"
    },
    {
     "data": {
      "application/vnd.jupyter.widget-view+json": {
       "model_id": "2f7614946ba54c118a43a2a26f79e96b",
       "version_major": 2,
       "version_minor": 0
      },
      "text/plain": [
       "  0%|          | 0/7 [00:00<?, ?it/s]"
      ]
     },
     "metadata": {},
     "output_type": "display_data"
    },
    {
     "data": {
      "application/vnd.jupyter.widget-view+json": {
       "model_id": "8e419e12fa36421a9e99c5bd4511b603",
       "version_major": 2,
       "version_minor": 0
      },
      "text/plain": [
       "  0%|          | 0/31783 [00:00<?, ?it/s]"
      ]
     },
     "metadata": {},
     "output_type": "display_data"
    },
    {
     "data": {
      "text/plain": [
       "0.6365594863891602"
      ]
     },
     "execution_count": 14,
     "metadata": {},
     "output_type": "execute_result"
    }
   ],
   "source": [
    "import string    \n",
    "import random # define the random module  \n",
    "S = 10  # number of characters in the string.  \n",
    "# call random.choices() string module to find the string in Uppercase + numeric data.  \n",
    "prefixes = [''.join(random.choices(string.ascii_uppercase + string.digits, k = S)) + \". \" for _ in range(5)]\n",
    "\n",
    "pos_encs = []\n",
    "neg_encs = []\n",
    "\n",
    "for prefix in prefixes:\n",
    "    pos_enc, neg_enc = create_label_encs(*label_kwargs, [prefix], use_multi_label_setting=False, use_norm=False)\n",
    "    pos_encs.append(pos_enc)\n",
    "    neg_encs.append(neg_enc)\n",
    "\n",
    "accs = calc_binary_acc(*acc_func_args, pos_encs, neg_encs)\n",
    "torch.mean(torch.stack(accs)).item()"
   ]
  },
  {
   "cell_type": "code",
   "execution_count": null,
   "id": "598564f5-4693-474b-a025-eedcffb8de37",
   "metadata": {},
   "outputs": [],
   "source": []
  },
  {
   "cell_type": "code",
   "execution_count": 15,
   "id": "cda6cd7f-a507-4934-983d-be4d0f7c2af5",
   "metadata": {},
   "outputs": [
    {
     "data": {
      "application/vnd.jupyter.widget-view+json": {
       "model_id": "203d95d4b05f4eef882c8031379a67fb",
       "version_major": 2,
       "version_minor": 0
      },
      "text/plain": [
       "  0%|          | 0/1 [00:00<?, ?it/s]"
      ]
     },
     "metadata": {},
     "output_type": "display_data"
    },
    {
     "data": {
      "application/vnd.jupyter.widget-view+json": {
       "model_id": "e95d4f6503544b9a87ff8879c59cc206",
       "version_major": 2,
       "version_minor": 0
      },
      "text/plain": [
       "  0%|          | 0/7 [00:00<?, ?it/s]"
      ]
     },
     "metadata": {},
     "output_type": "display_data"
    },
    {
     "data": {
      "application/vnd.jupyter.widget-view+json": {
       "model_id": "344b6056393944a88be611561050dece",
       "version_major": 2,
       "version_minor": 0
      },
      "text/plain": [
       "  0%|          | 0/1 [00:00<?, ?it/s]"
      ]
     },
     "metadata": {},
     "output_type": "display_data"
    },
    {
     "data": {
      "application/vnd.jupyter.widget-view+json": {
       "model_id": "6467f6e1bf214cac842ad9250f59c18d",
       "version_major": 2,
       "version_minor": 0
      },
      "text/plain": [
       "  0%|          | 0/7 [00:00<?, ?it/s]"
      ]
     },
     "metadata": {},
     "output_type": "display_data"
    },
    {
     "data": {
      "application/vnd.jupyter.widget-view+json": {
       "model_id": "bd29a1d1598643c3b02cbc760534870d",
       "version_major": 2,
       "version_minor": 0
      },
      "text/plain": [
       "  0%|          | 0/1 [00:00<?, ?it/s]"
      ]
     },
     "metadata": {},
     "output_type": "display_data"
    },
    {
     "data": {
      "application/vnd.jupyter.widget-view+json": {
       "model_id": "51e203a11b324119a652e94d286b4066",
       "version_major": 2,
       "version_minor": 0
      },
      "text/plain": [
       "  0%|          | 0/7 [00:00<?, ?it/s]"
      ]
     },
     "metadata": {},
     "output_type": "display_data"
    },
    {
     "data": {
      "application/vnd.jupyter.widget-view+json": {
       "model_id": "1e139236451c41829b77ca467a8904d2",
       "version_major": 2,
       "version_minor": 0
      },
      "text/plain": [
       "  0%|          | 0/1 [00:00<?, ?it/s]"
      ]
     },
     "metadata": {},
     "output_type": "display_data"
    },
    {
     "data": {
      "application/vnd.jupyter.widget-view+json": {
       "model_id": "4315dec6496c44f3badfae43fb83c567",
       "version_major": 2,
       "version_minor": 0
      },
      "text/plain": [
       "  0%|          | 0/7 [00:00<?, ?it/s]"
      ]
     },
     "metadata": {},
     "output_type": "display_data"
    },
    {
     "data": {
      "application/vnd.jupyter.widget-view+json": {
       "model_id": "0a831bdc7cb549c082a46b835f6f9753",
       "version_major": 2,
       "version_minor": 0
      },
      "text/plain": [
       "  0%|          | 0/1 [00:00<?, ?it/s]"
      ]
     },
     "metadata": {},
     "output_type": "display_data"
    },
    {
     "data": {
      "application/vnd.jupyter.widget-view+json": {
       "model_id": "4d47ae8f5936400a8347dff07ea95abc",
       "version_major": 2,
       "version_minor": 0
      },
      "text/plain": [
       "  0%|          | 0/7 [00:00<?, ?it/s]"
      ]
     },
     "metadata": {},
     "output_type": "display_data"
    },
    {
     "data": {
      "application/vnd.jupyter.widget-view+json": {
       "model_id": "aba8834bb9e64d4aaec3be1a9b72a971",
       "version_major": 2,
       "version_minor": 0
      },
      "text/plain": [
       "  0%|          | 0/1 [00:00<?, ?it/s]"
      ]
     },
     "metadata": {},
     "output_type": "display_data"
    },
    {
     "data": {
      "application/vnd.jupyter.widget-view+json": {
       "model_id": "398b81adf806423f9a9fe746573c24ea",
       "version_major": 2,
       "version_minor": 0
      },
      "text/plain": [
       "  0%|          | 0/7 [00:00<?, ?it/s]"
      ]
     },
     "metadata": {},
     "output_type": "display_data"
    },
    {
     "data": {
      "application/vnd.jupyter.widget-view+json": {
       "model_id": "5b019f6ed06646feab480374371e1aa1",
       "version_major": 2,
       "version_minor": 0
      },
      "text/plain": [
       "  0%|          | 0/31783 [00:00<?, ?it/s]"
      ]
     },
     "metadata": {},
     "output_type": "display_data"
    },
    {
     "data": {
      "text/plain": [
       "0.8278830647468567"
      ]
     },
     "execution_count": 15,
     "metadata": {},
     "output_type": "execute_result"
    }
   ],
   "source": [
    "prefixes = [\"A photo of \", \"a \", \"A painting of \", \"flickr. \", \"Artstation \", \"stock image \"]\n",
    "#prefixes = [ \"stock image \"]\n",
    "accs = calc_binary_acc(*acc_func_args, *create_label_encs(*label_kwargs, prefixes,\n",
    "                                                        use_multi_label_setting=False, use_norm=True))\n",
    "torch.mean(torch.stack(accs)).item()"
   ]
  },
  {
   "cell_type": "code",
   "execution_count": 16,
   "id": "118cf772-82cd-4763-a545-18312474ae7c",
   "metadata": {},
   "outputs": [
    {
     "data": {
      "application/vnd.jupyter.widget-view+json": {
       "model_id": "98de30cbdaa347a39017620d0ae29f9a",
       "version_major": 2,
       "version_minor": 0
      },
      "text/plain": [
       "  0%|          | 0/1 [00:00<?, ?it/s]"
      ]
     },
     "metadata": {},
     "output_type": "display_data"
    },
    {
     "data": {
      "application/vnd.jupyter.widget-view+json": {
       "model_id": "0268335052534df4b7606ab9d894c58f",
       "version_major": 2,
       "version_minor": 0
      },
      "text/plain": [
       "  0%|          | 0/7 [00:00<?, ?it/s]"
      ]
     },
     "metadata": {},
     "output_type": "display_data"
    },
    {
     "data": {
      "application/vnd.jupyter.widget-view+json": {
       "model_id": "4d442fac17044f10a6b33632894118fb",
       "version_major": 2,
       "version_minor": 0
      },
      "text/plain": [
       "  0%|          | 0/1 [00:00<?, ?it/s]"
      ]
     },
     "metadata": {},
     "output_type": "display_data"
    },
    {
     "data": {
      "application/vnd.jupyter.widget-view+json": {
       "model_id": "0dde881b1a3b4200a33c28118de82aa0",
       "version_major": 2,
       "version_minor": 0
      },
      "text/plain": [
       "  0%|          | 0/7 [00:00<?, ?it/s]"
      ]
     },
     "metadata": {},
     "output_type": "display_data"
    },
    {
     "data": {
      "application/vnd.jupyter.widget-view+json": {
       "model_id": "d250fe0671fa44d386ca24a00684c05c",
       "version_major": 2,
       "version_minor": 0
      },
      "text/plain": [
       "  0%|          | 0/1 [00:00<?, ?it/s]"
      ]
     },
     "metadata": {},
     "output_type": "display_data"
    },
    {
     "data": {
      "application/vnd.jupyter.widget-view+json": {
       "model_id": "d4298d4f79794bf099e2bc3f61dddc1e",
       "version_major": 2,
       "version_minor": 0
      },
      "text/plain": [
       "  0%|          | 0/7 [00:00<?, ?it/s]"
      ]
     },
     "metadata": {},
     "output_type": "display_data"
    },
    {
     "data": {
      "application/vnd.jupyter.widget-view+json": {
       "model_id": "3e7b8c706ee849c4a967d0a20909f375",
       "version_major": 2,
       "version_minor": 0
      },
      "text/plain": [
       "  0%|          | 0/1 [00:00<?, ?it/s]"
      ]
     },
     "metadata": {},
     "output_type": "display_data"
    },
    {
     "data": {
      "application/vnd.jupyter.widget-view+json": {
       "model_id": "b6f43274d8e544ef96e1caa6d063c38e",
       "version_major": 2,
       "version_minor": 0
      },
      "text/plain": [
       "  0%|          | 0/7 [00:00<?, ?it/s]"
      ]
     },
     "metadata": {},
     "output_type": "display_data"
    },
    {
     "data": {
      "application/vnd.jupyter.widget-view+json": {
       "model_id": "95b6a4d4d8d0416cae857e5f21826f3e",
       "version_major": 2,
       "version_minor": 0
      },
      "text/plain": [
       "  0%|          | 0/1 [00:00<?, ?it/s]"
      ]
     },
     "metadata": {},
     "output_type": "display_data"
    },
    {
     "data": {
      "application/vnd.jupyter.widget-view+json": {
       "model_id": "4e94c4e696ec4613b118d3b7fd170467",
       "version_major": 2,
       "version_minor": 0
      },
      "text/plain": [
       "  0%|          | 0/7 [00:00<?, ?it/s]"
      ]
     },
     "metadata": {},
     "output_type": "display_data"
    },
    {
     "data": {
      "application/vnd.jupyter.widget-view+json": {
       "model_id": "d6b36b28a2e9403aa10641751504c271",
       "version_major": 2,
       "version_minor": 0
      },
      "text/plain": [
       "  0%|          | 0/1 [00:00<?, ?it/s]"
      ]
     },
     "metadata": {},
     "output_type": "display_data"
    },
    {
     "data": {
      "application/vnd.jupyter.widget-view+json": {
       "model_id": "f0b90515244f40668fab18e68106548d",
       "version_major": 2,
       "version_minor": 0
      },
      "text/plain": [
       "  0%|          | 0/7 [00:00<?, ?it/s]"
      ]
     },
     "metadata": {},
     "output_type": "display_data"
    },
    {
     "data": {
      "application/vnd.jupyter.widget-view+json": {
       "model_id": "d4e1ad8a78854a51b164b2195ce50db0",
       "version_major": 2,
       "version_minor": 0
      },
      "text/plain": [
       "  0%|          | 0/31783 [00:00<?, ?it/s]"
      ]
     },
     "metadata": {},
     "output_type": "display_data"
    },
    {
     "data": {
      "text/plain": [
       "0.8278830647468567"
      ]
     },
     "execution_count": 16,
     "metadata": {},
     "output_type": "execute_result"
    }
   ],
   "source": [
    "prefixes = [\"A photo of \", \"a \", \"A painting of \", \"flickr. \", \"Artstation \", \"stock image \"]\n",
    "#prefixes = [ \"stock image \"]\n",
    "accs = calc_binary_acc(*acc_func_args, *create_label_encs(*label_kwargs, prefixes,\n",
    "                                                        use_multi_label_setting=False))\n",
    "torch.mean(torch.stack(accs)).item()"
   ]
  },
  {
   "cell_type": "code",
   "execution_count": 19,
   "id": "4d58dad1-1863-4e32-8008-5c4b1405334d",
   "metadata": {},
   "outputs": [
    {
     "ename": "NameError",
     "evalue": "name 'bs' is not defined",
     "output_type": "error",
     "traceback": [
      "\u001b[0;31m---------------------------------------------------------------------------\u001b[0m",
      "\u001b[0;31mNameError\u001b[0m                                 Traceback (most recent call last)",
      "\u001b[0;32m/tmp/ipykernel_2458181/1628897184.py\u001b[0m in \u001b[0;36m<module>\u001b[0;34m\u001b[0m\n\u001b[0;32m----> 1\u001b[0;31m \u001b[0mprint\u001b[0m\u001b[0;34m(\u001b[0m\u001b[0mcalc_accuracies\u001b[0m\u001b[0;34m(\u001b[0m\u001b[0;34m*\u001b[0m\u001b[0macc_func_args\u001b[0m\u001b[0;34m,\u001b[0m \u001b[0mcreate_label_encs\u001b[0m\u001b[0;34m(\u001b[0m\u001b[0;34m*\u001b[0m\u001b[0mlabel_kwargs\u001b[0m\u001b[0;34m,\u001b[0m \u001b[0mprefixes\u001b[0m\u001b[0;34m,\u001b[0m \u001b[0muse_multi_label_setting\u001b[0m\u001b[0;34m=\u001b[0m\u001b[0;32mTrue\u001b[0m\u001b[0;34m)\u001b[0m\u001b[0;34m)\u001b[0m\u001b[0;34m)\u001b[0m\u001b[0;34m\u001b[0m\u001b[0;34m\u001b[0m\u001b[0m\n\u001b[0m",
      "\u001b[0;32m~/master_thesis/zero_shot_utils.py\u001b[0m in \u001b[0;36mcreate_label_encs\u001b[0;34m(model, label_names, prefixes, use_multi_label_setting, use_norm)\u001b[0m\n\u001b[1;32m     71\u001b[0m         \u001b[0mlabel_queries\u001b[0m \u001b[0;34m=\u001b[0m \u001b[0;34m[\u001b[0m\u001b[0madd_prompt\u001b[0m\u001b[0;34m(\u001b[0m\u001b[0mlabel_names\u001b[0m\u001b[0;34m,\u001b[0m \u001b[0mprefix\u001b[0m\u001b[0;34m=\u001b[0m\u001b[0mprefix\u001b[0m\u001b[0;34m)\u001b[0m \u001b[0;32mfor\u001b[0m \u001b[0mprefix\u001b[0m \u001b[0;32min\u001b[0m \u001b[0mprefixes\u001b[0m\u001b[0;34m]\u001b[0m\u001b[0;34m\u001b[0m\u001b[0;34m\u001b[0m\u001b[0m\n\u001b[1;32m     72\u001b[0m         \u001b[0;31m# encode queries\u001b[0m\u001b[0;34m\u001b[0m\u001b[0;34m\u001b[0m\u001b[0;34m\u001b[0m\u001b[0m\n\u001b[0;32m---> 73\u001b[0;31m         label_encs = [get_text_features(label_query, model, device, \n\u001b[0m\u001b[1;32m     74\u001b[0m                                              \u001b[0;32mNone\u001b[0m\u001b[0;34m,\u001b[0m\u001b[0;31m#os.path.join(load_path, f\"{clip_name}_caption_feats.pt\"),\u001b[0m\u001b[0;34m\u001b[0m\u001b[0;34m\u001b[0m\u001b[0m\n\u001b[1;32m     75\u001b[0m                                              batch_size=bs, save=False) for label_query in label_queries]\n",
      "\u001b[0;32m~/master_thesis/zero_shot_utils.py\u001b[0m in \u001b[0;36m<listcomp>\u001b[0;34m(.0)\u001b[0m\n\u001b[1;32m     73\u001b[0m         label_encs = [get_text_features(label_query, model, device, \n\u001b[1;32m     74\u001b[0m                                              \u001b[0;32mNone\u001b[0m\u001b[0;34m,\u001b[0m\u001b[0;31m#os.path.join(load_path, f\"{clip_name}_caption_feats.pt\"),\u001b[0m\u001b[0;34m\u001b[0m\u001b[0;34m\u001b[0m\u001b[0m\n\u001b[0;32m---> 75\u001b[0;31m                                              batch_size=bs, save=False) for label_query in label_queries]\n\u001b[0m\u001b[1;32m     76\u001b[0m         \u001b[0mlabel_encs\u001b[0m \u001b[0;34m=\u001b[0m \u001b[0mtorch\u001b[0m\u001b[0;34m.\u001b[0m\u001b[0mstack\u001b[0m\u001b[0;34m(\u001b[0m\u001b[0mlabel_encs\u001b[0m\u001b[0;34m)\u001b[0m\u001b[0;34m.\u001b[0m\u001b[0mmean\u001b[0m\u001b[0;34m(\u001b[0m\u001b[0mdim\u001b[0m\u001b[0;34m=\u001b[0m\u001b[0;36m0\u001b[0m\u001b[0;34m)\u001b[0m\u001b[0;34m\u001b[0m\u001b[0;34m\u001b[0m\u001b[0m\n\u001b[1;32m     77\u001b[0m         \u001b[0mprint\u001b[0m\u001b[0;34m(\u001b[0m\u001b[0mlabel_encs\u001b[0m\u001b[0;34m.\u001b[0m\u001b[0mshape\u001b[0m\u001b[0;34m)\u001b[0m\u001b[0;34m\u001b[0m\u001b[0;34m\u001b[0m\u001b[0m\n",
      "\u001b[0;31mNameError\u001b[0m: name 'bs' is not defined"
     ]
    }
   ],
   "source": [
    "print(calc_accuracies(*acc_func_args, create_label_encs(*label_kwargs, prefixes, use_multi_label_setting=True)))"
   ]
  },
  {
   "cell_type": "code",
   "execution_count": null,
   "id": "37793daf-0a1e-46de-b295-f83e5d0184a6",
   "metadata": {},
   "outputs": [],
   "source": []
  },
  {
   "cell_type": "code",
   "execution_count": null,
   "id": "48fa85c0-aa12-4f5c-b197-98815d6995ee",
   "metadata": {},
   "outputs": [],
   "source": [
    "pos_encs, neg_encs = create_label_encs(*label_kwargs, [\"A photo of \"], use_multi_label_setting=False)\n",
    "baseline_enc = get_text_features([\"A photo of \"], model, device, None, batch_size=1, save=False)[0]"
   ]
  },
  {
   "cell_type": "code",
   "execution_count": null,
   "id": "7b47c72c-30ab-49da-a80f-35f9990eb37d",
   "metadata": {},
   "outputs": [],
   "source": [
    "pos_encs = create_label_encs(*label_kwargs, [\"A photo with \"], use_multi_label_setting=1)\n",
    "neg_encs = create_label_encs(*label_kwargs, [\"A photo without \"], use_multi_label_setting=1)\n",
    "accs = calc_binary_acc(*acc_func_args, pos_encs, neg_encs)\n",
    "print(torch.stack(accs).mean())"
   ]
  },
  {
   "cell_type": "code",
   "execution_count": null,
   "id": "c119be24-a1f9-49fb-abb9-8315fb6fb8f8",
   "metadata": {},
   "outputs": [],
   "source": [
    "pos_encs = create_label_encs(*label_kwargs, [\"A \"], use_multi_label_setting=1)\n",
    "neg_encs = create_label_encs(*label_kwargs, [\"Not a \"], use_multi_label_setting=1)\n",
    "accs = calc_binary_acc(*acc_func_args, pos_encs, neg_encs)\n",
    "print(torch.stack(accs).mean())"
   ]
  },
  {
   "cell_type": "code",
   "execution_count": null,
   "id": "d2a1de45-aa2a-41b9-b131-70ff6cc94116",
   "metadata": {},
   "outputs": [],
   "source": []
  }
 ],
 "metadata": {
  "kernelspec": {
   "display_name": "Python 3 (ipykernel)",
   "language": "python",
   "name": "python3"
  },
  "language_info": {
   "codemirror_mode": {
    "name": "ipython",
    "version": 3
   },
   "file_extension": ".py",
   "mimetype": "text/x-python",
   "name": "python",
   "nbconvert_exporter": "python",
   "pygments_lexer": "ipython3",
   "version": "3.8.10"
  }
 },
 "nbformat": 4,
 "nbformat_minor": 5
}
