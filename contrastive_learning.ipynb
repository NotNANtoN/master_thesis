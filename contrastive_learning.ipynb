{
 "cells": [
  {
   "cell_type": "code",
   "execution_count": 1,
   "id": "b371a013-679b-4ce4-b5e7-24d69b50dde1",
   "metadata": {
    "tags": []
   },
   "outputs": [
    {
     "name": "stderr",
     "output_type": "stream",
     "text": [
      "Global seed set to 0\n"
     ]
    }
   ],
   "source": [
    "from arg_utils import is_notebook, get_cfg\n",
    "cfg = get_cfg()\n",
    "# override variables to experiment in notebook\n",
    "if is_notebook():\n",
    "    cfg[\"gpu\"] = 2\n",
    "    cfg[\"debug\"] = False\n",
    "    \n",
    "    cfg[\"model_name\"] = \"ViT-B/16\"    \n",
    "    cfg[\"mode\"] = \"adapters\" # \"adapters\", \"train_mlp_norm\", \"full\"\n",
    "    cfg[\"mixup_alpha\"] = 0.5\n",
    "    \n",
    "    cfg[\"text2img_num_feats\"] = 2\n",
    "    \n",
    "# overrides and calculated default vals\n",
    "if cfg[\"batch_size\"] is None:\n",
    "    if cfg[\"model_name\"] == \"ViT-L/14\":\n",
    "        batch_size = 4 # max 32 for single GPU CL on VitB16, 4 for ViT-L/14 (9.2GB)\n",
    "    elif cfg[\"model_name\"] == \"ViT-B/16\":\n",
    "        batch_size = 32\n",
    "    elif cfg[\"model_name\"] == \"ViT-B/32\":\n",
    "        batch_size = 64\n",
    "    else:\n",
    "        batch_size = 32\n",
    "    cfg[\"batch_size\"] = batch_size\n",
    "cfg[\"val_check_interval\"] = int(cfg[\"val_check_interval\"] * (32 / cfg[\"batch_size\"]))\n",
    "    \n",
    "\n",
    "# seed everything using pytorch lightning\n",
    "import pytorch_lightning\n",
    "pytorch_lightning.seed_everything(cfg[\"seed\"])\n",
    "\n",
    "locals().update(cfg)"
   ]
  },
  {
   "cell_type": "code",
   "execution_count": 2,
   "id": "b274dffd-8fd3-40b1-ac80-56a4a83db9b0",
   "metadata": {},
   "outputs": [],
   "source": [
    "import os\n",
    "os.environ[\"CUDA_VISIBLE_DEVICES\"] = str(cfg[\"gpu\"])\n",
    "\n",
    "import pandas as pd\n",
    "from PIL import Image\n",
    "import numpy as np\n",
    "\n",
    "import torch\n",
    "\n",
    "root_folder = \"/raid/8wiehe/\""
   ]
  },
  {
   "cell_type": "code",
   "execution_count": 3,
   "id": "bc8b08bc",
   "metadata": {},
   "outputs": [],
   "source": [
    "from contrastive_learning_utils import init_clip_model\n",
    "clip_base_model, transform, clip_name = init_clip_model(cfg)\n"
   ]
  },
  {
   "cell_type": "code",
   "execution_count": 15,
   "id": "d955e7a1",
   "metadata": {},
   "outputs": [
    {
     "name": "stdout",
     "output_type": "stream",
     "text": [
      "11.5 s ± 2.27 s per loop (mean ± std. dev. of 7 runs, 1 loop each)\n"
     ]
    }
   ],
   "source": [
    "from contrastive_learning_utils import init_dm, init_lit_model, init_trainer, init_test_dms\n",
    "\n",
    "\n",
    "data_module = init_dm(cfg[\"dataset_name\"], root_folder, clip_base_model, transform, cfg, use_cl=True,\n",
    "                          use_augs=cfg[\"use_augs\"], batch_size=cfg[\"batch_size\"], dataset_size=cfg[\"dataset_size\"],\n",
    "                          num_workers=8, pin_memory=False)\n",
    "\n",
    "\n",
    "def get_all_labels(dl):\n",
    "    dl = data_module.val_dataloader()\n",
    "    labels = torch.cat([x[1] for x in dl], dim=0)\n",
    "    return labels\n",
    "\n",
    "%timeit get_all_labels(data_module.val_dataloader())"
   ]
  },
  {
   "cell_type": "code",
   "execution_count": 26,
   "id": "1e126c50",
   "metadata": {},
   "outputs": [
    {
     "name": "stdout",
     "output_type": "stream",
     "text": [
      "6.29 s ± 494 ms per loop (mean ± std. dev. of 7 runs, 1 loop each)\n"
     ]
    }
   ],
   "source": [
    "from contrastive_learning_utils import init_dm, init_lit_model, init_trainer, init_test_dms\n",
    "\n",
    "\n",
    "data_module = init_dm(cfg[\"dataset_name\"], root_folder, clip_base_model, transform, cfg, use_cl=True,\n",
    "                          use_augs=cfg[\"use_augs\"], batch_size=cfg[\"batch_size\"], dataset_size=cfg[\"dataset_size\"],\n",
    "                          num_workers=16, pin_memory=True)\n",
    "\n",
    "%timeit get_all_labels(data_module.val_dataloader())"
   ]
  },
  {
   "cell_type": "code",
   "execution_count": 12,
   "id": "e31361f1",
   "metadata": {},
   "outputs": [
    {
     "name": "stdout",
     "output_type": "stream",
     "text": [
      "Seconds:  8.64484429359436\n",
      "torch.Size([2991, 14])\n",
      "tensor([ 528.,  534.,  113.,  326.,   90.,   34.,  109.,  560., 1129.,  670.,\n",
      "          22.,  194.,  112.,  726.], dtype=torch.float64)\n"
     ]
    }
   ],
   "source": [
    "from contrastive_learning_utils import init_dm, init_lit_model, init_trainer, init_test_dms\n",
    "\n",
    "data_module = init_dm(cfg[\"dataset_name\"], root_folder, clip_base_model, transform, cfg, use_cl=True,\n",
    "                          use_augs=cfg[\"use_augs\"], batch_size=cfg[\"batch_size\"], dataset_size=cfg[\"dataset_size\"],\n",
    "                          num_workers=2, pin_memory=False)\n",
    "\n",
    "# test labels in train dataloader \n",
    "import time\n",
    "start = time.time()\n",
    "dl = data_module.val_dataloader()\n",
    "labels = torch.cat([x[1] for x in dl], dim=0)\n",
    "print(\"Seconds: \", time.time() - start)\n",
    "print(labels.shape)\n",
    "print(labels.sum(dim=0))"
   ]
  },
  {
   "cell_type": "code",
   "execution_count": null,
   "id": "0ee821c2-1384-4d5a-81d5-acbddc548831",
   "metadata": {},
   "outputs": [],
   "source": [
    "lit_model = init_lit_model(clip_base_model, test_data_modules, data_module.steps_per_epoch, data_module.label_names, cfg)\n",
    "trainer = init_trainer(root_folder, cfg)\n",
    "trainer.fit(lit_model, data_module)"
   ]
  },
  {
   "cell_type": "code",
   "execution_count": null,
   "id": "fa4f72ac-3be9-4c99-8b16-0e3c86bed09e",
   "metadata": {},
   "outputs": [],
   "source": []
  },
  {
   "cell_type": "code",
   "execution_count": null,
   "id": "20ec7252-9c0d-4510-a9ad-29e79149b732",
   "metadata": {},
   "outputs": [],
   "source": []
  }
 ],
 "metadata": {
  "kernelspec": {
   "display_name": "Python 3 (ipykernel)",
   "language": "python",
   "name": "python3"
  },
  "language_info": {
   "codemirror_mode": {
    "name": "ipython",
    "version": 3
   },
   "file_extension": ".py",
   "mimetype": "text/x-python",
   "name": "python",
   "nbconvert_exporter": "python",
   "pygments_lexer": "ipython3",
   "version": "3.8.10"
  }
 },
 "nbformat": 4,
 "nbformat_minor": 5
}
