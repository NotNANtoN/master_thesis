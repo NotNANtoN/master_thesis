{
 "cells": [
  {
   "cell_type": "code",
   "execution_count": null,
   "id": "48e66afc-bfab-40b8-98ca-8c380fa30bb6",
   "metadata": {},
   "outputs": [],
   "source": [
    "# calc contrastive loss\n",
    "#list_image, list_txt = batch #list_images is list of image in numpy array(np.uint8), or list of PIL images\n",
    "#images= torch.stack([preprocess(Image.fromarray(img)) for img in list_image],dim=0).to(device) # omit the Image.fromarray if the images already in PIL format, change this line to images=list_image if using preprocess inside the dataset class\n",
    "#texts = clip.tokenize(list_txt).to(device)\n",
    "#logits_per_image, logits_per_text = model(images, texts)\n",
    "#ground_truth = torch.arange(BATCH_SIZE, dtype=torch.long, device=device)\n",
    "#loss = (loss_img(logits_per_image,ground_truth) + loss_txt(logits_per_text,ground_truth))/2"
   ]
  }
 ],
 "metadata": {
  "kernelspec": {
   "display_name": "Python 3 (ipykernel)",
   "language": "python",
   "name": "python3"
  },
  "language_info": {
   "codemirror_mode": {
    "name": "ipython",
    "version": 3
   },
   "file_extension": ".py",
   "mimetype": "text/x-python",
   "name": "python",
   "nbconvert_exporter": "python",
   "pygments_lexer": "ipython3",
   "version": "3.8.10"
  }
 },
 "nbformat": 4,
 "nbformat_minor": 5
}
