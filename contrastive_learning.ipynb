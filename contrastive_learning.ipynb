{
 "cells": [
  {
   "cell_type": "code",
   "execution_count": 1,
   "id": "b371a013-679b-4ce4-b5e7-24d69b50dde1",
   "metadata": {
    "tags": []
   },
   "outputs": [
    {
     "name": "stderr",
     "output_type": "stream",
     "text": [
      "Global seed set to 0\n"
     ]
    }
   ],
   "source": [
    "from arg_utils import is_notebook, get_cfg\n",
    "cfg = get_cfg()\n",
    "# override variables to experiment in notebook\n",
    "if is_notebook():\n",
    "    cfg[\"gpu\"] = 2\n",
    "    cfg[\"debug\"] = False\n",
    "    \n",
    "    cfg[\"model_name\"] = \"ViT-B/16\"    \n",
    "    cfg[\"mode\"] = \"adapters\" # \"adapters\", \"train_mlp_norm\", \"full\"\n",
    "    cfg[\"mixup_alpha\"] = 0.5\n",
    "    \n",
    "    cfg[\"text2img_num_feats\"] = 2\n",
    "    \n",
    "# overrides and calculated default vals\n",
    "if cfg[\"batch_size\"] is None:\n",
    "    if cfg[\"model_name\"] == \"ViT-L/14\":\n",
    "        batch_size = 4 # max 32 for single GPU CL on VitB16, 4 for ViT-L/14 (9.2GB)\n",
    "    elif cfg[\"model_name\"] == \"ViT-B/16\":\n",
    "        batch_size = 32\n",
    "    elif cfg[\"model_name\"] == \"ViT-B/32\":\n",
    "        batch_size = 64\n",
    "    else:\n",
    "        batch_size = 32\n",
    "    cfg[\"batch_size\"] = batch_size\n",
    "cfg[\"val_check_interval\"] = int(cfg[\"val_check_interval\"] * (32 / cfg[\"batch_size\"]))\n",
    "    \n",
    "\n",
    "# seed everything using pytorch lightning\n",
    "import pytorch_lightning\n",
    "pytorch_lightning.seed_everything(cfg[\"seed\"])\n",
    "\n",
    "locals().update(cfg)"
   ]
  },
  {
   "cell_type": "code",
   "execution_count": 2,
   "id": "b274dffd-8fd3-40b1-ac80-56a4a83db9b0",
   "metadata": {},
   "outputs": [],
   "source": [
    "import os\n",
    "os.environ[\"CUDA_VISIBLE_DEVICES\"] = str(cfg[\"gpu\"])\n",
    "\n",
    "import pandas as pd\n",
    "from PIL import Image\n",
    "import numpy as np\n",
    "\n",
    "import torch\n",
    "\n",
    "root_folder = \"/raid/8wiehe/\""
   ]
  },
  {
   "cell_type": "code",
   "execution_count": 4,
   "id": "d955e7a1",
   "metadata": {},
   "outputs": [
    {
     "name": "stderr",
     "output_type": "stream",
     "text": [
      "Failed to detect the name of this notebook, you can set it manually with the WANDB_NOTEBOOK_NAME environment variable to enable code saving.\n"
     ]
    },
    {
     "name": "stdout",
     "output_type": "stream",
     "text": [
      "602496 149556226 0.004028558463356785\n"
     ]
    },
    {
     "name": "stderr",
     "output_type": "stream",
     "text": [
      "\u001b[34m\u001b[1mwandb\u001b[0m: Currently logged in as: \u001b[33mantonius\u001b[0m (use `wandb login --relogin` to force relogin)\n",
      "\u001b[34m\u001b[1mwandb\u001b[0m: wandb version 0.12.11 is available!  To upgrade, please run:\n",
      "\u001b[34m\u001b[1mwandb\u001b[0m:  $ pip install wandb --upgrade\n"
     ]
    },
    {
     "data": {
      "text/html": [
       "\n",
       "                    Syncing run <strong><a href=\"https://wandb.ai/antonius/cl_early_tests/runs/1mgy1wsp\" target=\"_blank\">mudslide-mousse-121</a></strong> to <a href=\"https://wandb.ai/antonius/cl_early_tests\" target=\"_blank\">Weights & Biases</a> (<a href=\"https://docs.wandb.com/integrations/jupyter.html\" target=\"_blank\">docs</a>).<br/>\n",
       "\n",
       "                "
      ],
      "text/plain": [
       "<IPython.core.display.HTML object>"
      ]
     },
     "metadata": {},
     "output_type": "display_data"
    },
    {
     "name": "stderr",
     "output_type": "stream",
     "text": [
      "Using 16bit native Automatic Mixed Precision (AMP)\n",
      "GPU available: True, used: True\n",
      "TPU available: False, using: 0 TPU cores\n",
      "IPU available: False, using: 0 IPUs\n",
      "LOCAL_RANK: 0 - CUDA_VISIBLE_DEVICES: [2]\n",
      "\n",
      "  | Name      | Type             | Params\n",
      "-----------------------------------------------\n",
      "0 | model     | CLIP             | 150 M \n",
      "1 | loss_func | CrossEntropyLoss | 0     \n",
      "-----------------------------------------------\n",
      "602 K     Trainable params\n",
      "149 M     Non-trainable params\n",
      "150 M     Total params\n",
      "300.317   Total estimated model params size (MB)\n"
     ]
    },
    {
     "data": {
      "application/vnd.jupyter.widget-view+json": {
       "model_id": "75c5b0144dad4e71beba95d25c63c4cf",
       "version_major": 2,
       "version_minor": 0
      },
      "text/plain": [
       "Validation sanity check: 0it [00:00, ?it/s]"
      ]
     },
     "metadata": {},
     "output_type": "display_data"
    },
    {
     "name": "stderr",
     "output_type": "stream",
     "text": [
      "Global seed set to 0\n"
     ]
    },
    {
     "data": {
      "application/vnd.jupyter.widget-view+json": {
       "model_id": "34fad3b66e114c8bbacf32d36915dfc7",
       "version_major": 2,
       "version_minor": 0
      },
      "text/plain": [
       "Training: 0it [00:00, ?it/s]"
      ]
     },
     "metadata": {},
     "output_type": "display_data"
    },
    {
     "data": {
      "application/vnd.jupyter.widget-view+json": {
       "model_id": "fd5a12413ebe420e9c3b8f0caac3f093",
       "version_major": 2,
       "version_minor": 0
      },
      "text/plain": [
       "Validating: 0it [00:00, ?it/s]"
      ]
     },
     "metadata": {},
     "output_type": "display_data"
    }
   ],
   "source": [
    "from contrastive_learning_utils import init_dm, init_lit_model, init_clip_model, init_trainer, init_test_dms\n",
    "\n",
    "clip_base_model, transform, clip_name = init_clip_model(cfg)\n",
    "data_module = init_dm(cfg[\"dataset_name\"], root_folder, clip_base_model, transform, cfg, use_cl=True, use_augs=cfg[\"use_augs\"], batch_size=cfg[\"batch_size\"])\n",
    "test_data_modules = init_test_dms([\"covidx\"], transform, cfg)\n",
    "\n",
    "lit_model = init_lit_model(clip_base_model, test_data_modules, data_module.steps_per_epoch, data_module.label_names, cfg)\n",
    "trainer = init_trainer(root_folder, cfg)\n",
    "trainer.fit(lit_model, data_module)"
   ]
  },
  {
   "cell_type": "code",
   "execution_count": null,
   "id": "0ee821c2-1384-4d5a-81d5-acbddc548831",
   "metadata": {},
   "outputs": [],
   "source": []
  },
  {
   "cell_type": "code",
   "execution_count": null,
   "id": "fa4f72ac-3be9-4c99-8b16-0e3c86bed09e",
   "metadata": {},
   "outputs": [],
   "source": []
  },
  {
   "cell_type": "code",
   "execution_count": null,
   "id": "20ec7252-9c0d-4510-a9ad-29e79149b732",
   "metadata": {},
   "outputs": [],
   "source": []
  }
 ],
 "metadata": {
  "kernelspec": {
   "display_name": "Python 3 (ipykernel)",
   "language": "python",
   "name": "python3"
  },
  "language_info": {
   "codemirror_mode": {
    "name": "ipython",
    "version": 3
   },
   "file_extension": ".py",
   "mimetype": "text/x-python",
   "name": "python",
   "nbconvert_exporter": "python",
   "pygments_lexer": "ipython3",
   "version": "3.9.10"
  }
 },
 "nbformat": 4,
 "nbformat_minor": 5
}
