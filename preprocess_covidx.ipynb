{
 "cells": [
  {
   "cell_type": "code",
   "execution_count": 2,
   "metadata": {},
   "outputs": [],
   "source": [
    "import pandas as pd"
   ]
  },
  {
   "cell_type": "code",
   "execution_count": 3,
   "metadata": {},
   "outputs": [],
   "source": [
    "train_df = pd.read_csv(\"data/covidx-cxr2/train.txt\", sep=\" \", names=[\"study_id\", \"img_path\", \"label\", \"source\"])\n",
    "test_df = pd.read_csv(\"data/covidx-cxr2/test.txt\", sep=\" \", names=[\"study_id\", \"img_path\", \"label\", \"source\"])\n",
    "label_names = [\"covid\"]"
   ]
  },
  {
   "cell_type": "code",
   "execution_count": 3,
   "metadata": {},
   "outputs": [
    {
     "data": {
      "text/plain": [
       "positive    16490\n",
       "negative    13992\n",
       "Name: label, dtype: int64"
      ]
     },
     "execution_count": 3,
     "metadata": {},
     "output_type": "execute_result"
    }
   ],
   "source": [
    "train_df[\"label\"].value_counts()"
   ]
  },
  {
   "cell_type": "code",
   "execution_count": 4,
   "metadata": {},
   "outputs": [
    {
     "data": {
      "text/plain": [
       "label     source    \n",
       "negative  rsna          13389\n",
       "          cohen           297\n",
       "          rnsa            199\n",
       "          actmed          107\n",
       "positive  stonybrook    14132\n",
       "          sirm            943\n",
       "          ricord          896\n",
       "          cohen           270\n",
       "          bimcv           200\n",
       "          actmed           25\n",
       "          fig1             24\n",
       "Name: source, dtype: int64"
      ]
     },
     "execution_count": 4,
     "metadata": {},
     "output_type": "execute_result"
    }
   ],
   "source": [
    "train_df.groupby(\"label\")[\"source\"].value_counts()"
   ]
  },
  {
   "cell_type": "code",
   "execution_count": 5,
   "metadata": {},
   "outputs": [
    {
     "data": {
      "text/plain": [
       "label     source\n",
       "negative  rsna      200\n",
       "positive  ricord    200\n",
       "Name: source, dtype: int64"
      ]
     },
     "execution_count": 5,
     "metadata": {},
     "output_type": "execute_result"
    }
   ],
   "source": [
    "test_df.groupby(\"label\")[\"source\"].value_counts()"
   ]
  },
  {
   "cell_type": "code",
   "execution_count": 6,
   "metadata": {},
   "outputs": [
    {
     "data": {
      "text/plain": [
       "ricord    200\n",
       "rsna      200\n",
       "Name: source, dtype: int64"
      ]
     },
     "execution_count": 6,
     "metadata": {},
     "output_type": "execute_result"
    }
   ],
   "source": [
    "test_df[\"source\"].value_counts()"
   ]
  },
  {
   "cell_type": "code",
   "execution_count": 7,
   "metadata": {},
   "outputs": [
    {
     "data": {
      "text/plain": [
       "Index(['study_id', 'img_path', 'label', 'source'], dtype='object')"
      ]
     },
     "execution_count": 7,
     "metadata": {},
     "output_type": "execute_result"
    }
   ],
   "source": [
    "train_df.columns"
   ]
  },
  {
   "cell_type": "code",
   "execution_count": 8,
   "metadata": {},
   "outputs": [
    {
     "data": {
      "text/html": [
       "<div>\n",
       "<style scoped>\n",
       "    .dataframe tbody tr th:only-of-type {\n",
       "        vertical-align: middle;\n",
       "    }\n",
       "\n",
       "    .dataframe tbody tr th {\n",
       "        vertical-align: top;\n",
       "    }\n",
       "\n",
       "    .dataframe thead th {\n",
       "        text-align: right;\n",
       "    }\n",
       "</style>\n",
       "<table border=\"1\" class=\"dataframe\">\n",
       "  <thead>\n",
       "    <tr style=\"text-align: right;\">\n",
       "      <th></th>\n",
       "      <th>study_id</th>\n",
       "      <th>img_path</th>\n",
       "      <th>label</th>\n",
       "      <th>source</th>\n",
       "    </tr>\n",
       "  </thead>\n",
       "  <tbody>\n",
       "    <tr>\n",
       "      <th>0</th>\n",
       "      <td>5</td>\n",
       "      <td>ARDSSevere.png</td>\n",
       "      <td>negative</td>\n",
       "      <td>cohen</td>\n",
       "    </tr>\n",
       "    <tr>\n",
       "      <th>1</th>\n",
       "      <td>25</td>\n",
       "      <td>acute-respiratory-distress-syndrome-ards-1.jpg</td>\n",
       "      <td>negative</td>\n",
       "      <td>cohen</td>\n",
       "    </tr>\n",
       "    <tr>\n",
       "      <th>2</th>\n",
       "      <td>26</td>\n",
       "      <td>acute-respiratory-distress-syndrome-ards.jpg</td>\n",
       "      <td>negative</td>\n",
       "      <td>cohen</td>\n",
       "    </tr>\n",
       "    <tr>\n",
       "      <th>3</th>\n",
       "      <td>27</td>\n",
       "      <td>ards-secondary-to-tiger-snake-bite.png</td>\n",
       "      <td>negative</td>\n",
       "      <td>cohen</td>\n",
       "    </tr>\n",
       "    <tr>\n",
       "      <th>4</th>\n",
       "      <td>28</td>\n",
       "      <td>pneumocystis-pneumonia-2-PA.png</td>\n",
       "      <td>negative</td>\n",
       "      <td>cohen</td>\n",
       "    </tr>\n",
       "    <tr>\n",
       "      <th>...</th>\n",
       "      <td>...</td>\n",
       "      <td>...</td>\n",
       "      <td>...</td>\n",
       "      <td>...</td>\n",
       "    </tr>\n",
       "    <tr>\n",
       "      <th>30477</th>\n",
       "      <td>55204bb8-89fc-449d-8563-e91654abea9d</td>\n",
       "      <td>55204bb8-89fc-449d-8563-e91654abea9d.png</td>\n",
       "      <td>negative</td>\n",
       "      <td>rnsa</td>\n",
       "    </tr>\n",
       "    <tr>\n",
       "      <th>30478</th>\n",
       "      <td>0f4b80b6-fd39-451f-aebf-7cdb1b655c0b</td>\n",
       "      <td>0f4b80b6-fd39-451f-aebf-7cdb1b655c0b.png</td>\n",
       "      <td>negative</td>\n",
       "      <td>rnsa</td>\n",
       "    </tr>\n",
       "    <tr>\n",
       "      <th>30479</th>\n",
       "      <td>5fb64e85-62ef-4852-8ad1-f799015c8cc3</td>\n",
       "      <td>5fb64e85-62ef-4852-8ad1-f799015c8cc3.png</td>\n",
       "      <td>negative</td>\n",
       "      <td>rnsa</td>\n",
       "    </tr>\n",
       "    <tr>\n",
       "      <th>30480</th>\n",
       "      <td>c57ad4fd-3aa8-4ae8-a262-7336360d8265</td>\n",
       "      <td>c57ad4fd-3aa8-4ae8-a262-7336360d8265.png</td>\n",
       "      <td>negative</td>\n",
       "      <td>rnsa</td>\n",
       "    </tr>\n",
       "    <tr>\n",
       "      <th>30481</th>\n",
       "      <td>c56b4527-615d-414f-a375-081e6f3bbfdc</td>\n",
       "      <td>c56b4527-615d-414f-a375-081e6f3bbfdc.png</td>\n",
       "      <td>negative</td>\n",
       "      <td>rnsa</td>\n",
       "    </tr>\n",
       "  </tbody>\n",
       "</table>\n",
       "<p>30482 rows × 4 columns</p>\n",
       "</div>"
      ],
      "text/plain": [
       "                                   study_id  \\\n",
       "0                                         5   \n",
       "1                                        25   \n",
       "2                                        26   \n",
       "3                                        27   \n",
       "4                                        28   \n",
       "...                                     ...   \n",
       "30477  55204bb8-89fc-449d-8563-e91654abea9d   \n",
       "30478  0f4b80b6-fd39-451f-aebf-7cdb1b655c0b   \n",
       "30479  5fb64e85-62ef-4852-8ad1-f799015c8cc3   \n",
       "30480  c57ad4fd-3aa8-4ae8-a262-7336360d8265   \n",
       "30481  c56b4527-615d-414f-a375-081e6f3bbfdc   \n",
       "\n",
       "                                             img_path     label source  \n",
       "0                                      ARDSSevere.png  negative  cohen  \n",
       "1      acute-respiratory-distress-syndrome-ards-1.jpg  negative  cohen  \n",
       "2        acute-respiratory-distress-syndrome-ards.jpg  negative  cohen  \n",
       "3              ards-secondary-to-tiger-snake-bite.png  negative  cohen  \n",
       "4                     pneumocystis-pneumonia-2-PA.png  negative  cohen  \n",
       "...                                               ...       ...    ...  \n",
       "30477        55204bb8-89fc-449d-8563-e91654abea9d.png  negative   rnsa  \n",
       "30478        0f4b80b6-fd39-451f-aebf-7cdb1b655c0b.png  negative   rnsa  \n",
       "30479        5fb64e85-62ef-4852-8ad1-f799015c8cc3.png  negative   rnsa  \n",
       "30480        c57ad4fd-3aa8-4ae8-a262-7336360d8265.png  negative   rnsa  \n",
       "30481        c56b4527-615d-414f-a375-081e6f3bbfdc.png  negative   rnsa  \n",
       "\n",
       "[30482 rows x 4 columns]"
      ]
     },
     "execution_count": 8,
     "metadata": {},
     "output_type": "execute_result"
    }
   ],
   "source": [
    "train_df.rename({})"
   ]
  },
  {
   "cell_type": "code",
   "execution_count": 9,
   "metadata": {},
   "outputs": [],
   "source": [
    "# binarize labels\n",
    "train_df[\"label\"] = train_df[\"label\"].apply(lambda x: 1 if x == \"positive\" else 0)\n",
    "test_df[\"label\"] = test_df[\"label\"].apply(lambda x: 1 if x == \"positive\" else 0)\n",
    "\n",
    "# add train and test folder to img path \n",
    "train_df[\"img_path\"] = \"train/\" + train_df[\"img_path\"]\n",
    "test_df[\"img_path\"] = \"test/\" + test_df[\"img_path\"]"
   ]
  },
  {
   "cell_type": "code",
   "execution_count": null,
   "metadata": {},
   "outputs": [],
   "source": []
  },
  {
   "cell_type": "code",
   "execution_count": 10,
   "metadata": {},
   "outputs": [
    {
     "name": "stderr",
     "output_type": "stream",
     "text": [
      "100%|██████████| 30882/30882 [20:44<00:00, 24.82it/s]\n"
     ]
    }
   ],
   "source": [
    "# define splits\n",
    "from sklearn.model_selection import train_test_split\n",
    "real_train_df, val_df = train_test_split(train_df, test_size=0.1, random_state=42)\n",
    "real_train_df[\"split\"] = \"train\"\n",
    "val_df[\"split\"] = \"val\"\n",
    "test_df[\"split\"] = \"test\"\n",
    "\n",
    "# merge splits\n",
    "total_df = pd.concat([real_train_df, val_df, test_df])\n",
    "\n",
    "# convert label int column to numpy arrays\n",
    "import numpy as np\n",
    "total_df[\"labels\"] = total_df[\"label\"].apply(lambda x: np.array([x]))\n",
    "total_df = total_df.drop(columns=[\"label\"])\n",
    "\n",
    "# add absolute total path to img_path\n",
    "import os\n",
    "total_df[\"img_path\"] = total_df[\"img_path\"].apply(lambda x: os.path.join(\"/srv/home/8wiehe/master_thesis/data/covidx-cxr2/\", x))\n",
    "\n",
    "new_root_path = \"/srv/home/8wiehe/master_thesis/data/covidx-cxr2/small_all/\"\n",
    "os.makedirs(new_root_path, exist_ok=True)\n",
    "from mimic_preprocessing import resize_img\n",
    "from PIL import Image\n",
    "\n",
    "# resize images and adjust img_path to new path\n",
    "def resize_and_save(img_path, new_root_path):\n",
    "    img = Image.open(img_path).convert(\"RGB\")\n",
    "    img = resize_img(img, 256)\n",
    "    img.save(os.path.join(new_root_path, img_path.split(\"/\")[-1]), quality=95, subsampling=0)\n",
    "# resize\n",
    "# init tqdm  progress apply\n",
    "from tqdm import tqdm\n",
    "tqdm.pandas()\n",
    "total_df[\"img_path\"].progress_apply(lambda x: resize_and_save(x, new_root_path))\n",
    "# change paths\n",
    "total_df[\"img_path\"] = total_df[\"img_path\"].apply(lambda path: os.path.join(new_root_path, path.split(\"/\")[-1]))\n"
   ]
  },
  {
   "cell_type": "code",
   "execution_count": 11,
   "metadata": {},
   "outputs": [
    {
     "name": "stdout",
     "output_type": "stream",
     "text": [
      "/srv/home/8wiehe/master_thesis/data/covidx-cxr2/small_all/MIDRC-RICORD-1C-SITE2-000106-15732-0.png\n",
      "[1]\n",
      "(256, 210)\n"
     ]
    },
    {
     "data": {
      "image/png": "[encoded data removed]",
      "text/plain": [
       "<PIL.PngImagePlugin.PngImageFile image mode=RGB size=256x210 at 0x7F6D5BD23460>"
      ]
     },
     "execution_count": 11,
     "metadata": {},
     "output_type": "execute_result"
    }
   ],
   "source": [
    "# test image loading\n",
    "from PIL import Image\n",
    "\n",
    "idx = -300\n",
    "\n",
    "path = total_df.iloc[idx][\"img_path\"]\n",
    "print(path)\n",
    "# print label\n",
    "print(total_df.iloc[idx][\"labels\"])\n",
    "pil_img = Image.open(path)\n",
    "print(pil_img.size)\n",
    "pil_img"
   ]
  },
  {
   "cell_type": "code",
   "execution_count": 13,
   "metadata": {},
   "outputs": [],
   "source": [
    "# save df\n",
    "os.makedirs(\"covidx\", exist_ok=True)\n",
    "total_df.to_pickle(\"covidx/final_df.pkl\")\n",
    "import numpy as np\n",
    "np.save(\"covidx/label_names.npy\", label_names)"
   ]
  },
  {
   "cell_type": "code",
   "execution_count": 5,
   "metadata": {},
   "outputs": [],
   "source": []
  },
  {
   "cell_type": "code",
   "execution_count": null,
   "metadata": {},
   "outputs": [],
   "source": []
  },
  {
   "cell_type": "code",
   "execution_count": null,
   "metadata": {},
   "outputs": [],
   "source": [
    "df"
   ]
  },
  {
   "cell_type": "code",
   "execution_count": null,
   "metadata": {},
   "outputs": [],
   "source": [
    "label_names"
   ]
  },
  {
   "cell_type": "code",
   "execution_count": null,
   "metadata": {},
   "outputs": [],
   "source": []
  }
 ],
 "metadata": {
  "interpreter": {
   "hash": "31f2aee4e71d21fbe5cf8b01ff0e069b9275f58929596ceb00d14d90e3e16cd6"
  },
  "kernelspec": {
   "display_name": "Python 3.8.10 64-bit",
   "language": "python",
   "name": "python3"
  },
  "language_info": {
   "codemirror_mode": {
    "name": "ipython",
    "version": 3
   },
   "file_extension": ".py",
   "mimetype": "text/x-python",
   "name": "python",
   "nbconvert_exporter": "python",
   "pygments_lexer": "ipython3",
   "version": "3.8.10"
  },
  "orig_nbformat": 4
 },
 "nbformat": 4,
 "nbformat_minor": 2
}
