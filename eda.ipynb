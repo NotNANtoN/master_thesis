{
 "cells": [
  {
   "cell_type": "code",
   "execution_count": null,
   "id": "ba47f44d-1606-4049-8f92-e9c8cf993fb1",
   "metadata": {},
   "outputs": [],
   "source": []
  },
  {
   "cell_type": "code",
   "execution_count": 1,
   "id": "1eabb073-b37b-4b7a-a36b-edd911a4de7a",
   "metadata": {},
   "outputs": [],
   "source": [
    "import os\n",
    "\n",
    "import matplotlib.pyplot as plt\n",
    "import seaborn as sns\n",
    "import numpy as np\n",
    "import pandas as pd\n",
    "from PIL import Image\n",
    "\n",
    "from dataset_utils import load_dataset"
   ]
  },
  {
   "cell_type": "code",
   "execution_count": 2,
   "id": "704e8f80-860d-40a2-8c60-ef1d1bd89611",
   "metadata": {},
   "outputs": [],
   "source": [
    "dataset = \"mimic-cxr\"\n",
    "df, label_names = load_dataset(dataset)\n",
    "# the most important columns: [img_path, caption, labels]"
   ]
  },
  {
   "cell_type": "code",
   "execution_count": 32,
   "id": "1455c966-adb6-4cc8-beac-16d0f211b361",
   "metadata": {},
   "outputs": [],
   "source": [
    "lens = df[\"labels\"].apply(lambda x: len(x))"
   ]
  },
  {
   "cell_type": "code",
   "execution_count": 67,
   "id": "2ea9ae6b-3be9-4b7a-9903-7b3b33527bcd",
   "metadata": {},
   "outputs": [
    {
     "data": {
      "text/plain": [
       "Index(['subject_id', 'study_id', 'img_id', 'img_path', 'raw_caption',\n",
       "       'caption', 'split', 'labels'],\n",
       "      dtype='object')"
      ]
     },
     "execution_count": 67,
     "metadata": {},
     "output_type": "execute_result"
    }
   ],
   "source": [
    "df.columns"
   ]
  },
  {
   "cell_type": "code",
   "execution_count": 71,
   "id": "af65bf14-6b2e-4c7b-ac3c-3ca2491b437f",
   "metadata": {},
   "outputs": [
    {
     "ename": "AssertionError",
     "evalue": "(410, 1999, 'INDICATION: man with History of right pleurodesis with apical blebectomy for spontaneous pneumothorax ×2, _ now with upper respiratory congestion associated with left mid axillary discomfort // Please evaluate for evidence of left pneumothorax, pneumonia IMPRESSION: Heart size is normal. Postsurgical changes of the right hemithorax are stable. Lungs are clear. No pleural effusion or pneumothorax is present.', array([73, 78, 68, ..., 32, 32, 32], dtype=uint8))",
     "output_type": "error",
     "traceback": [
      "\u001b[0;31m---------------------------------------------------------------------------\u001b[0m",
      "\u001b[0;31mAssertionError\u001b[0m                            Traceback (most recent call last)",
      "\u001b[0;32m/tmp/ipykernel_1626358/4244551228.py\u001b[0m in \u001b[0;36m<module>\u001b[0;34m\u001b[0m\n\u001b[1;32m      9\u001b[0m     \u001b[0mpadded_text\u001b[0m \u001b[0;34m=\u001b[0m \u001b[0mtext\u001b[0m \u001b[0;34m+\u001b[0m \u001b[0;34m(\u001b[0m\u001b[0;34m\" \"\u001b[0m \u001b[0;34m*\u001b[0m \u001b[0;34m(\u001b[0m\u001b[0mmax_len\u001b[0m \u001b[0;34m-\u001b[0m \u001b[0mlen\u001b[0m\u001b[0;34m(\u001b[0m\u001b[0mtext\u001b[0m\u001b[0;34m)\u001b[0m\u001b[0;34m)\u001b[0m\u001b[0;34m)\u001b[0m\u001b[0;34m\u001b[0m\u001b[0;34m\u001b[0m\u001b[0m\n\u001b[1;32m     10\u001b[0m     \u001b[0mpadded_text\u001b[0m \u001b[0;34m=\u001b[0m \u001b[0mnp\u001b[0m\u001b[0;34m.\u001b[0m\u001b[0mfrombuffer\u001b[0m\u001b[0;34m(\u001b[0m\u001b[0mpadded_text\u001b[0m\u001b[0;34m.\u001b[0m\u001b[0mencode\u001b[0m\u001b[0;34m(\u001b[0m\u001b[0;34m'ascii'\u001b[0m\u001b[0;34m,\u001b[0m \u001b[0merrors\u001b[0m\u001b[0;34m=\u001b[0m\u001b[0;34m\"ignore\"\u001b[0m\u001b[0;34m)\u001b[0m\u001b[0;34m,\u001b[0m \u001b[0mdtype\u001b[0m\u001b[0;34m=\u001b[0m\u001b[0;34m'uint8'\u001b[0m\u001b[0;34m)\u001b[0m\u001b[0;34m\u001b[0m\u001b[0;34m\u001b[0m\u001b[0m\n\u001b[0;32m---> 11\u001b[0;31m     \u001b[0;32massert\u001b[0m \u001b[0mlen\u001b[0m\u001b[0;34m(\u001b[0m\u001b[0mpadded_text\u001b[0m\u001b[0;34m)\u001b[0m \u001b[0;34m==\u001b[0m \u001b[0;36m2000\u001b[0m\u001b[0;34m,\u001b[0m \u001b[0;34m(\u001b[0m\u001b[0mlen\u001b[0m\u001b[0;34m(\u001b[0m\u001b[0mtext\u001b[0m\u001b[0;34m)\u001b[0m\u001b[0;34m,\u001b[0m \u001b[0mlen\u001b[0m\u001b[0;34m(\u001b[0m\u001b[0mpadded_text\u001b[0m\u001b[0;34m)\u001b[0m\u001b[0;34m,\u001b[0m \u001b[0mtext\u001b[0m\u001b[0;34m,\u001b[0m \u001b[0mpadded_text\u001b[0m\u001b[0;34m)\u001b[0m\u001b[0;34m\u001b[0m\u001b[0;34m\u001b[0m\u001b[0m\n\u001b[0m",
      "\u001b[0;31mAssertionError\u001b[0m: (410, 1999, 'INDICATION: man with History of right pleurodesis with apical blebectomy for spontaneous pneumothorax ×2, _ now with upper respiratory congestion associated with left mid axillary discomfort // Please evaluate for evidence of left pneumothorax, pneumonia IMPRESSION: Heart size is normal. Postsurgical changes of the right hemithorax are stable. Lungs are clear. No pleural effusion or pneumothorax is present.', array([73, 78, 68, ..., 32, 32, 32], dtype=uint8))"
     ]
    }
   ],
   "source": [
    "import numpy as np\n",
    "\n",
    "max_len = 2000\n",
    "\n",
    "\n",
    "for i in range(len(df)):\n",
    "    text = df[\"caption\"][i][-max_len:]  # delete first instead of last characters as the last sentences usually contain the finding\n",
    "    # pad\n",
    "    padded_text = text + (\" \" * (max_len - len(text)))\n",
    "    padded_text = np.frombuffer(padded_text.encode('ascii', errors=\"ignore\"), dtype='uint8')\n",
    "    assert len(padded_text) == 2000, (len(text), len(padded_text), text, padded_text)"
   ]
  },
  {
   "cell_type": "code",
   "execution_count": 78,
   "id": "7e8db9a5-1701-437e-8178-d92aa6e68db7",
   "metadata": {},
   "outputs": [
    {
     "data": {
      "text/plain": [
       "b'INDICATION: man with History of right pleurodesis with apical blebectomy for spontaneous pneumothorax  2, _ now with upper respiratory congestion associated with left mid axillary discomfort // Please evaluate for evidence of left pneumothorax, pneumonia IMPRESSION: Heart size is normal. Postsurgical changes of the right hemithorax are stable. Lungs are clear. No pleural effusion or pneumothorax is present.'"
      ]
     },
     "execution_count": 78,
     "metadata": {},
     "output_type": "execute_result"
    }
   ],
   "source": [
    "text.encode(\"ascii\", errors=\"replace\").replace(b\"?\", b\" \")"
   ]
  },
  {
   "cell_type": "code",
   "execution_count": 73,
   "id": "7c65d768-aa58-422c-ae70-ea0b63fa8734",
   "metadata": {},
   "outputs": [
    {
     "name": "stdout",
     "output_type": "stream",
     "text": [
      "Help on built-in function encode:\n",
      "\n",
      "encode(encoding='utf-8', errors='strict') method of builtins.str instance\n",
      "    Encode the string using the codec registered for encoding.\n",
      "    \n",
      "    encoding\n",
      "      The encoding in which to encode the string.\n",
      "    errors\n",
      "      The error handling scheme to use for encoding errors.\n",
      "      The default is 'strict' meaning that encoding errors raise a\n",
      "      UnicodeEncodeError.  Other possible values are 'ignore', 'replace' and\n",
      "      'xmlcharrefreplace' as well as any other name registered with\n",
      "      codecs.register_error that can handle UnicodeEncodeErrors.\n",
      "\n"
     ]
    }
   ],
   "source": [
    "help(text.encode)"
   ]
  },
  {
   "cell_type": "code",
   "execution_count": 77,
   "id": "71c16666-0be1-43e8-931b-c62bb052d6d1",
   "metadata": {},
   "outputs": [
    {
     "ename": "AttributeError",
     "evalue": "type object 'str' has no attribute 'codecs'",
     "output_type": "error",
     "traceback": [
      "\u001b[0;31m---------------------------------------------------------------------------\u001b[0m",
      "\u001b[0;31mAttributeError\u001b[0m                            Traceback (most recent call last)",
      "\u001b[0;32m/tmp/ipykernel_1626358/3989265440.py\u001b[0m in \u001b[0;36m<module>\u001b[0;34m\u001b[0m\n\u001b[0;32m----> 1\u001b[0;31m \u001b[0mstr\u001b[0m\u001b[0;34m.\u001b[0m\u001b[0mcodecs\u001b[0m\u001b[0;34m\u001b[0m\u001b[0;34m\u001b[0m\u001b[0m\n\u001b[0m",
      "\u001b[0;31mAttributeError\u001b[0m: type object 'str' has no attribute 'codecs'"
     ]
    }
   ],
   "source": [
    "codecs"
   ]
  },
  {
   "cell_type": "code",
   "execution_count": 34,
   "id": "ab122a1b-8060-41d3-9ef8-aedbec104067",
   "metadata": {},
   "outputs": [
    {
     "data": {
      "text/plain": [
       "count    377095.0\n",
       "mean         14.0\n",
       "std           0.0\n",
       "min          14.0\n",
       "25%          14.0\n",
       "50%          14.0\n",
       "75%          14.0\n",
       "max          14.0\n",
       "Name: labels, dtype: float64"
      ]
     },
     "execution_count": 34,
     "metadata": {},
     "output_type": "execute_result"
    }
   ],
   "source": [
    "lens.describe()"
   ]
  },
  {
   "cell_type": "code",
   "execution_count": 33,
   "id": "f04337c0-05fc-4416-931a-42d250599964",
   "metadata": {},
   "outputs": [
    {
     "data": {
      "text/plain": [
       "<AxesSubplot:>"
      ]
     },
     "execution_count": 33,
     "metadata": {},
     "output_type": "execute_result"
    },
    {
     "data": {
      "image/png": "[encoded data removed]",
      "text/plain": [
       "<Figure size 432x288 with 1 Axes>"
      ]
     },
     "metadata": {
      "needs_background": "light"
     },
     "output_type": "display_data"
    }
   ],
   "source": [
    "lens.hist(bins=100)"
   ]
  },
  {
   "cell_type": "code",
   "execution_count": 31,
   "id": "efc19a9b-703f-4724-9b83-c79f97a990c9",
   "metadata": {},
   "outputs": [
    {
     "data": {
      "text/plain": [
       "'CHEST HISTORY: Lymphoma, NG tube placement. FINDINGS: The NG tube is in the fundus of the stomach.'"
      ]
     },
     "execution_count": 31,
     "metadata": {},
     "output_type": "execute_result"
    }
   ],
   "source": [
    "df[\"caption\"][lens < 100].iloc[-5]"
   ]
  },
  {
   "cell_type": "code",
   "execution_count": 5,
   "id": "58d6f4c4-9b2e-42b6-aa02-127a96d42bd0",
   "metadata": {},
   "outputs": [],
   "source": [
    "#import clip"
   ]
  },
  {
   "cell_type": "code",
   "execution_count": 6,
   "id": "b2425b44-f218-48f8-accd-bc3cebda27ba",
   "metadata": {},
   "outputs": [],
   "source": [
    "labels_per_img = df[\"labels\"].apply(lambda x: sum(x == 1))"
   ]
  },
  {
   "cell_type": "code",
   "execution_count": 7,
   "id": "7d128125-ddcf-4d81-8e82-9c2f4ef74a32",
   "metadata": {},
   "outputs": [
    {
     "data": {
      "text/plain": [
       "Text(0.5, 1.0, 'Overall count of True labels per image')"
      ]
     },
     "execution_count": 7,
     "metadata": {},
     "output_type": "execute_result"
    },
    {
     "data": {
      "image/png": "[encoded data removed]",
      "text/plain": [
       "<Figure size 432x288 with 1 Axes>"
      ]
     },
     "metadata": {
      "needs_background": "light"
     },
     "output_type": "display_data"
    }
   ],
   "source": [
    "sns.histplot(labels_per_img, color=\"blue\", discrete=True)\n",
    "plt.title(\"Overall count of True labels per image\")"
   ]
  },
  {
   "cell_type": "code",
   "execution_count": 8,
   "id": "5bb14ff2-b866-4077-888c-8a4269ba1c6b",
   "metadata": {},
   "outputs": [],
   "source": [
    "# num available labels per img"
   ]
  },
  {
   "cell_type": "code",
   "execution_count": 9,
   "id": "7d98f081-40ac-4525-aee8-0a8e14a24607",
   "metadata": {},
   "outputs": [],
   "source": [
    "# num images per label"
   ]
  },
  {
   "cell_type": "code",
   "execution_count": 18,
   "id": "b6a9b5c3-45fc-4e6d-969c-1dcfd5147e02",
   "metadata": {},
   "outputs": [
    {
     "data": {
      "text/plain": [
       "(377095, 8)"
      ]
     },
     "execution_count": 18,
     "metadata": {},
     "output_type": "execute_result"
    }
   ],
   "source": [
    "df.shape"
   ]
  },
  {
   "cell_type": "code",
   "execution_count": 50,
   "id": "198f1fd4-8169-44ed-ba04-272c1070a756",
   "metadata": {},
   "outputs": [
    {
     "name": "stdout",
     "output_type": "stream",
     "text": [
      "(256, 270)\n",
      "[(nan, 'Atelectasis'), (nan, 'Cardiomegaly'), (nan, 'Consolidation'), (nan, 'Edema'), (nan, 'Enlarged Cardiomediastinum'), (nan, 'Fracture'), (nan, 'Lung Lesion'), (-1.0, 'Lung Opacity'), (nan, 'No Finding'), (nan, 'Pleural Effusion'), (nan, 'Pleural Other'), (nan, 'Pneumonia'), (nan, 'Pneumothorax'), (nan, 'Support Devices')]\n"
     ]
    },
    {
     "data": {
      "image/png": "[encoded data removed]",
      "text/plain": [
       "<Figure size 432x288 with 1 Axes>"
      ]
     },
     "metadata": {
      "needs_background": "light"
     },
     "output_type": "display_data"
    },
    {
     "name": "stdout",
     "output_type": "stream",
     "text": [
      "INDICATION: woman with hx of SLE c/b APLS and cerebritis now with worsening tachypnea. // source of tachypnea FINDINGS: Compared to the prior study there is no significant interval change. There continues to be ill definition of the right hemidiaphragm compatible with volume loss/infiltrate IMPRESSION: Right lower lobe volume loss/infiltrate\n"
     ]
    }
   ],
   "source": [
    "# show qualitative data\n",
    "idx = 58215 + 1 #377095 - 200\n",
    "\n",
    "path = df[\"img_path\"].iloc[idx]\n",
    "img = Image.open(path)\n",
    "print(img.size)\n",
    "fig = plt.figure()\n",
    "p = plt.imshow(img, cmap=\"gray\")\n",
    "plt.axis(\"off\")\n",
    "plt.title(\"Sample image\", fontweight=\"bold\")\n",
    "#cap_text = plt.text(0, img.height + 10, r\"$\\bf{Caption: }$\" + df[\"caption\"].iloc[idx])\n",
    "labels = df.iloc[idx][\"labels\"]\n",
    "print(list(zip(labels, label_names)))\n",
    "label_text = plt.text(0, img.height + 0.1 * img.height, r\"$\\bf{Labels: }$\" + \", \".join(list(np.array(label_names)[labels == 1])))\n",
    "plt.tight_layout()\n",
    "plt.savefig(os.path.join(dataset, f\"sample_{idx}.pdf\"), dpi=300)\n",
    "plt.show()\n",
    "print(df[\"caption\"].iloc[idx])"
   ]
  },
  {
   "cell_type": "code",
   "execution_count": 30,
   "id": "c4ff7be7-faa8-4120-9fa2-c5ffa3b81f9b",
   "metadata": {},
   "outputs": [
    {
     "data": {
      "text/plain": [
       "array(['Atelectasis', 'Cardiomegaly', 'Consolidation', 'Edema',\n",
       "       'Enlarged Cardiomediastinum', 'Fracture', 'Lung Lesion',\n",
       "       'Lung Opacity', 'No Finding', 'Pleural Effusion', 'Pleural Other',\n",
       "       'Pneumonia', 'Pneumothorax', 'Support Devices'], dtype='<U26')"
      ]
     },
     "execution_count": 30,
     "metadata": {},
     "output_type": "execute_result"
    }
   ],
   "source": [
    "label_names"
   ]
  },
  {
   "cell_type": "code",
   "execution_count": 64,
   "id": "4e3af3c3-afce-4d7a-bf2b-0ecc7c9240bc",
   "metadata": {},
   "outputs": [
    {
     "data": {
      "text/plain": [
       "3.5076369775739042"
      ]
     },
     "execution_count": 64,
     "metadata": {},
     "output_type": "execute_result"
    }
   ],
   "source": [
    "len(df) / 1744 * 58.4 / 60 / 60"
   ]
  },
  {
   "cell_type": "code",
   "execution_count": 47,
   "id": "d41909ec-6f29-4e52-9b7f-55b7ab65341a",
   "metadata": {},
   "outputs": [
    {
     "name": "stdout",
     "output_type": "stream",
     "text": [
      "80.2 ms ± 38.4 ms per loop (mean ± std. dev. of 7 runs, 100 loops each)\n"
     ]
    }
   ],
   "source": [
    "# check how long it takes to open img\n",
    "import random\n",
    "%timeit Image.open(df[\"img_path\"].iloc[random.randint(0, len(df) - 1)])"
   ]
  },
  {
   "cell_type": "code",
   "execution_count": null,
   "id": "4e92238b-68b1-4c01-a600-adf2cbdb4534",
   "metadata": {},
   "outputs": [],
   "source": []
  }
 ],
 "metadata": {
  "kernelspec": {
   "display_name": "Python 3 (ipykernel)",
   "language": "python",
   "name": "python3"
  },
  "language_info": {
   "codemirror_mode": {
    "name": "ipython",
    "version": 3
   },
   "file_extension": ".py",
   "mimetype": "text/x-python",
   "name": "python",
   "nbconvert_exporter": "python",
   "pygments_lexer": "ipython3",
   "version": "3.8.10"
  }
 },
 "nbformat": 4,
 "nbformat_minor": 5
}
