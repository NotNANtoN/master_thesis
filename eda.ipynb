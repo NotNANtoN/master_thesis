{
 "cells": [
  {
   "cell_type": "code",
   "execution_count": 1,
   "id": "1eabb073-b37b-4b7a-a36b-edd911a4de7a",
   "metadata": {},
   "outputs": [],
   "source": [
    "import os\n",
    "\n",
    "import matplotlib.pyplot as plt\n",
    "import seaborn as sns\n",
    "import numpy as np\n",
    "import pandas as pd\n",
    "from PIL import Image\n",
    "\n",
    "from dataset_utils import load_dataset"
   ]
  },
  {
   "cell_type": "code",
   "execution_count": 14,
   "id": "704e8f80-860d-40a2-8c60-ef1d1bd89611",
   "metadata": {},
   "outputs": [],
   "source": [
    "dataset = \"chexpert\"  # mimic-cxr, covidx, rsna, chexpert\n",
    "df, label_names = load_dataset(dataset)\n",
    "# the most important columns: [img_path, caption, labels]"
   ]
  },
  {
   "cell_type": "code",
   "execution_count": 19,
   "id": "063a949f",
   "metadata": {},
   "outputs": [
    {
     "data": {
      "text/plain": [
       "0.8990556588925455"
      ]
     },
     "execution_count": 19,
     "metadata": {},
     "output_type": "execute_result"
    }
   ],
   "source": [
    "(df[\"split\"] == \"train\").mean()"
   ]
  },
  {
   "cell_type": "code",
   "execution_count": 5,
   "id": "0dcf9bf1-71ea-485a-9ea0-040e78a6152f",
   "metadata": {},
   "outputs": [
    {
     "data": {
      "text/plain": [
       "Index(['study_id', 'img_path', 'source', 'split', 'labels'], dtype='object')"
      ]
     },
     "execution_count": 5,
     "metadata": {},
     "output_type": "execute_result"
    }
   ],
   "source": [
    "df.columns"
   ]
  },
  {
   "cell_type": "code",
   "execution_count": 5,
   "id": "67e97e63-07af-4963-a0b6-83039f913e88",
   "metadata": {},
   "outputs": [],
   "source": [
    "from ffcv_custom_PTL_methods import FFCVCLDataset\n",
    "ds = FFCVCLDataset(df[\"img_path\"], df[\"labels\"], df[\"caption\"], max_len=2000, max_tokens=400)"
   ]
  },
  {
   "cell_type": "code",
   "execution_count": 6,
   "id": "74c4f994-6517-46c1-86db-3cc0dedc9a5c",
   "metadata": {},
   "outputs": [],
   "source": [
    "#import clip\n",
    "#clip.tokenize(df[\"caption\"].iloc[100000], truncate=True)"
   ]
  },
  {
   "cell_type": "code",
   "execution_count": 33,
   "id": "75e531c4-409e-492b-b1a0-0f995824ebc6",
   "metadata": {},
   "outputs": [
    {
     "data": {
      "text/plain": [
       "0"
      ]
     },
     "execution_count": 33,
     "metadata": {},
     "output_type": "execute_result"
    }
   ],
   "source": [
    "np.random.randint(0, 2)"
   ]
  },
  {
   "cell_type": "code",
   "execution_count": 69,
   "id": "d75ef094-9ca7-4f18-98c5-0bdace5f5aeb",
   "metadata": {},
   "outputs": [],
   "source": [
    "@numba.njit()\n",
    "def subsample(tokens, dst):\n",
    "                end_idx = np.where(tokens == 49407)[0][0]\n",
    "                real_tokens = tokens[1: end_idx][:77 - 2]\n",
    "                \n",
    "                shortened = np.zeros((77,), dtype=np.int32)\n",
    "                shortened[0] = 49406\n",
    "                shortened[1: 1 + len(real_tokens)] = real_tokens\n",
    "                shortened[1 + len(real_tokens)] = 49407\n",
    "                \n",
    "                return shortened"
   ]
  },
  {
   "cell_type": "code",
   "execution_count": 53,
   "id": "70a30370-a006-4a21-9ce8-d4314df11cf4",
   "metadata": {},
   "outputs": [],
   "source": [
    "a = tokens.copy()\n",
    "a[a == 49407] = 0"
   ]
  },
  {
   "cell_type": "code",
   "execution_count": 55,
   "id": "9071c148-f745-4ca6-b7b9-7b30b9368512",
   "metadata": {},
   "outputs": [
    {
     "ename": "IndexError",
     "evalue": "index 0 is out of bounds for axis 0 with size 0",
     "output_type": "error",
     "traceback": [
      "\u001b[0;31m---------------------------------------------------------------------------\u001b[0m",
      "\u001b[0;31mIndexError\u001b[0m                                Traceback (most recent call last)",
      "\u001b[0;32m/tmp/ipykernel_2281170/624199426.py\u001b[0m in \u001b[0;36m<module>\u001b[0;34m\u001b[0m\n\u001b[0;32m----> 1\u001b[0;31m \u001b[0msubsample\u001b[0m\u001b[0;34m(\u001b[0m\u001b[0ma\u001b[0m\u001b[0;34m,\u001b[0m \u001b[0;32mNone\u001b[0m\u001b[0;34m)\u001b[0m\u001b[0;34m.\u001b[0m\u001b[0mshape\u001b[0m\u001b[0;34m\u001b[0m\u001b[0;34m\u001b[0m\u001b[0m\n\u001b[0m",
      "\u001b[0;32m/tmp/ipykernel_2281170/1810355612.py\u001b[0m in \u001b[0;36msubsample\u001b[0;34m(tokens, dst)\u001b[0m\n\u001b[1;32m      1\u001b[0m \u001b[0;32mdef\u001b[0m \u001b[0msubsample\u001b[0m\u001b[0;34m(\u001b[0m\u001b[0mtokens\u001b[0m\u001b[0;34m,\u001b[0m \u001b[0mdst\u001b[0m\u001b[0;34m)\u001b[0m\u001b[0;34m:\u001b[0m\u001b[0;34m\u001b[0m\u001b[0;34m\u001b[0m\u001b[0m\n\u001b[0;32m----> 2\u001b[0;31m                 \u001b[0mend_idx\u001b[0m \u001b[0;34m=\u001b[0m \u001b[0mnp\u001b[0m\u001b[0;34m.\u001b[0m\u001b[0mwhere\u001b[0m\u001b[0;34m(\u001b[0m\u001b[0mtokens\u001b[0m \u001b[0;34m==\u001b[0m \u001b[0;36m49407\u001b[0m\u001b[0;34m)\u001b[0m\u001b[0;34m[\u001b[0m\u001b[0;36m0\u001b[0m\u001b[0;34m]\u001b[0m\u001b[0;34m[\u001b[0m\u001b[0;36m0\u001b[0m\u001b[0;34m]\u001b[0m\u001b[0;34m\u001b[0m\u001b[0;34m\u001b[0m\u001b[0m\n\u001b[0m\u001b[1;32m      3\u001b[0m                 \u001b[0mreal_tokens\u001b[0m \u001b[0;34m=\u001b[0m \u001b[0mtokens\u001b[0m\u001b[0;34m[\u001b[0m\u001b[0;36m1\u001b[0m\u001b[0;34m:\u001b[0m \u001b[0mend_idx\u001b[0m\u001b[0;34m]\u001b[0m\u001b[0;34m[\u001b[0m\u001b[0;34m:\u001b[0m\u001b[0;36m77\u001b[0m \u001b[0;34m-\u001b[0m \u001b[0;36m2\u001b[0m\u001b[0;34m]\u001b[0m\u001b[0;34m\u001b[0m\u001b[0;34m\u001b[0m\u001b[0m\n\u001b[1;32m      4\u001b[0m \u001b[0;34m\u001b[0m\u001b[0m\n\u001b[1;32m      5\u001b[0m                 \u001b[0mshortened\u001b[0m \u001b[0;34m=\u001b[0m \u001b[0mnp\u001b[0m\u001b[0;34m.\u001b[0m\u001b[0mzeros\u001b[0m\u001b[0;34m(\u001b[0m\u001b[0;34m(\u001b[0m\u001b[0;36m77\u001b[0m\u001b[0;34m,\u001b[0m\u001b[0;34m)\u001b[0m\u001b[0;34m,\u001b[0m \u001b[0mdtype\u001b[0m\u001b[0;34m=\u001b[0m\u001b[0mnp\u001b[0m\u001b[0;34m.\u001b[0m\u001b[0mint32\u001b[0m\u001b[0;34m)\u001b[0m\u001b[0;34m\u001b[0m\u001b[0;34m\u001b[0m\u001b[0m\n",
      "\u001b[0;31mIndexError\u001b[0m: index 0 is out of bounds for axis 0 with size 0"
     ]
    }
   ],
   "source": [
    "subsample(a, None).shape"
   ]
  },
  {
   "cell_type": "code",
   "execution_count": 44,
   "id": "428b1601-c8c4-4dbc-be92-bfdbccb5eaf0",
   "metadata": {},
   "outputs": [
    {
     "data": {
      "text/plain": [
       "array([49406, 38539,   281,  2308,   593,  2459,  7637,  2580,   269,\n",
       "       29818,  4657,   269, 16529,   281,   518, 27366,   631,  3143,\n",
       "         539, 30934, 41111,   267,   926, 33948,  1490,  9364,   541,\n",
       "       28714,   617,  4130,  9203,   269,   518,  1936,  3235,   533,\n",
       "        5967,   269,   518,  1436,  1761, 19178,  2036,  1491,   631,\n",
       "        5967,   269,  6470, 16386, 16594,  1965,   962,   518,  1823,\n",
       "        9475,   267,   537,   896,  1823, 18298, 46213,   631, 22501,\n",
       "         269, 14468,   281,   871, 19734,  6211, 39858,   749,   856,\n",
       "        4078,   269, 49407,     0,     0], dtype=int32)"
      ]
     },
     "execution_count": 44,
     "metadata": {},
     "output_type": "execute_result"
    }
   ],
   "source": [
    "sample_tokens_until_size(tokens)"
   ]
  },
  {
   "cell_type": "code",
   "execution_count": 43,
   "id": "c823398f-72b5-46c0-89f5-a23ef3db9186",
   "metadata": {},
   "outputs": [
    {
     "data": {
      "text/plain": [
       "dtype('int32')"
      ]
     },
     "execution_count": 43,
     "metadata": {},
     "output_type": "execute_result"
    }
   ],
   "source": [
    "tokens.dtype"
   ]
  },
  {
   "cell_type": "code",
   "execution_count": 40,
   "id": "a9f0db21-bd13-458d-b885-d76aec56a32c",
   "metadata": {},
   "outputs": [
    {
     "data": {
      "text/plain": [
       "(77,)"
      ]
     },
     "execution_count": 40,
     "metadata": {},
     "output_type": "execute_result"
    }
   ],
   "source": [
    "out = ds[6]\n",
    "tokens = out[2]\n",
    "short = sample_tokens_until_size(tokens)\n",
    "short.shape"
   ]
  },
  {
   "cell_type": "code",
   "execution_count": 41,
   "id": "a29beb2a-5016-4751-b80c-6e3e51bb14ed",
   "metadata": {},
   "outputs": [
    {
     "name": "stdout",
     "output_type": "stream",
     "text": [
      "9.48 µs ± 1.22 µs per loop (mean ± std. dev. of 7 runs, 100000 loops each)\n"
     ]
    }
   ],
   "source": [
    "%timeit sample_tokens_until_size(tokens)"
   ]
  },
  {
   "cell_type": "code",
   "execution_count": 38,
   "id": "e618cc09-d810-48a4-a20e-761afca38db9",
   "metadata": {},
   "outputs": [
    {
     "name": "stdout",
     "output_type": "stream",
     "text": [
      "9.43 µs ± 1.35 µs per loop (mean ± std. dev. of 7 runs, 100000 loops each)\n"
     ]
    }
   ],
   "source": [
    "%timeit sample_tokens_until_size(tokens)"
   ]
  },
  {
   "cell_type": "code",
   "execution_count": 198,
   "id": "3ebbc3dc-236f-41ee-b46d-0921bc410238",
   "metadata": {},
   "outputs": [
    {
     "data": {
      "text/plain": [
       "89"
      ]
     },
     "execution_count": 198,
     "metadata": {},
     "output_type": "execute_result"
    }
   ],
   "source": [
    "len(final_tokens)"
   ]
  },
  {
   "cell_type": "code",
   "execution_count": 103,
   "id": "7f4513ac-6088-4ce9-a4e1-22bf147efc1a",
   "metadata": {},
   "outputs": [
    {
     "data": {
      "text/plain": [
       "(77,)"
      ]
     },
     "execution_count": 103,
     "metadata": {},
     "output_type": "execute_result"
    }
   ],
   "source": [
    "shortened.shape"
   ]
  },
  {
   "cell_type": "code",
   "execution_count": 78,
   "id": "bee550f9-19ae-49c5-836a-7522011fa294",
   "metadata": {},
   "outputs": [],
   "source": [
    "shortened"
   ]
  },
  {
   "cell_type": "code",
   "execution_count": 86,
   "id": "d2684791-28b7-4ce2-9c2d-4d12b492a46d",
   "metadata": {},
   "outputs": [
    {
     "data": {
      "text/plain": [
       "89"
      ]
     },
     "execution_count": 86,
     "metadata": {},
     "output_type": "execute_result"
    }
   ],
   "source": [
    "len(final_tokens)"
   ]
  },
  {
   "cell_type": "code",
   "execution_count": 87,
   "id": "552b4e5e-4884-4595-b394-41a9c447428c",
   "metadata": {},
   "outputs": [],
   "source": []
  },
  {
   "cell_type": "code",
   "execution_count": 88,
   "id": "e88b28f4-3cad-436e-be0e-d5708a73e60f",
   "metadata": {},
   "outputs": [
    {
     "name": "stdout",
     "output_type": "stream",
     "text": [
      "(77,)\n"
     ]
    },
    {
     "data": {
      "text/plain": [
       "array([49406, 38539,   281,   318,   325,   593,   686, 30527, 22720,\n",
       "        2454,  3502,  9703,   556, 14774, 16529,   281,   997,   533,\n",
       "         871, 30934, 41111,   267,   926, 33948,  1490,  9364,   541,\n",
       "       28714,   617,  4130,  9203,   269,   518,  6211,  3693,   570,\n",
       "        1761, 19178, 26149,   533,  5967,   269, 16594,  1965,   962,\n",
       "         518,  1823, 16271,   267, 16508,  4154,   518,  9475,   269,\n",
       "         518,  2316,   538,  7067,   596,  2164,   576,   533,   569,\n",
       "       12404,   269, 13677,   561, 42290,   539,   518, 22881,  2498,\n",
       "        1823, 12909,   537, 17568, 49407])"
      ]
     },
     "execution_count": 88,
     "metadata": {},
     "output_type": "execute_result"
    }
   ],
   "source": [
    "print(shortened.shape)\n",
    "shortened"
   ]
  },
  {
   "cell_type": "code",
   "execution_count": 25,
   "id": "a8883cfe-aaa8-42e2-b848-548dccade060",
   "metadata": {},
   "outputs": [
    {
     "data": {
      "text/plain": [
       "array([49406, 38539,   281,   318,   325,   593,   686, 30527, 22720,\n",
       "        2454,  3502,  9703,   556, 14774, 16529,   281,   997,   533,\n",
       "         871, 30934, 41111,   267,   926, 33948,  1490,  9364,   541,\n",
       "       28714,   617,  4130,  9203,   269, 25599,   578,   691,  1652,\n",
       "         676,   546,  1480,   682,  1096,  5256,  8406, 45987, 12971,\n",
       "         269,   518,  6211,  3693,   570,  1761, 19178, 26149,   533,\n",
       "        5967,   269, 16594,  1965,   962,   518,  1823, 16271,   267,\n",
       "       16508,  4154,   518,  9475,   269,   518,  2316,   538,  7067,\n",
       "         596,  2164,   576,   533,   569, 12404,   269, 13677,   561,\n",
       "       42290,   539,   518, 22881,  2498,  1823, 12909,   537, 17568,\n",
       "       17519,   631, 22501,   269, 14468,   281,   871, 19734,  6211,\n",
       "       39858,   749,   856,  4078,   269, 49407,     0,     0,     0,\n",
       "           0,     0,     0,     0,     0,     0,     0,     0,     0,\n",
       "           0,     0,     0,     0,     0,     0,     0,     0,     0,\n",
       "           0,     0,     0,     0,     0,     0,     0,     0,     0,\n",
       "           0,     0,     0,     0,     0,     0,     0,     0,     0,\n",
       "           0,     0,     0,     0,     0,     0,     0,     0,     0,\n",
       "           0,     0,     0,     0,     0,     0,     0,     0,     0,\n",
       "           0,     0,     0,     0,     0,     0,     0,     0,     0,\n",
       "           0,     0,     0,     0,     0,     0,     0,     0,     0,\n",
       "           0,     0,     0,     0,     0,     0,     0,     0,     0,\n",
       "           0,     0,     0,     0,     0,     0,     0,     0,     0,\n",
       "           0,     0,     0,     0,     0,     0,     0,     0,     0,\n",
       "           0,     0,     0,     0,     0,     0,     0,     0,     0,\n",
       "           0,     0,     0,     0,     0,     0,     0,     0,     0,\n",
       "           0,     0,     0,     0,     0,     0,     0,     0,     0,\n",
       "           0,     0,     0,     0,     0,     0,     0,     0,     0,\n",
       "           0,     0,     0,     0,     0,     0,     0,     0,     0,\n",
       "           0,     0,     0,     0,     0,     0,     0,     0,     0,\n",
       "           0,     0,     0,     0,     0,     0,     0,     0,     0,\n",
       "           0,     0,     0,     0,     0,     0,     0,     0,     0,\n",
       "           0,     0,     0,     0,     0,     0,     0,     0,     0,\n",
       "           0,     0,     0,     0,     0,     0,     0,     0,     0,\n",
       "           0,     0,     0,     0,     0,     0,     0,     0,     0,\n",
       "           0,     0,     0,     0,     0,     0,     0,     0,     0,\n",
       "           0,     0,     0,     0,     0,     0,     0,     0,     0,\n",
       "           0,     0,     0,     0,     0,     0,     0,     0,     0,\n",
       "           0,     0,     0,     0,     0,     0,     0,     0,     0,\n",
       "           0,     0,     0,     0,     0,     0,     0,     0,     0,\n",
       "           0,     0,     0,     0,     0,     0,     0,     0,     0,\n",
       "           0,     0,     0,     0,     0,     0,     0,     0,     0,\n",
       "           0,     0,     0,     0,     0,     0,     0,     0,     0,\n",
       "           0,     0,     0,     0,     0,     0,     0,     0,     0,\n",
       "           0,     0,     0,     0,     0,     0,     0,     0,     0,\n",
       "           0,     0,     0,     0], dtype=int32)"
      ]
     },
     "execution_count": 25,
     "metadata": {},
     "output_type": "execute_result"
    }
   ],
   "source": [
    "out[2]"
   ]
  },
  {
   "cell_type": "code",
   "execution_count": 51,
   "id": "a7ba8389-0f15-4d7a-b8d7-c940058c2010",
   "metadata": {},
   "outputs": [
    {
     "data": {
      "text/plain": [
       "14"
      ]
     },
     "execution_count": 51,
     "metadata": {},
     "output_type": "execute_result"
    }
   ],
   "source": [
    "len(ds.labels[0])"
   ]
  },
  {
   "cell_type": "code",
   "execution_count": 7,
   "id": "33c3310d-1d9b-4ff5-9fae-acf28b502802",
   "metadata": {},
   "outputs": [],
   "source": [
    "from ffcv_custom_PTL_methods import Tokenizer\n",
    "\n",
    "tokenizer = Tokenizer(truncate=False)"
   ]
  },
  {
   "cell_type": "code",
   "execution_count": 12,
   "id": "afd308d7-c76f-4a5e-b225-90cae4109015",
   "metadata": {},
   "outputs": [
    {
     "name": "stdout",
     "output_type": "stream",
     "text": [
      "478\n",
      "105\n"
     ]
    }
   ],
   "source": [
    "idx = 0\n",
    "\n",
    "text = df[\"caption\"].iloc[idx]\n",
    "tokens = tokenizer(text)\n",
    "print(len(text))\n",
    "print(len(tokens))"
   ]
  },
  {
   "cell_type": "code",
   "execution_count": 14,
   "id": "2a195a63-c1e7-483b-992c-c4a01a7471e2",
   "metadata": {},
   "outputs": [],
   "source": [
    "all_tokens = df[\"caption\"].apply(tokenizer)"
   ]
  },
  {
   "cell_type": "code",
   "execution_count": 15,
   "id": "35bf5b00-7844-46b5-bccb-c49b50b03d57",
   "metadata": {},
   "outputs": [],
   "source": [
    "lens = all_tokens.apply(lambda x: len(x))"
   ]
  },
  {
   "cell_type": "code",
   "execution_count": 20,
   "id": "5063fcfe-9d04-4eac-a633-ffbc8de08a37",
   "metadata": {},
   "outputs": [
    {
     "data": {
      "text/plain": [
       "count    377095.000000\n",
       "mean        115.559917\n",
       "std          49.713536\n",
       "min          19.000000\n",
       "25%          81.000000\n",
       "50%         104.000000\n",
       "75%         137.000000\n",
       "max         753.000000\n",
       "Name: caption, dtype: float64"
      ]
     },
     "execution_count": 20,
     "metadata": {},
     "output_type": "execute_result"
    }
   ],
   "source": [
    "lens.describe()"
   ]
  },
  {
   "cell_type": "code",
   "execution_count": 19,
   "id": "6e7576e8-4936-4e7f-81b1-df0478e6b17e",
   "metadata": {},
   "outputs": [
    {
     "data": {
      "text/plain": [
       "410.0"
      ]
     },
     "execution_count": 19,
     "metadata": {},
     "output_type": "execute_result"
    }
   ],
   "source": [
    "lens.quantile(0.999)"
   ]
  },
  {
   "cell_type": "code",
   "execution_count": 22,
   "id": "4c4db9e4-8aca-495d-937b-f33fa73849d9",
   "metadata": {},
   "outputs": [
    {
     "data": {
      "text/plain": [
       "array([49406,  3463,   334,   269,   269,  1883,   852,   768,   286,\n",
       "        2781,   269, 49407], dtype=int32)"
      ]
     },
     "execution_count": 22,
     "metadata": {},
     "output_type": "execute_result"
    }
   ],
   "source": [
    "tokenizer(\"Halloo. . hi .. what? wow.\")"
   ]
  },
  {
   "cell_type": "code",
   "execution_count": 9,
   "id": "49cd8b81-883f-430e-8d4c-087354e86300",
   "metadata": {},
   "outputs": [
    {
     "data": {
      "text/plain": [
       "array(['train', 'validate', 'test'], dtype=object)"
      ]
     },
     "execution_count": 9,
     "metadata": {},
     "output_type": "execute_result"
    }
   ],
   "source": [
    "df[\"split\"].unique()"
   ]
  },
  {
   "cell_type": "code",
   "execution_count": 10,
   "id": "97dfe1e5-961a-4c77-b6d3-6e6c817ef061",
   "metadata": {},
   "outputs": [],
   "source": [
    "val_df = df[df[\"split\"] == \"validate\"]"
   ]
  },
  {
   "cell_type": "code",
   "execution_count": 24,
   "id": "89164ccf-0474-403b-a176-cfa9b9fb423f",
   "metadata": {},
   "outputs": [],
   "source": [
    "val_labels = np.stack(list(val_df[\"labels\"]))"
   ]
  },
  {
   "cell_type": "code",
   "execution_count": 41,
   "id": "d112c9ce-26a2-4109-833c-a96ae67c92f1",
   "metadata": {},
   "outputs": [],
   "source": [
    "val_labels[val_labels == -1] = 0\n",
    "val_labels[np.isnan(val_labels)] = 0"
   ]
  },
  {
   "cell_type": "code",
   "execution_count": 42,
   "id": "11872b7c-726e-4a18-b9b6-a6f25b44dae7",
   "metadata": {},
   "outputs": [
    {
     "data": {
      "text/plain": [
       "(2991, 14)"
      ]
     },
     "execution_count": 42,
     "metadata": {},
     "output_type": "execute_result"
    }
   ],
   "source": [
    "val_labels.shape"
   ]
  },
  {
   "cell_type": "code",
   "execution_count": 58,
   "id": "a2f5509e-5dc9-4961-8769-90b52a36d809",
   "metadata": {},
   "outputs": [
    {
     "ename": "IndexError",
     "evalue": "index 14 is out of bounds for axis 1 with size 14",
     "output_type": "error",
     "traceback": [
      "\u001b[0;31m---------------------------------------------------------------------------\u001b[0m",
      "\u001b[0;31mIndexError\u001b[0m                                Traceback (most recent call last)",
      "\u001b[0;32m/tmp/ipykernel_2079115/3370255292.py\u001b[0m in \u001b[0;36m<module>\u001b[0;34m\u001b[0m\n\u001b[0;32m----> 1\u001b[0;31m \u001b[0mnp\u001b[0m\u001b[0;34m.\u001b[0m\u001b[0munique\u001b[0m\u001b[0;34m(\u001b[0m\u001b[0mval_labels\u001b[0m\u001b[0;34m[\u001b[0m\u001b[0;34m:\u001b[0m\u001b[0;34m,\u001b[0m \u001b[0;36m14\u001b[0m\u001b[0;34m]\u001b[0m\u001b[0;34m)\u001b[0m\u001b[0;34m\u001b[0m\u001b[0;34m\u001b[0m\u001b[0m\n\u001b[0m",
      "\u001b[0;31mIndexError\u001b[0m: index 14 is out of bounds for axis 1 with size 14"
     ]
    }
   ],
   "source": [
    "np.unique(val_labels[:, 14])"
   ]
  },
  {
   "cell_type": "code",
   "execution_count": 71,
   "id": "af65bf14-6b2e-4c7b-ac3c-3ca2491b437f",
   "metadata": {},
   "outputs": [
    {
     "ename": "AssertionError",
     "evalue": "(410, 1999, 'INDICATION: man with History of right pleurodesis with apical blebectomy for spontaneous pneumothorax ×2, _ now with upper respiratory congestion associated with left mid axillary discomfort // Please evaluate for evidence of left pneumothorax, pneumonia IMPRESSION: Heart size is normal. Postsurgical changes of the right hemithorax are stable. Lungs are clear. No pleural effusion or pneumothorax is present.', array([73, 78, 68, ..., 32, 32, 32], dtype=uint8))",
     "output_type": "error",
     "traceback": [
      "\u001b[0;31m---------------------------------------------------------------------------\u001b[0m",
      "\u001b[0;31mAssertionError\u001b[0m                            Traceback (most recent call last)",
      "\u001b[0;32m/tmp/ipykernel_1626358/4244551228.py\u001b[0m in \u001b[0;36m<module>\u001b[0;34m\u001b[0m\n\u001b[1;32m      9\u001b[0m     \u001b[0mpadded_text\u001b[0m \u001b[0;34m=\u001b[0m \u001b[0mtext\u001b[0m \u001b[0;34m+\u001b[0m \u001b[0;34m(\u001b[0m\u001b[0;34m\" \"\u001b[0m \u001b[0;34m*\u001b[0m \u001b[0;34m(\u001b[0m\u001b[0mmax_len\u001b[0m \u001b[0;34m-\u001b[0m \u001b[0mlen\u001b[0m\u001b[0;34m(\u001b[0m\u001b[0mtext\u001b[0m\u001b[0;34m)\u001b[0m\u001b[0;34m)\u001b[0m\u001b[0;34m)\u001b[0m\u001b[0;34m\u001b[0m\u001b[0;34m\u001b[0m\u001b[0m\n\u001b[1;32m     10\u001b[0m     \u001b[0mpadded_text\u001b[0m \u001b[0;34m=\u001b[0m \u001b[0mnp\u001b[0m\u001b[0;34m.\u001b[0m\u001b[0mfrombuffer\u001b[0m\u001b[0;34m(\u001b[0m\u001b[0mpadded_text\u001b[0m\u001b[0;34m.\u001b[0m\u001b[0mencode\u001b[0m\u001b[0;34m(\u001b[0m\u001b[0;34m'ascii'\u001b[0m\u001b[0;34m,\u001b[0m \u001b[0merrors\u001b[0m\u001b[0;34m=\u001b[0m\u001b[0;34m\"ignore\"\u001b[0m\u001b[0;34m)\u001b[0m\u001b[0;34m,\u001b[0m \u001b[0mdtype\u001b[0m\u001b[0;34m=\u001b[0m\u001b[0;34m'uint8'\u001b[0m\u001b[0;34m)\u001b[0m\u001b[0;34m\u001b[0m\u001b[0;34m\u001b[0m\u001b[0m\n\u001b[0;32m---> 11\u001b[0;31m     \u001b[0;32massert\u001b[0m \u001b[0mlen\u001b[0m\u001b[0;34m(\u001b[0m\u001b[0mpadded_text\u001b[0m\u001b[0;34m)\u001b[0m \u001b[0;34m==\u001b[0m \u001b[0;36m2000\u001b[0m\u001b[0;34m,\u001b[0m \u001b[0;34m(\u001b[0m\u001b[0mlen\u001b[0m\u001b[0;34m(\u001b[0m\u001b[0mtext\u001b[0m\u001b[0;34m)\u001b[0m\u001b[0;34m,\u001b[0m \u001b[0mlen\u001b[0m\u001b[0;34m(\u001b[0m\u001b[0mpadded_text\u001b[0m\u001b[0;34m)\u001b[0m\u001b[0;34m,\u001b[0m \u001b[0mtext\u001b[0m\u001b[0;34m,\u001b[0m \u001b[0mpadded_text\u001b[0m\u001b[0;34m)\u001b[0m\u001b[0;34m\u001b[0m\u001b[0;34m\u001b[0m\u001b[0m\n\u001b[0m",
      "\u001b[0;31mAssertionError\u001b[0m: (410, 1999, 'INDICATION: man with History of right pleurodesis with apical blebectomy for spontaneous pneumothorax ×2, _ now with upper respiratory congestion associated with left mid axillary discomfort // Please evaluate for evidence of left pneumothorax, pneumonia IMPRESSION: Heart size is normal. Postsurgical changes of the right hemithorax are stable. Lungs are clear. No pleural effusion or pneumothorax is present.', array([73, 78, 68, ..., 32, 32, 32], dtype=uint8))"
     ]
    }
   ],
   "source": [
    "import numpy as np\n",
    "\n",
    "max_len = 2000\n",
    "\n",
    "\n",
    "for i in range(len(df)):\n",
    "    text = df[\"caption\"][i][-max_len:]  # delete first instead of last characters as the last sentences usually contain the finding\n",
    "    # pad\n",
    "    padded_text = text + (\" \" * (max_len - len(text)))\n",
    "    padded_text = np.frombuffer(padded_text.encode('ascii', errors=\"ignore\"), dtype='uint8')\n",
    "    assert len(padded_text) == 2000, (len(text), len(padded_text), text, padded_text)"
   ]
  },
  {
   "cell_type": "code",
   "execution_count": 78,
   "id": "7e8db9a5-1701-437e-8178-d92aa6e68db7",
   "metadata": {},
   "outputs": [
    {
     "data": {
      "text/plain": [
       "b'INDICATION: man with History of right pleurodesis with apical blebectomy for spontaneous pneumothorax  2, _ now with upper respiratory congestion associated with left mid axillary discomfort // Please evaluate for evidence of left pneumothorax, pneumonia IMPRESSION: Heart size is normal. Postsurgical changes of the right hemithorax are stable. Lungs are clear. No pleural effusion or pneumothorax is present.'"
      ]
     },
     "execution_count": 78,
     "metadata": {},
     "output_type": "execute_result"
    }
   ],
   "source": [
    "text.encode(\"ascii\", errors=\"replace\").replace(b\"?\", b\" \")"
   ]
  },
  {
   "cell_type": "code",
   "execution_count": 73,
   "id": "7c65d768-aa58-422c-ae70-ea0b63fa8734",
   "metadata": {},
   "outputs": [
    {
     "name": "stdout",
     "output_type": "stream",
     "text": [
      "Help on built-in function encode:\n",
      "\n",
      "encode(encoding='utf-8', errors='strict') method of builtins.str instance\n",
      "    Encode the string using the codec registered for encoding.\n",
      "    \n",
      "    encoding\n",
      "      The encoding in which to encode the string.\n",
      "    errors\n",
      "      The error handling scheme to use for encoding errors.\n",
      "      The default is 'strict' meaning that encoding errors raise a\n",
      "      UnicodeEncodeError.  Other possible values are 'ignore', 'replace' and\n",
      "      'xmlcharrefreplace' as well as any other name registered with\n",
      "      codecs.register_error that can handle UnicodeEncodeErrors.\n",
      "\n"
     ]
    }
   ],
   "source": [
    "help(text.encode)"
   ]
  },
  {
   "cell_type": "code",
   "execution_count": 77,
   "id": "71c16666-0be1-43e8-931b-c62bb052d6d1",
   "metadata": {},
   "outputs": [
    {
     "ename": "AttributeError",
     "evalue": "type object 'str' has no attribute 'codecs'",
     "output_type": "error",
     "traceback": [
      "\u001b[0;31m---------------------------------------------------------------------------\u001b[0m",
      "\u001b[0;31mAttributeError\u001b[0m                            Traceback (most recent call last)",
      "\u001b[0;32m/tmp/ipykernel_1626358/3989265440.py\u001b[0m in \u001b[0;36m<module>\u001b[0;34m\u001b[0m\n\u001b[0;32m----> 1\u001b[0;31m \u001b[0mstr\u001b[0m\u001b[0;34m.\u001b[0m\u001b[0mcodecs\u001b[0m\u001b[0;34m\u001b[0m\u001b[0;34m\u001b[0m\u001b[0m\n\u001b[0m",
      "\u001b[0;31mAttributeError\u001b[0m: type object 'str' has no attribute 'codecs'"
     ]
    }
   ],
   "source": [
    "codecs"
   ]
  },
  {
   "cell_type": "code",
   "execution_count": 34,
   "id": "ab122a1b-8060-41d3-9ef8-aedbec104067",
   "metadata": {},
   "outputs": [
    {
     "data": {
      "text/plain": [
       "count    377095.0\n",
       "mean         14.0\n",
       "std           0.0\n",
       "min          14.0\n",
       "25%          14.0\n",
       "50%          14.0\n",
       "75%          14.0\n",
       "max          14.0\n",
       "Name: labels, dtype: float64"
      ]
     },
     "execution_count": 34,
     "metadata": {},
     "output_type": "execute_result"
    }
   ],
   "source": [
    "lens.describe()"
   ]
  },
  {
   "cell_type": "code",
   "execution_count": 33,
   "id": "f04337c0-05fc-4416-931a-42d250599964",
   "metadata": {},
   "outputs": [
    {
     "data": {
      "text/plain": [
       "<AxesSubplot:>"
      ]
     },
     "execution_count": 33,
     "metadata": {},
     "output_type": "execute_result"
    },
    {
     "data": {
      "image/png": "[encoded data removed]",
      "text/plain": [
       "<Figure size 432x288 with 1 Axes>"
      ]
     },
     "metadata": {
      "needs_background": "light"
     },
     "output_type": "display_data"
    }
   ],
   "source": [
    "lens.hist(bins=100)"
   ]
  },
  {
   "cell_type": "code",
   "execution_count": 31,
   "id": "efc19a9b-703f-4724-9b83-c79f97a990c9",
   "metadata": {},
   "outputs": [
    {
     "data": {
      "text/plain": [
       "'CHEST HISTORY: Lymphoma, NG tube placement. FINDINGS: The NG tube is in the fundus of the stomach.'"
      ]
     },
     "execution_count": 31,
     "metadata": {},
     "output_type": "execute_result"
    }
   ],
   "source": [
    "df[\"caption\"][lens < 100].iloc[-5]"
   ]
  },
  {
   "cell_type": "code",
   "execution_count": 5,
   "id": "58d6f4c4-9b2e-42b6-aa02-127a96d42bd0",
   "metadata": {},
   "outputs": [],
   "source": [
    "#import clip"
   ]
  },
  {
   "cell_type": "code",
   "execution_count": 6,
   "id": "b2425b44-f218-48f8-accd-bc3cebda27ba",
   "metadata": {},
   "outputs": [],
   "source": [
    "labels_per_img = df[\"labels\"].apply(lambda x: sum(x == 1))"
   ]
  },
  {
   "cell_type": "code",
   "execution_count": 7,
   "id": "7d128125-ddcf-4d81-8e82-9c2f4ef74a32",
   "metadata": {},
   "outputs": [
    {
     "data": {
      "text/plain": [
       "Text(0.5, 1.0, 'Overall count of True labels per image')"
      ]
     },
     "execution_count": 7,
     "metadata": {},
     "output_type": "execute_result"
    },
    {
     "data": {
      "image/png": "[encoded data removed]",
      "text/plain": [
       "<Figure size 432x288 with 1 Axes>"
      ]
     },
     "metadata": {
      "needs_background": "light"
     },
     "output_type": "display_data"
    }
   ],
   "source": [
    "sns.histplot(labels_per_img, color=\"blue\", discrete=True)\n",
    "plt.title(\"Overall count of True labels per image\")"
   ]
  },
  {
   "cell_type": "code",
   "execution_count": 8,
   "id": "5bb14ff2-b866-4077-888c-8a4269ba1c6b",
   "metadata": {},
   "outputs": [],
   "source": [
    "# num available labels per img"
   ]
  },
  {
   "cell_type": "code",
   "execution_count": 9,
   "id": "7d98f081-40ac-4525-aee8-0a8e14a24607",
   "metadata": {},
   "outputs": [],
   "source": [
    "# num images per label"
   ]
  },
  {
   "cell_type": "code",
   "execution_count": 18,
   "id": "b6a9b5c3-45fc-4e6d-969c-1dcfd5147e02",
   "metadata": {},
   "outputs": [
    {
     "data": {
      "text/plain": [
       "(377095, 8)"
      ]
     },
     "execution_count": 18,
     "metadata": {},
     "output_type": "execute_result"
    }
   ],
   "source": [
    "df.shape"
   ]
  },
  {
   "cell_type": "code",
   "execution_count": 20,
   "id": "198f1fd4-8169-44ed-ba04-272c1070a756",
   "metadata": {},
   "outputs": [
    {
     "name": "stdout",
     "output_type": "stream",
     "text": [
      "(345, 320)\n",
      "[(nan, 'No Finding'), (nan, 'Enlarged Cardiomediastinum'), (nan, 'Cardiomegaly'), (1.0, 'Lung Opacity'), (nan, 'Lung Lesion'), (1.0, 'Edema'), (nan, 'Consolidation'), (nan, 'Pneumonia'), (1.0, 'Atelectasis'), (nan, 'Pneumothorax'), (1.0, 'Pleural Effusion'), (nan, 'Pleural Other'), (nan, 'Fracture'), (nan, 'Support Devices')]\n"
     ]
    },
    {
     "data": {
      "image/png": "[encoded data removed]",
      "text/plain": [
       "<Figure size 432x288 with 1 Axes>"
      ]
     },
     "metadata": {
      "needs_background": "light"
     },
     "output_type": "display_data"
    }
   ],
   "source": [
    "# show qualitative data\n",
    "idx = 1 + 3 #377095 - 200\n",
    "\n",
    "path = df[\"img_path\"].iloc[idx]\n",
    "img = Image.open(path)\n",
    "print(img.size)\n",
    "fig = plt.figure()\n",
    "p = plt.imshow(img, cmap=\"gray\")\n",
    "plt.axis(\"off\")\n",
    "plt.title(\"Sample image\", fontweight=\"bold\")\n",
    "#cap_text = plt.text(0, img.height + 10, r\"$\\bf{Caption: }$\" + df[\"caption\"].iloc[idx])\n",
    "labels = df.iloc[idx][\"labels\"]\n",
    "print(list(zip(labels, label_names)))\n",
    "label_text = plt.text(0, img.height + 0.1 * img.height, r\"$\\bf{Labels: }$\" + \", \".join(list(np.array(label_names)[labels == 1])))\n",
    "plt.tight_layout()\n",
    "plt.savefig(os.path.join(dataset, f\"sample_{idx}.pdf\"), dpi=300)\n",
    "plt.show()\n",
    "if \"caption\" in df.columns:\n",
    "    print(df[\"caption\"].iloc[idx])"
   ]
  },
  {
   "cell_type": "code",
   "execution_count": 30,
   "id": "c4ff7be7-faa8-4120-9fa2-c5ffa3b81f9b",
   "metadata": {},
   "outputs": [
    {
     "data": {
      "text/plain": [
       "array(['Atelectasis', 'Cardiomegaly', 'Consolidation', 'Edema',\n",
       "       'Enlarged Cardiomediastinum', 'Fracture', 'Lung Lesion',\n",
       "       'Lung Opacity', 'No Finding', 'Pleural Effusion', 'Pleural Other',\n",
       "       'Pneumonia', 'Pneumothorax', 'Support Devices'], dtype='<U26')"
      ]
     },
     "execution_count": 30,
     "metadata": {},
     "output_type": "execute_result"
    }
   ],
   "source": [
    "label_names"
   ]
  },
  {
   "cell_type": "code",
   "execution_count": 64,
   "id": "4e3af3c3-afce-4d7a-bf2b-0ecc7c9240bc",
   "metadata": {},
   "outputs": [
    {
     "data": {
      "text/plain": [
       "3.5076369775739042"
      ]
     },
     "execution_count": 64,
     "metadata": {},
     "output_type": "execute_result"
    }
   ],
   "source": [
    "len(df) / 1744 * 58.4 / 60 / 60"
   ]
  },
  {
   "cell_type": "code",
   "execution_count": 47,
   "id": "d41909ec-6f29-4e52-9b7f-55b7ab65341a",
   "metadata": {},
   "outputs": [
    {
     "name": "stdout",
     "output_type": "stream",
     "text": [
      "80.2 ms ± 38.4 ms per loop (mean ± std. dev. of 7 runs, 100 loops each)\n"
     ]
    }
   ],
   "source": [
    "# check how long it takes to open img\n",
    "import random\n",
    "%timeit Image.open(df[\"img_path\"].iloc[random.randint(0, len(df) - 1)])"
   ]
  },
  {
   "cell_type": "code",
   "execution_count": null,
   "id": "4e92238b-68b1-4c01-a600-adf2cbdb4534",
   "metadata": {},
   "outputs": [],
   "source": []
  }
 ],
 "metadata": {
  "interpreter": {
   "hash": "8e615ebd054e4c703e93b75c88447e9e3d2be8d0678c44f131bc9605d24873e7"
  },
  "kernelspec": {
   "display_name": "ffcv",
   "language": "python",
   "name": "python3"
  },
  "language_info": {
   "codemirror_mode": {
    "name": "ipython",
    "version": 3
   },
   "file_extension": ".py",
   "mimetype": "text/x-python",
   "name": "python",
   "nbconvert_exporter": "python",
   "pygments_lexer": "ipython3",
   "version": "3.8.10"
  }
 },
 "nbformat": 4,
 "nbformat_minor": 5
}
